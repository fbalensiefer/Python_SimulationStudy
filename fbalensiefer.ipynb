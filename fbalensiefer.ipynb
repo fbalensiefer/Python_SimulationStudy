{
 "cells": [
  {
   "cell_type": "markdown",
   "metadata": {},
   "source": [
    "# Microeconometrics Project - Are Credit Markets Still Local? Evidence from Bank Branch Closings. "
   ]
  },
  {
   "cell_type": "markdown",
   "metadata": {},
   "source": [
    "## Introduction\n",
    "Scope of this Project is to replicate a the study **\"Are Credit Markets Still Local? Evidence from Bank Branch Closings.\"** written by **Hoai-Luu Q. Nguyen**  published in *AMERICAN ECONOMIC JOURNAL: APPLIED ECONOMICS VOL. 11, NO. 1, JANUARY 2019*. <br> <br>\n",
    "\n",
    "Data and Stata-files are provided by the American Economic Association:<br>\n",
    "<href>https://www.aeaweb.org/articles?id=10.1257/app.20170543</href><br>\n",
    "\n",
    "\n",
    "\n",
    "**Hyothesis:** Does the distance to bank branches effect credit allocation?<br>\n",
    "\n",
    "**Identification Issue:** Openings and closings of bank branches are not random assignments<br>\n",
    "\n",
    "**Idea:** Using the impact of post-merger branch closings to measure the effect on lending <br>\n",
    "          => *Key assumption:* merger decision is exogenous to local economic conditions (census tract)\n",
    "          \n",
    "**Data:**\n",
    "\n",
    "        * census tract -> macro- and household data on tract level\n",
    "        * Summary of Deposits -> branch data\n",
    "        * Report of Changes -> merger and branch closing \n",
    "        * HMDA and CRA -> lending data\n",
    "        \n",
    "**Method:** \n",
    "\n",
    "        1. IV – “exposure to post-merger consolidation” as instrument for closings\n",
    "\t    2. DiD – to compare lending in exposed and control (census) tracts in the same county \n",
    "\n",
    "*Why does the author use two methods? - to allow for heterogeneity across tracts within a county (DiD)*"
   ]
  },
  {
   "cell_type": "markdown",
   "metadata": {},
   "source": [
    "## Abstract\n",
    "*This paper studies whether distance shapes credit allocation by estimating the impact of bank branch closings during the 2000s on local access to credit. To generate plausibly exogenous variation in the incidence of closings, I use an instrument based on within-county, tract-level variation in exposure to post-merger branch consolidation. Closings lead to a persistent decline in local small business lending. Annual originations fall by 453K USD after a closing, off a baseline of 4.7 million USD, and remain depressed for up to 6 years. The effects are very localized, dissipating within 6 miles, and are especially severe during the financial crisis.*"
   ]
  },
  {
   "cell_type": "markdown",
   "metadata": {},
   "source": [
    "## Data and Methodology\n",
    "The Author uses three main data sources. First, as the main source she uses the *census tract* published by the US Census Bureau. This tracts vary in size across different regions, while containing 4000 inhabitans. <br>\n",
    "Second as to instrument exposure, she uses the data from the FDIC called *Summary of Deposits (SOD)*. This data set provides data on branches e.g. location, deposists, latitude and longitude. <br> \n",
    "Finally, data on merger activity and branch closings is provided by FDIC *Report of Changes*. Further data on loans and lenders is provided by the FFIEC *Home Mortgage Disclosure Act (HMDA)* and *Community Reinvestment Act (CRA)*<br>\n",
    "Macroeconomic data is used from the *National Establishment Time-Series (NETS)* by Walls and Associates.<br> \n",
    "Datasets are merged on bank- and tract-level by using **GIS** software to map locations. \n",
    "In the end the sample consists of tracts based on exposure to large bank mergers. Data are for the 1999-2012 period. <br> <br>\n",
    "\n",
    "In the first step the author tests whether branch closing affects local credit supply.\n",
    "Since we can not rule out potential simultaneity issues between branch closing and credit supply, the athor uses an IV approach.\n",
    "$$\\text{Close}_{it} = \\kappa_i + \\psi_t + \\rho X_{it} + \\beta_e \\text{Expose}_{it} + \\omega_{it}$$\n",
    "$$ y_{it} = \\alpha_i + \\gamma_t + \\lambda X_{it} + \\beta_c \\text{Close}_{it} + \\epsilon_{it} $$\n",
    "Further to address the issue that the decision for a merger is not turely exogenous Nguyen expands her anaylsis by an Difference-in-Differences Approach. To compare tracts who experienced a merger and tracts without (treated and control tracts/groups) within a county. \n",
    "$$y_{icmt} = \\alpha_i + (\\gamma_t \\times \\sigma_c) + X_i \\beta_t + \\sum_{\\tau} \\delta_{\\tau} (D_{mt}^{\\tau} \\times \\text{Expose}_{icm}) + \\epsilon_{icmt}$$\n",
    "Where tract $i$ in county $c$ experienced merger $m$ in year $t$. $D_{mt}^{\\tau}$ is a dummy variable equals one in year $t$ and $\\tau$ years after merger $m$ is approved. The reduced model is independent of $\\tau$, thus:\n",
    "$$y_{icmt} = \\alpha_i + (\\gamma_t \\times \\sigma_c) + X_i \\beta_t + \\delta_{\\text{POST}} (\\text{POST}_{mt} \\times \\text{Closure}_{icm}) + \\epsilon_{icmt}$$"
   ]
  },
  {
   "cell_type": "markdown",
   "metadata": {},
   "source": [
    "## Causal Graph and Identification Issues\n",
    "\n",
    "### Causal Graph \n",
    "\n",
    "![](graphs/causal_graph.png)\n",
    "\n",
    "    * D - treatment variable \"bank branch closings\"\n",
    "    * Y - dependend variable \"lending activity\"\n",
    "    * X - bank specific controls\n",
    "    * E - general economic controls\n",
    "    * L - local economic controls\n",
    "    * M - instrument \"merger activity\"\n",
    "    * U - unobserved drivers of lending activity"
   ]
  },
  {
   "cell_type": "markdown",
   "metadata": {},
   "source": [
    "### Identification \n",
    "The causal graph above pins down the relationships between banking and lending. There are multiple collider varibales, backdoorpaths, confounding varibales and reverse causality issues need to be solved to show causality. \n",
    "\n",
    "First consider our variable of interest, lending activiy. Since credit is an equilibirum concept, \n",
    "its very difficult to disentangle whether a change in lending activity is diven by a change in credit demand or supply. Second our treatment variable, bank branch closings, has an issue of reverse causality with lending activity. One can argue, that less demand for credit is affecting banks decision to close a branch in a certain location. While, we are testing whether the closing of a branch in a certain location affects credit availibility. This issues, can be solved by instrumenting bank branch closing with merger activity. The author argues, that the decision to close a branch after a merger is more driven by merger activity less then by local demand of lending. By controlling for bankspecific characteristics and general economic conditions the backdoor paths over $X$ and $E$ are blocked. Thus, the exogeneity and relevance conditions should be fullfilled.\n",
    "\n",
    "Finally, two backdoorpaths need to be blocked. Which is done by controlling for general- ($E$) and local economic ($L$) conditions.\n",
    "\n",
    "Since tracts and counties are differ in various characteristics, a concern on heterogeneity across tracts arises. The IV-approach is not able to control for such unobserved time invariante individual tract characteristics. Therefore the author expands the analysis by a difference in differences approach (DiD). This panel data method allows to account for heterogeneity. The idea is to compair treated and non-treated tracts within a county, while controlling for tract fixed-effects. General economic conditions within a county should be compairable, such that heterogeneity is not driving the results anymore. "
   ]
  },
  {
   "cell_type": "code",
   "execution_count": 6,
   "metadata": {},
   "outputs": [
    {
     "name": "stdout",
     "output_type": "stream",
     "text": [
      "\f",
      "\n",
      "The autoreload extension is already loaded. To reload it, use:\n",
      "  %reload_ext autoreload\n"
     ]
    }
   ],
   "source": [
    "%reset -f\n",
    "%clear\n",
    "%load_ext autoreload\n",
    "\n",
    "# preface loading packages required for Python Data Science\n",
    "import numpy as np\n",
    "import pandas as pd\n",
    "import statsmodels.formula.api as smf\n",
    "import statsmodels.api as sm\n",
    "from patsy import dmatrices\n",
    "import matplotlib.pyplot as plt\n",
    "from scipy import stats\n",
    "import warnings\n",
    "from auxiliary import *\n",
    "from linearmodels import PanelOLS\n",
    "from linearmodels.iv import IV2SLS\n",
    "\n",
    "%matplotlib inline"
   ]
  },
  {
   "cell_type": "markdown",
   "metadata": {},
   "source": [
    "## Replication of Summary Stats"
   ]
  },
  {
   "cell_type": "code",
   "execution_count": 2,
   "metadata": {},
   "outputs": [
    {
     "name": "stdout",
     "output_type": "stream",
     "text": [
      "                                   Buyer                                             Target  Year approved\n",
      " Manufacturers and Traders Trust Company                                      Allfirst Bank           2003\n",
      "   Bank of America, National Association                                Fleet National Bank           2004\n",
      "                      National City Bank                                 The Provident Bank           2004\n",
      "                            Regions Bank          Union Planters Bank, National Association           2004\n",
      "                     JPMorgan Chase Bank                     Bank One, National Association           2004\n",
      "                         North Fork Bank                                    GreenPoint Bank           2004\n",
      "                           SunTrust Bank                          National Bank of Commerce           2004\n",
      "     Wachovia Bank, National Association                                    SouthTrust Bank           2004\n",
      "                          Sovereign Bank                        Independence Community Bank           2006\n",
      "                            Regions Bank                                       AmSouth Bank           2006\n",
      "   Bank of America, National Association  United States Trust Company , National Associa...           2007\n",
      "            The Huntington National Bank                                           Sky Bank           2007\n",
      "   Bank of America, National Association                  LaSalle Bank National Association           2007\n"
     ]
    }
   ],
   "source": [
    "# Table 1: Merger Sample\n",
    "print(tab1().to_string(index=False))"
   ]
  },
  {
   "cell_type": "code",
   "execution_count": 3,
   "metadata": {},
   "outputs": [
    {
     "name": "stdout",
     "output_type": "stream",
     "text": [
      "               Variable   Median       Min         Max\n",
      "           Total assets 81954710  25963401  1252402412\n",
      "               Branches      696       254        5569\n",
      "    States of operation        8         1          31\n",
      " Countries of operation      182        18         692\n",
      "           Total assets 25955711  10426963   245783000\n",
      "               Branches      277        28        1482\n",
      "    States of operation        6         1          13\n",
      " Countries of operation       54         7         202\n"
     ]
    }
   ],
   "source": [
    "# Table 2: Merger Sammary Statistics\n",
    "print(tab2().to_string(index=False))"
   ]
  },
  {
   "cell_type": "code",
   "execution_count": 4,
   "metadata": {},
   "outputs": [
    {
     "name": "stdout",
     "output_type": "stream",
     "text": [
      "           Variable   Exposed  All other  p-value 01   Control  p-value 02\n",
      "         popdensity  2575.407   7206.310       0.000  6105.754       0.000\n",
      "             poptot  5761.404   4571.781       0.000  5387.571       0.013\n",
      "          medincome 44223.772  45451.951       0.304 52171.479       0.000\n",
      "          pminority     0.211      0.386       0.000     0.238       0.039\n",
      "           pcollege     0.309      0.256       0.000     0.341       0.002\n",
      "          pmortgage     0.688      0.708       0.014     0.721       0.000\n",
      "            pincome   114.473    101.963       0.000   118.616       0.149\n",
      " cont_totalbranches     5.849      1.141       0.000     3.816       0.000\n",
      "      cont_brgrowth     0.053      0.030       0.011     0.065       0.185\n",
      "   cont_NumSBL_Rev1   103.400     54.335       0.000    88.947       0.000\n",
      "  cont_total_origin   277.220    227.091       0.000   281.016       0.723\n",
      "                Obs   386.000  18027.000         nan  3087.000         nan\n"
     ]
    }
   ],
   "source": [
    "# todo add standard devidations in brackets\n",
    "# Table 3: Summary Statistics for Exposed and Control Tracts\n",
    "pd.options.display.float_format = '{:.3f}'.format\n",
    "print(tab3().to_string(index=False))"
   ]
  },
  {
   "cell_type": "code",
   "execution_count": 5,
   "metadata": {},
   "outputs": [
    {
     "name": "stdout",
     "output_type": "stream",
     "text": [
      "      Variable       All  Closings    Merger\n",
      "    popdensity  4032.403  3615.265  6166.240\n",
      "        poptot  4687.897  4941.796  5401.217\n",
      "     medincome 44829.351 45248.801 51803.494\n",
      "     pminority     0.195     0.197     0.234\n",
      "      pcollege     0.247     0.272     0.337\n",
      "     pmortgage     0.668     0.684     0.716\n",
      " totalbranches     2.611     3.893     4.095\n",
      "      brgrowth     0.125     0.153     0.071\n",
      "   NumSBL_Rev1    89.156   106.479    91.880\n",
      "  total_origin   317.562   342.827   281.857\n",
      "       pincome   104.267   106.273   119.300\n",
      "           Obs 37041.000  7768.000  3003.000\n"
     ]
    }
   ],
   "source": [
    "# Table 4: Representativeness of the Merger Sample\n",
    "pd.options.display.float_format = '{:.3f}'.format\n",
    "print(tab4().to_string(index=False))"
   ]
  },
  {
   "cell_type": "code",
   "execution_count": 6,
   "metadata": {},
   "outputs": [
    {
     "name": "stdout",
     "output_type": "stream",
     "text": [
      "          Variables  ecomp  ratio\n",
      "         popdensity 18.308  0.366\n",
      "             poptot 57.533  1.151\n",
      "          medincome 29.087  0.582\n",
      "          pminority 60.262  1.205\n",
      "           pcollege 47.011  0.940\n",
      "          pmortgage 39.219  0.784\n",
      "            pincome 41.426  0.829\n",
      " cont_totalbranches 86.497  1.730\n",
      "      cont_brgrowth 49.612  0.992\n",
      "   cont_NumSBL_Rev1 60.650  1.213\n",
      "  cont_total_origin 48.051  0.961\n"
     ]
    }
   ],
   "source": [
    "# Table 5: Complier Characteristics\n",
    "pd.options.display.float_format = '{:.3f}'.format\n",
    "print(tab5().to_string(index=False))"
   ]
  },
  {
   "cell_type": "markdown",
   "metadata": {},
   "source": [
    "## Replication of the Main Results"
   ]
  },
  {
   "cell_type": "code",
   "execution_count": 3,
   "metadata": {},
   "outputs": [
    {
     "data": {
      "image/png": "[encoded data removed]",
      "text/plain": [
       "<Figure size 432x288 with 1 Axes>"
      ]
     },
     "metadata": {
      "needs_background": "light"
     },
     "output_type": "display_data"
    }
   ],
   "source": [
    "# Figure 2: Exposure to consolidation and the incidence of branch closings\n",
    "mean=fig2()[0]\n",
    "std=fig2()[1]\n",
    "plt.errorbar(mean.index, mean, xerr=0.5, yerr=2*std, linestyle='')\n",
    "plt.title('Number of branch closings')\n",
    "plt.show()  "
   ]
  },
  {
   "cell_type": "code",
   "execution_count": 4,
   "metadata": {},
   "outputs": [],
   "source": [
    "# To list results stored by statsmodels package\n",
    "#dir(model)\n",
    "#model.summary()"
   ]
  },
  {
   "cell_type": "code",
   "execution_count": 24,
   "metadata": {},
   "outputs": [],
   "source": [
    "# Table 6: First-Stage and Reduced-Form estimates \n",
    "df = pd.read_stata('data/replication_input.dta')\n",
    "df.drop_duplicates(keep='first', inplace=True)\n",
    "df=df.assign(event_year=lambda df:df.year-df.yr_approve)\n",
    "index=list(df)\n",
    "df['group_timeID']= df.groupby(['state_fps', 'cnty_fps', 'year']).grouper.group_info[0]\n",
    "df['indivID']= df.groupby(['state_fps', 'cnty_fps', 'tractstring']).grouper.group_info[0]\n",
    "df['clustID']= df.groupby(['state_fps', 'cnty_fps']).grouper.group_info[0] \n",
    "dummy = pd.get_dummies(df['year'])\n",
    "chars = ['poptot', 'popdensity', 'pminority', 'pcollege', 'medincome', 'pincome', 'cont_totalbranches', 'cont_brgrowth'] \n",
    "for i in chars:\n",
    "    for j in range(1999,2014):\n",
    "        name=i+str(j)\n",
    "        df[name]=0\n",
    "        df[name]=df[i].loc[df['year']==j]\n",
    "        \n",
    "\n",
    "df = df.fillna(0)\n",
    "dftemp = df.filter(regex='poptot|popdensity|pminority|pcollege|medincome|pincome|cont_totalbranches|cont_brgrowth')\n",
    "dftemp = dftemp.drop(chars, axis=1)  \n",
    "controllist = list(dftemp)\n",
    "controls = \"+\".join(controllist)\n",
    "#temp = df.groupby([i, 'year']).grouper.group_info[0]       \n",
    "dftest=df.copy()\n",
    "dftest.set_index(['indivID', 'group_timeID'], inplace=True)"
   ]
  },
  {
   "cell_type": "code",
   "execution_count": 25,
   "metadata": {},
   "outputs": [
    {
     "data": {
      "text/html": [
       "<div>\n",
       "<style scoped>\n",
       "    .dataframe tbody tr th:only-of-type {\n",
       "        vertical-align: middle;\n",
       "    }\n",
       "\n",
       "    .dataframe tbody tr th {\n",
       "        vertical-align: top;\n",
       "    }\n",
       "\n",
       "    .dataframe thead th {\n",
       "        text-align: right;\n",
       "    }\n",
       "</style>\n",
       "<table border=\"1\" class=\"dataframe\">\n",
       "  <thead>\n",
       "    <tr style=\"text-align: right;\">\n",
       "      <th></th>\n",
       "      <th></th>\n",
       "      <th>state_fps</th>\n",
       "      <th>cnty_fps</th>\n",
       "      <th>mergerID</th>\n",
       "      <th>approved</th>\n",
       "      <th>acq_instname</th>\n",
       "      <th>out_instname</th>\n",
       "      <th>yr_approve</th>\n",
       "      <th>tractstring</th>\n",
       "      <th>overlap</th>\n",
       "      <th>year</th>\n",
       "      <th>...</th>\n",
       "      <th>cont_brgrowth2013</th>\n",
       "      <th>eDl</th>\n",
       "      <th>eD0</th>\n",
       "      <th>eD1</th>\n",
       "      <th>eD2</th>\n",
       "      <th>eD3</th>\n",
       "      <th>eD4</th>\n",
       "      <th>eD5</th>\n",
       "      <th>eD6</th>\n",
       "      <th>eDu</th>\n",
       "    </tr>\n",
       "    <tr>\n",
       "      <th>indivID</th>\n",
       "      <th>group_timeID</th>\n",
       "      <th></th>\n",
       "      <th></th>\n",
       "      <th></th>\n",
       "      <th></th>\n",
       "      <th></th>\n",
       "      <th></th>\n",
       "      <th></th>\n",
       "      <th></th>\n",
       "      <th></th>\n",
       "      <th></th>\n",
       "      <th></th>\n",
       "      <th></th>\n",
       "      <th></th>\n",
       "      <th></th>\n",
       "      <th></th>\n",
       "      <th></th>\n",
       "      <th></th>\n",
       "      <th></th>\n",
       "      <th></th>\n",
       "      <th></th>\n",
       "      <th></th>\n",
       "    </tr>\n",
       "  </thead>\n",
       "  <tbody>\n",
       "    <tr>\n",
       "      <th rowspan=\"5\" valign=\"top\">0</th>\n",
       "      <th>0</th>\n",
       "      <td>1.0</td>\n",
       "      <td>3.0</td>\n",
       "      <td>49.0</td>\n",
       "      <td>2006-10-20</td>\n",
       "      <td>Regions Bank</td>\n",
       "      <td>AmSouth Bank</td>\n",
       "      <td>2006.0</td>\n",
       "      <td>105</td>\n",
       "      <td>1.0</td>\n",
       "      <td>1999.0</td>\n",
       "      <td>...</td>\n",
       "      <td>0.0</td>\n",
       "      <td>1</td>\n",
       "      <td>0</td>\n",
       "      <td>0</td>\n",
       "      <td>0</td>\n",
       "      <td>0</td>\n",
       "      <td>0</td>\n",
       "      <td>0</td>\n",
       "      <td>0</td>\n",
       "      <td>0</td>\n",
       "    </tr>\n",
       "    <tr>\n",
       "      <th>1</th>\n",
       "      <td>1.0</td>\n",
       "      <td>3.0</td>\n",
       "      <td>49.0</td>\n",
       "      <td>2006-10-20</td>\n",
       "      <td>Regions Bank</td>\n",
       "      <td>AmSouth Bank</td>\n",
       "      <td>2006.0</td>\n",
       "      <td>105</td>\n",
       "      <td>1.0</td>\n",
       "      <td>2000.0</td>\n",
       "      <td>...</td>\n",
       "      <td>0.0</td>\n",
       "      <td>1</td>\n",
       "      <td>0</td>\n",
       "      <td>0</td>\n",
       "      <td>0</td>\n",
       "      <td>0</td>\n",
       "      <td>0</td>\n",
       "      <td>0</td>\n",
       "      <td>0</td>\n",
       "      <td>0</td>\n",
       "    </tr>\n",
       "    <tr>\n",
       "      <th>2</th>\n",
       "      <td>1.0</td>\n",
       "      <td>3.0</td>\n",
       "      <td>49.0</td>\n",
       "      <td>2006-10-20</td>\n",
       "      <td>Regions Bank</td>\n",
       "      <td>AmSouth Bank</td>\n",
       "      <td>2006.0</td>\n",
       "      <td>105</td>\n",
       "      <td>1.0</td>\n",
       "      <td>2001.0</td>\n",
       "      <td>...</td>\n",
       "      <td>0.0</td>\n",
       "      <td>1</td>\n",
       "      <td>0</td>\n",
       "      <td>0</td>\n",
       "      <td>0</td>\n",
       "      <td>0</td>\n",
       "      <td>0</td>\n",
       "      <td>0</td>\n",
       "      <td>0</td>\n",
       "      <td>0</td>\n",
       "    </tr>\n",
       "    <tr>\n",
       "      <th>3</th>\n",
       "      <td>1.0</td>\n",
       "      <td>3.0</td>\n",
       "      <td>49.0</td>\n",
       "      <td>2006-10-20</td>\n",
       "      <td>Regions Bank</td>\n",
       "      <td>AmSouth Bank</td>\n",
       "      <td>2006.0</td>\n",
       "      <td>105</td>\n",
       "      <td>1.0</td>\n",
       "      <td>2002.0</td>\n",
       "      <td>...</td>\n",
       "      <td>0.0</td>\n",
       "      <td>1</td>\n",
       "      <td>0</td>\n",
       "      <td>0</td>\n",
       "      <td>0</td>\n",
       "      <td>0</td>\n",
       "      <td>0</td>\n",
       "      <td>0</td>\n",
       "      <td>0</td>\n",
       "      <td>0</td>\n",
       "    </tr>\n",
       "    <tr>\n",
       "      <th>4</th>\n",
       "      <td>1.0</td>\n",
       "      <td>3.0</td>\n",
       "      <td>49.0</td>\n",
       "      <td>2006-10-20</td>\n",
       "      <td>Regions Bank</td>\n",
       "      <td>AmSouth Bank</td>\n",
       "      <td>2006.0</td>\n",
       "      <td>105</td>\n",
       "      <td>1.0</td>\n",
       "      <td>2003.0</td>\n",
       "      <td>...</td>\n",
       "      <td>0.0</td>\n",
       "      <td>1</td>\n",
       "      <td>0</td>\n",
       "      <td>0</td>\n",
       "      <td>0</td>\n",
       "      <td>0</td>\n",
       "      <td>0</td>\n",
       "      <td>0</td>\n",
       "      <td>0</td>\n",
       "      <td>0</td>\n",
       "    </tr>\n",
       "  </tbody>\n",
       "</table>\n",
       "<p>5 rows × 171 columns</p>\n",
       "</div>"
      ],
      "text/plain": [
       "                      state_fps  cnty_fps  mergerID   approved  acq_instname  \\\n",
       "indivID group_timeID                                                           \n",
       "0       0                   1.0       3.0      49.0 2006-10-20  Regions Bank   \n",
       "        1                   1.0       3.0      49.0 2006-10-20  Regions Bank   \n",
       "        2                   1.0       3.0      49.0 2006-10-20  Regions Bank   \n",
       "        3                   1.0       3.0      49.0 2006-10-20  Regions Bank   \n",
       "        4                   1.0       3.0      49.0 2006-10-20  Regions Bank   \n",
       "\n",
       "                      out_instname  yr_approve tractstring  overlap    year  \\\n",
       "indivID group_timeID                                                          \n",
       "0       0             AmSouth Bank      2006.0         105      1.0  1999.0   \n",
       "        1             AmSouth Bank      2006.0         105      1.0  2000.0   \n",
       "        2             AmSouth Bank      2006.0         105      1.0  2001.0   \n",
       "        3             AmSouth Bank      2006.0         105      1.0  2002.0   \n",
       "        4             AmSouth Bank      2006.0         105      1.0  2003.0   \n",
       "\n",
       "                      ...  cont_brgrowth2013  eDl  eD0  eD1  eD2  eD3  eD4  \\\n",
       "indivID group_timeID  ...                                                    \n",
       "0       0             ...                0.0    1    0    0    0    0    0   \n",
       "        1             ...                0.0    1    0    0    0    0    0   \n",
       "        2             ...                0.0    1    0    0    0    0    0   \n",
       "        3             ...                0.0    1    0    0    0    0    0   \n",
       "        4             ...                0.0    1    0    0    0    0    0   \n",
       "\n",
       "                      eD5  eD6  eDu  \n",
       "indivID group_timeID                 \n",
       "0       0               0    0    0  \n",
       "        1               0    0    0  \n",
       "        2               0    0    0  \n",
       "        3               0    0    0  \n",
       "        4               0    0    0  \n",
       "\n",
       "[5 rows x 171 columns]"
      ]
     },
     "execution_count": 25,
     "metadata": {},
     "output_type": "execute_result"
    }
   ],
   "source": [
    "dftest['eDl']=0\n",
    "dftest['eDl'].loc[(dftest['event_year']<-1) & dftest['overlap']==1]=1\n",
    "for i in range(0,7):\n",
    "    dum='eD'+str(i)\n",
    "    dftest[dum]=0\n",
    "    dftest[dum].loc[(dftest['event_year']==i) & dftest['overlap']==1]=1\n",
    "\n",
    "dftest['eDu']=0\n",
    "dftest['eDu'].loc[(dftest['event_year']>6) & dftest['overlap']==1]=1\n",
    "dummylist=list(dftest.filter(regex='eD'))\n",
    "dummies=\"+\".join(dummylist)\n",
    "#model = 'num_closings ~ C(indivID)+C(group_timeID)+'+controls+'+'+dummies\n",
    "exog = dummylist + controllist\n",
    "\n",
    "#mod = PanelOLS(dftest.num_closings, dftest[exog], entity_effects=True, time_effects=True)\n",
    "#res = mod.fit(cov_type='clustered', cluster_entity=True)\n",
    "\n",
    "#dftest.to_csv('test_csv.csv')\n",
    "#print(res.params)\n",
    "dftest.head()"
   ]
  },
  {
   "cell_type": "code",
   "execution_count": 26,
   "metadata": {},
   "outputs": [],
   "source": [
    "## estimates of column 1 (number of closings)\n",
    "est_numclose= pd.DataFrame(columns=['beta', 'SE'], index=range(-1, 8))\n",
    "beta=pd.DataFrame(index=range(-1, 8))\n",
    "std=pd.DataFrame(index=range(-1, 8))\n",
    "for i in range(-1, 8):\n",
    "    df['D'] = 0\n",
    "    df.loc[df['event_year'] >= i , 'D'] = 1\n",
    "    temp=df.loc[(df['event_year']==i) & df['overlap']==1]\n",
    "    model = smf.ols(formula='num_closings ~ D + C(indivID) + C(group_timeID)+'+ controls, data=temp).fit()\n",
    "    #model = smf.ols(formula='num_closings ~ D + popdensity + poptot + medincome + pminority + pcollege +  cont_totalbranches + cont_brgrowth + C(indivID) + C(group_timeID)', data=temp).fit(cov_type='cluster', cov_kwds={'groups': df['clustID']})\n",
    "    #print(model.summary())\n",
    "    beta[i]=model.params['D']\n",
    "    std[i]=model.HC0_se['D']\n",
    "pd.options.display.float_format = '{:.3f}'.format\n",
    "est_numclose['beta']=beta.T\n",
    "est_numclose['SE']=std.T"
   ]
  },
  {
   "cell_type": "code",
   "execution_count": 27,
   "metadata": {},
   "outputs": [],
   "source": [
    "## estimates of column 2 (total branches)\n",
    "est_totalbranches= pd.DataFrame(columns=['beta', 'SE'], index=range(-1, 8))\n",
    "beta=pd.DataFrame(index=range(-1, 8))\n",
    "std=pd.DataFrame(index=range(-1, 8))\n",
    "for i in range(-1, 8):\n",
    "    df['D'] = 0\n",
    "    df.loc[df['event_year'] >= i , 'D'] = 1\n",
    "    temp=df.loc[(df['event_year']==i) & df['overlap']==1]\n",
    "    model = smf.ols(formula='totalbranches ~ D + C(indivID) + C(group_timeID)+'+controls, data=temp).fit()\n",
    "    #print(model.summary())\n",
    "    beta[i]=model.params['D']\n",
    "    std[i]=model.HC0_se['D']\n",
    "pd.options.display.float_format = '{:.3f}'.format\n",
    "est_totalbranches['beta']=beta.T\n",
    "est_totalbranches['SE']=std.T"
   ]
  },
  {
   "cell_type": "code",
   "execution_count": 28,
   "metadata": {},
   "outputs": [],
   "source": [
    "## estimates of column 3 (SBL origin)\n",
    "est_SBLorigin= pd.DataFrame(columns=['beta', 'SE'], index=range(-1, 8))\n",
    "beta=pd.DataFrame(index=range(-1, 8))\n",
    "std=pd.DataFrame(index=range(-1, 8))\n",
    "for i in range(-1, 8):\n",
    "    df['D'] = 0\n",
    "    df.loc[df['event_year'] >= i , 'D'] = 1\n",
    "    temp=df.loc[(df['event_year']==i) & df['overlap']==1]\n",
    "    model = smf.ols(formula='NumSBL_Rev1 ~ D + C(indivID) + C(group_timeID)+'+controls, data=temp).fit()\n",
    "    #print(model.summary())\n",
    "    beta[i]=model.params['D']\n",
    "    std[i]=model.HC0_se['D']\n",
    "pd.options.display.float_format = '{:.3f}'.format\n",
    "est_SBLorigin['beta']=beta.T\n",
    "est_SBLorigin['SE']=std.T"
   ]
  },
  {
   "cell_type": "code",
   "execution_count": 29,
   "metadata": {},
   "outputs": [],
   "source": [
    "## estimates of column 4 (Mortgage origin)\n",
    "est_Morigin= pd.DataFrame(columns=['beta', 'SE'], index=range(-1, 8))\n",
    "beta=pd.DataFrame(index=range(-1, 8))\n",
    "std=pd.DataFrame(index=range(-1, 8))\n",
    "for i in range(-1, 8):\n",
    "    df['D'] = 0\n",
    "    df.loc[df['event_year'] >= i , 'D'] = 1\n",
    "    temp=df.loc[(df['event_year']==i) & df['overlap']==1]\n",
    "    model = smf.ols(formula='total_origin ~ D  + C(indivID) + C(group_timeID)+'+controls, data=temp).fit()\n",
    "    #print(model.summary())\n",
    "    beta[i]=model.params['D']\n",
    "    std[i]=model.HC0_se['D']\n",
    "pd.options.display.float_format = '{:.3f}'.format\n",
    "est_Morigin['beta']=beta.T\n",
    "est_Morigin['SE']=std.T"
   ]
  },
  {
   "cell_type": "code",
   "execution_count": 30,
   "metadata": {},
   "outputs": [
    {
     "name": "stdout",
     "output_type": "stream",
     "text": [
      "estimated effect: \n",
      " \n",
      " delta  Num_closings  Total_branches  SBL_origin  Mortgage_origin\n",
      "  <-1         0.019           0.004      24.230           83.808\n",
      "    0         0.166          -0.060      24.891           43.479\n",
      "    1         0.154          -0.539      31.360           71.368\n",
      "    2         0.034          -0.727      30.545           38.234\n",
      "    3        -0.066           0.382      24.253            0.322\n",
      "    4        -0.054           0.462       9.850          -22.574\n",
      "    5        -0.087           0.561      -8.736          -33.090\n",
      "    6        -0.007           0.610      -8.107          -30.923\n",
      "   >6        -0.065           0.285       0.657          -37.022\n",
      "\n",
      " \n",
      " estimated std: \n",
      " \n",
      " delta  Num_closings  Total_branches  SBL_origin  Mortgage_origin\n",
      "  <-1         0.000           0.000       0.000            0.000\n",
      "    0         0.000           0.000       0.000            0.000\n",
      "    1         0.000           0.000       0.000            0.000\n",
      "    2         0.000           0.000       0.000            0.000\n",
      "    3         0.000           0.000       0.000            0.000\n",
      "    4         0.000           0.000       0.000            0.000\n",
      "    5         0.000           0.000       0.000            0.000\n",
      "    6         0.000           0.000       0.000            0.000\n",
      "   >6         0.000           0.000       0.000            0.000\n"
     ]
    }
   ],
   "source": [
    "## finish table 6 by producing a df containing all estimates\n",
    "df_t= pd.DataFrame(columns=['delta', 'Num_closings', 'Total_branches', 'SBL_origin', 'Mortgage_origin'], index=range(-1, 8))\n",
    "df_t['Num_closings']      = est_numclose['beta']\n",
    "df_t['Total_branches']    = est_totalbranches['beta']\n",
    "df_t['SBL_origin']        = est_SBLorigin['beta']\n",
    "df_t['Mortgage_origin']   = est_Morigin['beta']\n",
    "df_t['delta']=['<-1','0','1','2','3','4','5','6','>6']\n",
    "print('estimated effect:','\\n \\n', df_t.to_string(index=False))\n",
    "\n",
    "df_tse= pd.DataFrame(columns=['delta', 'Num_closings', 'Total_branches', 'SBL_origin', 'Mortgage_origin'], index=range(-1, 8))\n",
    "df_tse['Num_closings']      = est_numclose['SE']\n",
    "df_tse['Total_branches']    = est_totalbranches['SE']\n",
    "df_tse['SBL_origin']        = est_SBLorigin['SE']\n",
    "df_tse['Mortgage_origin']   = est_Morigin['SE']\n",
    "df_tse['delta']=['<-1','0','1','2','3','4','5','6','>6']\n",
    "print('\\n \\n','estimated std:','\\n \\n', df_tse.to_string(index=False))"
   ]
  },
  {
   "cell_type": "code",
   "execution_count": 5,
   "metadata": {},
   "outputs": [
    {
     "data": {
      "image/png": "[encoded data removed]",
      "text/plain": [
       "<Figure size 432x288 with 1 Axes>"
      ]
     },
     "metadata": {
      "needs_background": "light"
     },
     "output_type": "display_data"
    }
   ],
   "source": [
    "# Figure 3: Exposure to consolidation and local branch levels\n",
    "mean=fig3()[0]\n",
    "std=fig3()[1]\n",
    "plt.errorbar(mean.index, mean, xerr=0.5, yerr=2*std, linestyle='')\n",
    "plt.title('Total branches')\n",
    "plt.show()  "
   ]
  },
  {
   "cell_type": "code",
   "execution_count": 2,
   "metadata": {},
   "outputs": [
    {
     "data": {
      "text/plain": [
       "Text(0.5, 1.0, 'New Mortgages')"
      ]
     },
     "execution_count": 2,
     "metadata": {},
     "output_type": "execute_result"
    },
    {
     "data": {
      "image/png": "[encoded data removed]",
      "text/plain": [
       "<Figure size 432x288 with 2 Axes>"
      ]
     },
     "metadata": {
      "needs_background": "light"
     },
     "output_type": "display_data"
    }
   ],
   "source": [
    "# Figure 4: Exposure to consolidation and the volume of new lending\n",
    "mean1=fig4()[0]\n",
    "std1=fig4()[1]\n",
    "mean2=fig4()[2]\n",
    "std2=fig4()[3]\n",
    "plt.figure()\n",
    "plt.subplot(2,2,1)\n",
    "plt.errorbar(mean1.index, mean1, xerr=0.5, yerr=2*std1, linestyle='')\n",
    "plt.title('New Small Business loans')\n",
    "#plt.show() \n",
    "plt.subplot(2,2,2)\n",
    "plt.errorbar(mean2.index, mean2, xerr=0.5, yerr=2*std2, linestyle='')\n",
    "plt.title('New Mortgages')\n",
    "#plt.show() "
   ]
  },
  {
   "cell_type": "code",
   "execution_count": 7,
   "metadata": {},
   "outputs": [
    {
     "data": {
      "text/plain": [
       "Text(0.5, 1.0, 'New Mortgages')"
      ]
     },
     "execution_count": 7,
     "metadata": {},
     "output_type": "execute_result"
    },
    {
     "data": {
      "image/png": "[encoded data removed]",
      "text/plain": [
       "<Figure size 432x288 with 2 Axes>"
      ]
     },
     "metadata": {
      "needs_background": "light"
     },
     "output_type": "display_data"
    }
   ],
   "source": [
    "# Figure 5: The effect of subsequent bank entry on local credit supply\n",
    "plt.figure()\n",
    "# Hide warnings\n",
    "warnings.filterwarnings(\"ignore\")\n",
    "\n",
    "## Small Business Lending\n",
    "df = pd.read_stata('data/replication_input.dta')\n",
    "df.drop_duplicates(keep='first', inplace=True)\n",
    "df=df.assign(event_year=lambda df:df.year-df.yr_approve)\n",
    "index=list(df)\n",
    "dfmean = pd.DataFrame(columns=range(-8, 10), index=index)\n",
    "#df['NumSBL_Rev1']=(df['NumSBL_Rev1']-df['NumSBL_Rev1'].mean())/df['NumSBL_Rev1'].std()\n",
    "df['NumSBL_Rev1']=(df['NumSBL_Rev1']-df['NumSBL_Rev1'].min())/(df['NumSBL_Rev1'].max()-df['NumSBL_Rev1'].min())\n",
    "df['totalbranches']=(df['totalbranches']-df['totalbranches'].min())/(df['totalbranches'].max()-df['totalbranches'].min())\n",
    "for i in range(-8, 11):\n",
    "    dfmean[i]=df.loc[(df['event_year']==i) & df['overlap']==1].mean()\n",
    "dfmean=dfmean.T\n",
    "mean=dfmean['NumSBL_Rev1']\n",
    "plt.subplot(2,2,1)\n",
    "plt.scatter(mean.index, mean)\n",
    "plt.subplot(2,2,1)\n",
    "plt.scatter(mean.index, dfmean['totalbranches'])\n",
    "plt.legend(loc='upper center', bbox_to_anchor=(0.5, -0.15))\n",
    "plt.title('New Small Business loans')\n",
    "#plt.show() \n",
    "\n",
    "## Mortgages\n",
    "df = pd.read_stata('data/replication_input.dta')\n",
    "df.drop_duplicates(keep='first', inplace=True)\n",
    "df=df.assign(event_year=lambda df:df.year-df.yr_approve)\n",
    "index=list(df)\n",
    "dfmean = pd.DataFrame(columns=range(-8, 10), index=index)\n",
    "#df['total_origin']=(df['total_origin']-df['total_origin'].mean())/df['total_origin'].std()\n",
    "df['total_origin']=(df['total_origin']-df['total_origin'].min())/(df['total_origin'].max()-df['total_origin'].min())\n",
    "df['totalbranches']=(df['totalbranches']-df['totalbranches'].min())/(df['totalbranches'].max()-df['totalbranches'].min())\n",
    "for i in range(-8, 11):\n",
    "    dfmean[i]=df.loc[(df['event_year']==i) & df['overlap']==1].mean()\n",
    "dfmean=dfmean.T\n",
    "mean=dfmean['total_origin']\n",
    "plt.subplot(2,2,2)\n",
    "plt.scatter(mean.index, mean)\n",
    "plt.subplot(2,2,2)\n",
    "plt.scatter(mean.index, dfmean['totalbranches'])\n",
    "plt.legend(loc='upper center', bbox_to_anchor=(0.5, -0.15))\n",
    "plt.title('New Mortgages')\n",
    "#plt.show() "
   ]
  },
  {
   "cell_type": "code",
   "execution_count": 46,
   "metadata": {},
   "outputs": [],
   "source": [
    "# Table 7: IV-Estimates of the effect of closings an local credit supply\n",
    "df = pd.read_stata('data/replication_input.dta')\n",
    "df.drop_duplicates(keep='first', inplace=True)\n",
    "df=df.assign(event_year=lambda df:df.year-df.yr_approve)\n",
    "index=list(df)\n",
    "df['close_2yr']=0\n",
    "df['close_2yr']=df['closed_branch'].loc[(df.event_year==0) | (df.event_year==1)]\n",
    "df['close_2yr'].fillna(0, inplace=True)\n",
    "df['POST']=df['event_year'].loc[df.event_year>0]\n",
    "df['POST_close']=df.POST * df.close_2yr\n",
    "df['POST_expose']= df.POST * df.overlap \n",
    "\n",
    "df['group_timeID']= df.groupby(['state_fps', 'cnty_fps', 'year']).grouper.group_info[0]\n",
    "df['indivID']= df.groupby(['state_fps', 'cnty_fps', 'tractstring']).grouper.group_info[0]\n",
    "df['clustID']= df.groupby(['state_fps', 'cnty_fps']).grouper.group_info[0] \n",
    "\n",
    "dummy = pd.get_dummies(df['year'])\n",
    "chars = ['poptot', 'popdensity', 'pminority', 'pcollege', 'medincome', 'pincome', 'cont_totalbranches', 'cont_brgrowth'] \n",
    "for i in chars:\n",
    "    for j in range(1999,2014):\n",
    "        name=i+str(j)\n",
    "        df[name]=0\n",
    "        df[name]=df[i].loc[df['year']==j]\n",
    "        \n",
    "dftemp = df.filter(regex='poptot|popdensity|pminority|pcollege|medincome|pincome|cont_totalbranches|cont_brgrowth')\n",
    "dftemp = dftemp.drop(chars, axis=1)  \n",
    "controllist = list(dftemp)\n",
    "controls = \"+\".join(controllist)\n",
    "df[controllist] = df[controllist].fillna(0)\n",
    "#df.set_index(['indivID', 'group_timeID'], inplace=True)"
   ]
  },
  {
   "cell_type": "code",
   "execution_count": 47,
   "metadata": {},
   "outputs": [],
   "source": [
    "#pd.options.display.max_columns = df.shape[1]\n",
    "\n",
    "#model1 = smf.ols(formula='NumSBL_Rev1 ~ POST_close + C(indivID) + C(group_timeID)+'+controls, data=df).fit()\n",
    "#print(model1.params['POST_close']) THE RESULT: 3.00338 BUT should be -2.143\n",
    "\n",
    "# Idea: try to implement within transformation\n",
    "#df['NumSBL_Rev1_T']=df.groupby('indivID')['NumSBL_Rev1']-df.groupby('indivID')['NumSBL_Rev1'].sum()/df.groupby('indivID')['indivID'].count()\n",
    "#model1 = smf.ols(formula='NumSBL_Rev1_T ~ POST_close + C(group_timeID)+'+controls, data=df).fit()\n",
    "#print(model1.params['POST_close'])\n",
    "\n",
    "# Again Try PanelOLS package\n",
    "inID = pd.Categorical(df.indivID)\n",
    "grID = pd.Categorical(df.group_timeID)\n",
    "df = df.set_index(['indivID', 'group_timeID'])\n",
    "df['inID'] = inID\n",
    "df['grID'] = grID\n",
    "exog_vars = controllist\n",
    "exog_vars.append('POST_close')\n",
    "exog = sm.add_constant(df[exog_vars])\n",
    "#mod = PanelOLS(df.NumSBL_Rev1, exog)\n",
    "#re_res = mod.fit()\n",
    "#print(re_res)"
   ]
  },
  {
   "cell_type": "raw",
   "metadata": {},
   "source": [
    "## OLS\n",
    "# NumSBL_Rev1\n",
    "model1 = smf.ols(formula='NumSBL_Rev1 ~ POST_close + C(indivID) + C(group_timeID)+'+controls, data=df).fit()\n",
    "print(model1.summary())\n",
    "\n",
    "# AmtSBL_Rev1\n",
    "model2 = smf.ols(formula='AmtSBL_Rev1 ~ POST_close + C(indivID) + C(group_timeID)+'+controls, data=df).fit()\n",
    "print(model2.summary())\n",
    "\n",
    "# total_origin\n",
    "model3 = smf.ols(formula='total_origin ~ POST_close + C(indivID) + C(group_timeID)+'+controls, data=df).fit()\n",
    "print(model3.summary())\n",
    "\n",
    "# loan_amount\n",
    "model4 = smf.ols(formula='loan_amount ~ POST_close + C(indivID) + C(group_timeID)+'+controls, data=df).fit()\n",
    "print(model4.summary())"
   ]
  },
  {
   "cell_type": "raw",
   "metadata": {},
   "source": [
    "## Reduced Form\n",
    "    # NumSBL_Rev1\n",
    "    y, x = dmatrices('total_origin ~ POST_expose + popdensity + poptot + medincome + pminority + pcollege +  cont_totalbranches + cont_brgrowth', data=df)\n",
    "    model_spec = sm.OLS(y, x)\n",
    "    results = model_spec.fit(cov_type='HAC',cov_kwds={'maxlags':1})\n",
    "    #model_spec = PanelOLS(temp.total_origin, temp[['D', 'popdensity', 'poptot', 'medincome', 'pminority', 'pcollege', 'cont_totalbranches', 'cont_brgrowth']], entity_effects=True)\n",
    "    #results = model_spec.fit(cov_type='clustered', cluster_entity=True)\n",
    "    print(results.summary())\n",
    "\n",
    "    # AmtSBL_Rev1\n",
    "    y, x = dmatrices('AmtSBL_Rev1 ~ POST_expose + popdensity + poptot + medincome + pminority + pcollege +  cont_totalbranches + cont_brgrowth', data=df)\n",
    "    model_spec = sm.OLS(y, x)\n",
    "    results = model_spec.fit(cov_type='HAC',cov_kwds={'maxlags':1})\n",
    "    #model_spec = PanelOLS(temp.total_origin, temp[['D', 'popdensity', 'poptot', 'medincome', 'pminority', 'pcollege', 'cont_totalbranches', 'cont_brgrowth']], entity_effects=True)\n",
    "    #results = model_spec.fit(cov_type='clustered', cluster_entity=True)\n",
    "    print(results.summary())\n",
    "\n",
    "    # total_origin\n",
    "    y, x = dmatrices('total_origin ~ POST_expose + popdensity + poptot + medincome + pminority + pcollege +  cont_totalbranches + cont_brgrowth', data=df)\n",
    "    model_spec = sm.OLS(y, x)\n",
    "    results = model_spec.fit(cov_type='HAC',cov_kwds={'maxlags':1})\n",
    "    #model_spec = PanelOLS(temp.total_origin, temp[['D', 'popdensity', 'poptot', 'medincome', 'pminority', 'pcollege', 'cont_totalbranches', 'cont_brgrowth']], entity_effects=True)\n",
    "    #results = model_spec.fit(cov_type='clustered', cluster_entity=True)\n",
    "    print(results.summary())\n",
    "\n",
    "    # loan_amount\n",
    "    y, x = dmatrices('loan_amount ~ POST_expose + popdensity + poptot + medincome + pminority + pcollege +  cont_totalbranches + cont_brgrowth', data=df)\n",
    "    model_spec = sm.OLS(y, x)\n",
    "    results = model_spec.fit(cov_type='HAC',cov_kwds={'maxlags':1})\n",
    "    #model_spec = PanelOLS(temp.total_origin, temp[['D', 'popdensity', 'poptot', 'medincome', 'pminority', 'pcollege', 'cont_totalbranches', 'cont_brgrowth']], entity_effects=True)\n",
    "    #results = model_spec.fit(cov_type='clustered', cluster_entity=True)\n",
    "    print(results.summary())"
   ]
  },
  {
   "cell_type": "raw",
   "metadata": {},
   "source": [
    "## IV ESTIMATION\n",
    "    # NumSBL_Rev1 - IV2SLS.from_formula()\n",
    "    y, x = dmatrices('NumSBL_Rev1 ~ popdensity + poptot + medincome + pminority + pcollege +  cont_totalbranches + cont_brgrowth + [POST_close ~ POST_expose]', data=df)\n",
    "    model_spec = sm.OLS(y, x)\n",
    "    results = model_spec.fit(cov_type='HAC',cov_kwds={'maxlags':1})\n",
    "    #model_spec = PanelOLS(temp.total_origin, temp[['D', 'popdensity', 'poptot', 'medincome', 'pminority', 'pcollege', 'cont_totalbranches', 'cont_brgrowth']], entity_effects=True)\n",
    "    #results = model_spec.fit(cov_type='clustered', cluster_entity=True)\n",
    "    print(results.summary())\n",
    "\n",
    "    # AmtSBL_Rev1\n",
    "    y, x = dmatrices('AmtSBL_Rev1 ~ popdensity + poptot + medincome + pminority + pcollege +  cont_totalbranches + cont_brgrowth + [POST_close ~ POST_expose]', data=df)\n",
    "    model_spec = sm.OLS(y, x)\n",
    "    results = model_spec.fit(cov_type='HAC',cov_kwds={'maxlags':1})\n",
    "    #model_spec = PanelOLS(temp.total_origin, temp[['D', 'popdensity', 'poptot', 'medincome', 'pminority', 'pcollege', 'cont_totalbranches', 'cont_brgrowth']], entity_effects=True)\n",
    "    #results = model_spec.fit(cov_type='clustered', cluster_entity=True)\n",
    "    print(results.summary())\n",
    "\n",
    "    # total_origin\n",
    "    y, x = dmatrices('total_origin ~ popdensity + poptot + medincome + pminority + pcollege +  cont_totalbranches + cont_brgrowth + [POST_close ~ POST_expose]', data=df)\n",
    "    model_spec = sm.OLS(y, x)\n",
    "    results = model_spec.fit(cov_type='HAC',cov_kwds={'maxlags':1})\n",
    "    #model_spec = PanelOLS(temp.total_origin, temp[['D', 'popdensity', 'poptot', 'medincome', 'pminority', 'pcollege', 'cont_totalbranches', 'cont_brgrowth']], entity_effects=True)\n",
    "    #results = model_spec.fit(cov_type='clustered', cluster_entity=True)\n",
    "    print(results.summary())\n",
    "\n",
    "    # loan_amount\n",
    "    y, x = dmatrices('loan_amount ~ popdensity + poptot + medincome + pminority + pcollege +  cont_totalbranches + cont_brgrowth + [POST_close ~ POST_expose]', data=df)\n",
    "    model_spec = sm.OLS(y, x)\n",
    "    results = model_spec.fit(cov_type='HAC',cov_kwds={'maxlags':1})\n",
    "    #model_spec = PanelOLS(temp.total_origin, temp[['D', 'popdensity', 'poptot', 'medincome', 'pminority', 'pcollege', 'cont_totalbranches', 'cont_brgrowth']], entity_effects=True)\n",
    "    #results = model_spec.fit(cov_type='clustered', cluster_entity=True)\n",
    "    print(results.summary())"
   ]
  },
  {
   "cell_type": "markdown",
   "metadata": {},
   "source": [
    "## Simulation Study\n",
    "\n",
    "The general idea of this section is to test the identification framework with a stylized simulated Dataset. "
   ]
  },
  {
   "cell_type": "code",
   "execution_count": 14,
   "metadata": {},
   "outputs": [
    {
     "name": "stdout",
     "output_type": "stream",
     "text": [
      "The naiv approach, which should be biased \n",
      " Estimated effect: 1.9067 and std. error: 0.0051\n",
      "The reduced form (DD) with merger as instrument \n",
      " Estimated effect: 0.4815 and std. error: 0.0515\n",
      "The reduced form (DD) with merger as instrument and control variables \n",
      " Estimated effect: 0.4812 and std. error: 0.0515\n",
      "Note: the true effect is 0.5 thus the authors framework should yield reliable results\n"
     ]
    }
   ],
   "source": [
    "np.random.seed(123)\n",
    "df=panel_sample()\n",
    "df.to_csv('panel_sample.csv')\n",
    "df['DD']=df.M*df.Exp\n",
    "\n",
    "mod = PanelOLS(df.Y, df['D'], entity_effects=True, time_effects=True)\n",
    "res = mod.fit(cov_type='clustered', cluster_entity=True)\n",
    "print('The naiv approach, which should be biased \\n Estimated effect: %2.4f and std. error: %2.4f' %(res.params,res.std_errors))\n",
    "\n",
    "#mod = IV2SLS.from_formula('Y ~ [D ~ Exp]', data=df)\n",
    "#res = mod.fit(cov_type='clustered', cluster_entity=True)\n",
    "#print('The naiv IV approach, which should be biased \\n Estimated effect: %2.4f and std. error: %2.4f' %(res.params,res.std_errors))\n",
    "\n",
    "mod = PanelOLS(df.Y, df['DD'], entity_effects=True, time_effects=True)\n",
    "res = mod.fit(cov_type='clustered', cluster_entity=True)\n",
    "print('The reduced form (DD) with merger as instrument \\n Estimated effect: %2.4f and std. error: %2.4f' %(res.params,res.std_errors))\n",
    "\n",
    "mod = PanelOLS(df.Y, df[['DD','X','L','E']], entity_effects=True, time_effects=True)\n",
    "res = mod.fit(cov_type='clustered', cluster_entity=True)\n",
    "print('The reduced form (DD) with merger as instrument and control variables \\n Estimated effect: %2.4f and std. error: %2.4f' %(res.params[0],res.std_errors[0]))\n",
    "print('Note: the true effect is 0.5 thus the authors framework should yield reliable results')"
   ]
  },
  {
   "cell_type": "markdown",
   "metadata": {},
   "source": [
    "## References"
   ]
  },
  {
   "cell_type": "markdown",
   "metadata": {},
   "source": [
    "*Degryse, H., & Ongena, S. (2005). Distance, lending relationships, and competition. The Journal of Finance, 60(1), 231-266.*\n",
    "\n",
    "*Frölich, M., & Sperlich, S. (2019). Impact evaluation. Cambridge University Press.*\n",
    "\n",
    "*Nguyen, H. L. Q. (2019). Are credit markets still local? evidence from bank branch closings. American Economic Journal: Applied Economics, 11(1), 1-32.*\n",
    "\n",
    "*Petersen, M. A., & Rajan, R. G. (2002). Does distance still matter? The information revolution in small business lending. The journal of Finance, 57(6), 2533-2570.*\n",
    "\n",
    "*Wooldridge, J. M. (2015). Introductory econometrics: A modern approach. Nelson Education.*"
   ]
  }
 ],
 "metadata": {
  "kernelspec": {
   "display_name": "Python 3",
   "language": "python",
   "name": "python3"
  },
  "language_info": {
   "codemirror_mode": {
    "name": "ipython",
    "version": 3
   },
   "file_extension": ".py",
   "mimetype": "text/x-python",
   "name": "python",
   "nbconvert_exporter": "python",
   "pygments_lexer": "ipython3",
   "version": "3.7.3"
  }
 },
 "nbformat": 4,
 "nbformat_minor": 4
}
