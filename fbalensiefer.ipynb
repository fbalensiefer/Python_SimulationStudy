{
 "cells": [
  {
   "cell_type": "markdown",
   "metadata": {},
   "source": [
    "# Microeconometrics Project by Fabian Balensiefer - 'Are Credit Markets Still Local? Evidence from Bank Branch Closings'"
   ]
  },
  {
   "cell_type": "markdown",
   "metadata": {},
   "source": [
    "## Quick Reference\n",
    "Scope of this project is to replicate a the study **\"Are Credit Markets Still Local? Evidence from Bank Branch Closings.\"** written by **Hoai-Luu Q. Nguyen**  published in *AMERICAN ECONOMIC JOURNAL: APPLIED ECONOMICS VOL. 11, NO. 1, JANUARY 2019*. <br> <br>\n",
    "\n",
    "Data and stata-files are provided by the American Economic Association:<br>\n",
    "<href>https://www.aeaweb.org/articles?id=10.1257/app.20170543</href><br>\n",
    "\n",
    "\n",
    "\n",
    "**Hyothesis:** Does the distance to bank branches effect credit allocation?<br>\n",
    "\n",
    "**Identification Issue:** Openings and closings of bank branches are not random assignments<br>\n",
    "\n",
    "**Idea:** Using the impact of post-merger branch closings to measure the effect on lending <br>\n",
    "          => *Key assumption:* merger decision is exogenous to local economic conditions (census tract)\n",
    "          \n",
    "**Data:**\n",
    "\n",
    "        * census tract -> macro- and household data on tract level\n",
    "        * Summary of Deposits -> bank branch data\n",
    "        * Report of Changes -> merger and branch closing \n",
    "        * HMDA and CRA -> lending data\n",
    "        \n",
    "**Method:** \n",
    "\n",
    "        1. IV – “exposure to post-merger consolidation” as instrument for closings\n",
    "        2. DiD – to compare lending in exposed and control (census) tracts in the same county \n",
    "\n",
    "*Why does the author use two methods? - to allow for heterogeneity across tracts within a county (DiD)*"
   ]
  },
  {
   "cell_type": "markdown",
   "metadata": {},
   "source": [
    "## Brief summary of Nguyen (2019)\n",
    "\n",
    "The paper “Are Credit Markets Still Local? Evidence from Bank Branch Closings” by Nguyen (2019) established a novel approach for estimating the causal impact of bank branch closings on credit supply at branch level. Motivated by the question whether technological progress have changed the access to credit she is interested in estimating the local average treatment effect of bank branch closings. While other research focus on aggregate system wide shocks, Nguyen (2019) concentrates on a local approach. Thus, she is able to control for unobserved heterogeneity across different regions. \n",
    "\n",
    "Nguyen (2019) combines national data from four different sources. First, macro- and household data on tract level is provided by the census bureau. Data on bank branches are published in the Summary of Deposits, while merger and bank branch closings are recorded in the Report of Changes (both by FDIC). Lending data for private lending/ mortgages (HMDA) and commercial lending (CRA) came from the FFIEC. Finally, some additional macroeconomic data is used from the National Establishment Time-Series (NETS) by Walls and Associates. Thus, most of the used data is provided by US official institutions. Data is merged on bank- and tract level by using GIS software to map geographical locations. Tracts are defined by the census bureau as regions containing approximately 4000 inhabitants, while differing in size. The final sample consists of tracts based on exposure to large bank mergers in the period between 1999 and 2012. \n",
    "\n",
    "The Hypothesis of the paper, whether distance to bank branches effect credit allocation, is analyzed in a quasi-experimental research design. A Difference-in-Differences framework allows to control for time-varying trends across tracts within the same county. Instrumenting bank branch closings with bank mergers addresses the endogeneity issue of bank branch closings. More about the identification will be discussed in the following section of this replication study. \n",
    "\n",
    "Results of Nguyen (2019), support the hypothesis that distance to bank branches still affect access to credit. Findings suggest, that “closings lead to a persistent decline in local small business lending” (Nguyen 2019). The effect on private lending seem to be of temporary nature (since this temporary decline is insignificant, we cannot infer any results).  \n",
    "Nguyen (2019) concludes, that “distance matters not only because it improves accessibility, but also because it reduces the costs of transmitting information”.  This is in line with theoretical findings from Akerlof (1970), Stiglitz and Weiss (1981), which find that credit markets are subject to informational asymmetries. Surprisingly, after major improvements in information technologies in the past decades these findings still indicating to hold."
   ]
  },
  {
   "cell_type": "markdown",
   "metadata": {},
   "source": [
    "## Causal Graph and Identification Strategy"
   ]
  },
  {
   "cell_type": "markdown",
   "metadata": {},
   "source": [
    "### Causal Graph \n",
    "\n",
    "![](graphs/causal_graph.png)\n",
    "\n",
    "    * D - treatment variable \"bank branch closings\"\n",
    "    * Y - dependent variable \"lending activity\"\n",
    "    * E - general economic controls (county level)\n",
    "    * X - local economic controls (tract level)\n",
    "    * M - instrument \"merger activity\"\n",
    "    * U - unobserved drivers of lending activity\n",
    "    \n",
    "The causal graph above pins down the relationships between banking and lending. There are multiple collider varibales, backdoorpaths, confounding varibales and reverse causality issues need to be solved to show causality. \n",
    "\n",
    "First consider our variable of interest, lending activity. Since credit is an equilibirum concept, \n",
    "its very difficult to disentangle whether a change in lending activity is driven by a change in credit demand or supply. Second our treatment variable, bank branch closings, has an issue of reverse causality with lending activity. One can argue, that less demand for credit is affecting banks decision to close a branch in a certain location. While, we are testing whether the closing of a branch in a certain location affects credit availability. This issues, can be solved by instrumenting bank branch closing with merger activity. The author argues, that the decision to close a branch after a merger is more driven by merger activity less then by local demand of lending. By controlling for bankspecific characteristics and general economic conditions the backdoor paths over $X$ and $E$ are blocked. Thus, the exogeneity and relevance conditions should be fullfilled.\n",
    "\n",
    "Finally, two backdoorpaths need to be blocked. Which is done by controlling for general- ($E$) and local economic ($L$) conditions."
   ]
  },
  {
   "cell_type": "markdown",
   "metadata": {},
   "source": [
    "### Identification \n",
    "\n",
    "Since tracts and counties are differ in various characteristics, a concern on heterogeneity across tracts arises. The IV-approach is not able to control for such unobserved time-varying individual tract characteristics. Therefore the author expands the analysis by a difference in differences approach (DiD). This panel data method allows to account for heterogeneity. The idea is to compair treated and non-treated tracts within a county, while controlling for tract and county-by-year fixed-effects. General economic conditions within a county should be compairable, such that heterogeneity is not driving the results anymore. \n",
    "\n",
    "In the first step the author tests whether branch closing affects local credit supply.\n",
    "Since we can not rule out potential simultaneity issues between branch closing and credit supply, the athor uses an IV approach.\n",
    "$$\\text{Close}_{it} = \\kappa_i + \\psi_t + \\rho X_{it} + \\beta_e \\text{Expose}_{it} + \\omega_{it}$$\n",
    "$$ y_{it} = \\alpha_i + \\gamma_t + \\lambda X_{it} + \\beta_c \\text{Close}_{it} + \\epsilon_{it} $$\n",
    "Further to address the issue that the decision for a merger is not turely exogenous Nguyen expands her anaylsis by an Difference-in-Differences Approach. To compare tracts who experienced a merger and tracts without (treated and control tracts/groups) within a county. \n",
    "$$y_{icmt} = \\alpha_i + (\\gamma_t \\times \\sigma_c) + X_i \\beta_t + \\sum_{\\tau} \\delta_{\\tau} (D_{mt}^{\\tau} \\times \\text{Expose}_{icm}) + \\epsilon_{icmt}$$\n",
    "Where tract $i$ in county $c$ experienced merger $m$ in year $t$. $D_{mt}^{\\tau}$ is a dummy variable equals one in year $t$ and $\\tau$ years after merger $m$ is approved. The reduced model is independent of $\\tau$, thus:\n",
    "$$y_{icmt} = \\alpha_i + (\\gamma_t \\times \\sigma_c) + X_i \\beta_t + \\delta_{\\text{POST}} (\\text{POST}_{mt} \\times \\text{Closure}_{icm}) + \\epsilon_{icmt}$$"
   ]
  },
  {
   "cell_type": "code",
   "execution_count": 1,
   "metadata": {},
   "outputs": [
    {
     "name": "stdout",
     "output_type": "stream",
     "text": [
      "\f",
      "\n"
     ]
    }
   ],
   "source": [
    "%reset -f\n",
    "%clear\n",
    "%load_ext autoreload\n",
    "\n",
    "# preface loading packages required for Python Data Science\n",
    "import numpy as np\n",
    "import pandas as pd\n",
    "import statsmodels.formula.api as smf\n",
    "import statsmodels.api as sm\n",
    "from patsy import dmatrices\n",
    "import matplotlib.pyplot as plt\n",
    "from scipy import stats\n",
    "import warnings\n",
    "from auxiliary import *\n",
    "from linearmodels import PanelOLS\n",
    "from linearmodels.iv import IV2SLS\n",
    "warnings.filterwarnings('ignore')\n",
    "\n",
    "%matplotlib inline"
   ]
  },
  {
   "cell_type": "markdown",
   "metadata": {},
   "source": [
    "## Replication of Summary Statistics"
   ]
  },
  {
   "cell_type": "markdown",
   "metadata": {},
   "source": [
    "..."
   ]
  },
  {
   "cell_type": "code",
   "execution_count": 2,
   "metadata": {},
   "outputs": [
    {
     "name": "stdout",
     "output_type": "stream",
     "text": [
      "                                   Buyer                                             Target  Year approved\n",
      " Manufacturers and Traders Trust Company                                      Allfirst Bank           2003\n",
      "   Bank of America, National Association                                Fleet National Bank           2004\n",
      "                      National City Bank                                 The Provident Bank           2004\n",
      "                            Regions Bank          Union Planters Bank, National Association           2004\n",
      "                     JPMorgan Chase Bank                     Bank One, National Association           2004\n",
      "                         North Fork Bank                                    GreenPoint Bank           2004\n",
      "                           SunTrust Bank                          National Bank of Commerce           2004\n",
      "     Wachovia Bank, National Association                                    SouthTrust Bank           2004\n",
      "                          Sovereign Bank                        Independence Community Bank           2006\n",
      "                            Regions Bank                                       AmSouth Bank           2006\n",
      "   Bank of America, National Association  United States Trust Company , National Associa...           2007\n",
      "            The Huntington National Bank                                           Sky Bank           2007\n",
      "   Bank of America, National Association                  LaSalle Bank National Association           2007\n"
     ]
    }
   ],
   "source": [
    "# Table 1: Merger Sample\n",
    "print(tab1().to_string(index=False))"
   ]
  },
  {
   "cell_type": "code",
   "execution_count": 3,
   "metadata": {},
   "outputs": [
    {
     "name": "stdout",
     "output_type": "stream",
     "text": [
      "               Variable   Median       Min         Max\n",
      "           Total assets 81954710  25963401  1252402412\n",
      "               Branches      696       254        5569\n",
      "    States of operation        8         1          31\n",
      " Countries of operation      182        18         692\n",
      "           Total assets 25955711  10426963   245783000\n",
      "               Branches      277        28        1482\n",
      "    States of operation        6         1          13\n",
      " Countries of operation       54         7         202\n"
     ]
    }
   ],
   "source": [
    "# Table 2: Merger Sammary Statistics\n",
    "print(tab2().to_string(index=False))"
   ]
  },
  {
   "cell_type": "code",
   "execution_count": 4,
   "metadata": {},
   "outputs": [
    {
     "name": "stdout",
     "output_type": "stream",
     "text": [
      "           Variable   Exposed  All other  p-value 01   Control  p-value 02\n",
      "         popdensity  2575.407   7206.310       0.000  6105.754       0.000\n",
      "             poptot  5761.404   4571.781       0.000  5387.571       0.013\n",
      "          medincome 44223.772  45451.951       0.304 52171.479       0.000\n",
      "          pminority     0.211      0.386       0.000     0.238       0.039\n",
      "           pcollege     0.309      0.256       0.000     0.341       0.002\n",
      "          pmortgage     0.688      0.708       0.014     0.721       0.000\n",
      "            pincome   114.473    101.963       0.000   118.616       0.149\n",
      " cont_totalbranches     5.849      1.141       0.000     3.816       0.000\n",
      "      cont_brgrowth     0.053      0.030       0.011     0.065       0.185\n",
      "   cont_NumSBL_Rev1   103.400     54.335       0.000    88.947       0.000\n",
      "  cont_total_origin   277.220    227.091       0.000   281.016       0.723\n",
      "                Obs   386.000  18027.000         nan  3087.000         nan\n"
     ]
    }
   ],
   "source": [
    "# todo add standard devidations in brackets\n",
    "# Table 3: Summary Statistics for Exposed and Control Tracts\n",
    "pd.options.display.float_format = '{:.3f}'.format\n",
    "print(tab3().to_string(index=False))"
   ]
  },
  {
   "cell_type": "code",
   "execution_count": 5,
   "metadata": {},
   "outputs": [
    {
     "name": "stdout",
     "output_type": "stream",
     "text": [
      "      Variable       All  Closings    Merger\n",
      "    popdensity  4032.403  3615.265  6166.240\n",
      "        poptot  4687.897  4941.796  5401.217\n",
      "     medincome 44829.351 45248.801 51803.494\n",
      "     pminority     0.195     0.197     0.234\n",
      "      pcollege     0.247     0.272     0.337\n",
      "     pmortgage     0.668     0.684     0.716\n",
      " totalbranches     2.611     3.893     4.095\n",
      "      brgrowth     0.125     0.153     0.071\n",
      "   NumSBL_Rev1    89.156   106.479    91.880\n",
      "  total_origin   317.562   342.827   281.857\n",
      "       pincome   104.267   106.273   119.300\n",
      "           Obs 37041.000  7768.000  3003.000\n"
     ]
    }
   ],
   "source": [
    "# Table 4: Representativeness of the Merger Sample\n",
    "pd.options.display.float_format = '{:.3f}'.format\n",
    "print(tab4().to_string(index=False))"
   ]
  },
  {
   "cell_type": "code",
   "execution_count": 6,
   "metadata": {},
   "outputs": [
    {
     "name": "stdout",
     "output_type": "stream",
     "text": [
      "          Variables  ecomp  ratio\n",
      "         popdensity 18.308  0.366\n",
      "             poptot 57.533  1.151\n",
      "          medincome 29.087  0.582\n",
      "          pminority 60.262  1.205\n",
      "           pcollege 47.011  0.940\n",
      "          pmortgage 39.219  0.784\n",
      "            pincome 41.426  0.829\n",
      " cont_totalbranches 86.497  1.730\n",
      "      cont_brgrowth 49.612  0.992\n",
      "   cont_NumSBL_Rev1 60.650  1.213\n",
      "  cont_total_origin 48.051  0.961\n"
     ]
    }
   ],
   "source": [
    "# Table 5: Complier Characteristics\n",
    "pd.options.display.float_format = '{:.3f}'.format\n",
    "print(tab5().to_string(index=False))"
   ]
  },
  {
   "cell_type": "markdown",
   "metadata": {},
   "source": [
    "## Replication of the Main Results"
   ]
  },
  {
   "cell_type": "markdown",
   "metadata": {},
   "source": [
    "..."
   ]
  },
  {
   "cell_type": "code",
   "execution_count": 4,
   "metadata": {},
   "outputs": [
    {
     "data": {
      "image/png": "[encoded data removed]",
      "text/plain": [
       "<Figure size 432x288 with 1 Axes>"
      ]
     },
     "metadata": {
      "needs_background": "light"
     },
     "output_type": "display_data"
    }
   ],
   "source": [
    "# Figure 2: Exposure to consolidation and the incidence of branch closings\n",
    "mean=fig2()[0]\n",
    "std=fig2()[1]\n",
    "plt.errorbar(mean.index, mean, xerr=0.5, yerr=2*std, linestyle='')\n",
    "plt.title('Number of branch closings')\n",
    "plt.show()  "
   ]
  },
  {
   "cell_type": "code",
   "execution_count": 2,
   "metadata": {},
   "outputs": [],
   "source": [
    "# Table 6: First-Stage and Reduced-Form estimates \n",
    "df = pd.read_stata('data/replication_input.dta')\n",
    "df.drop_duplicates(keep='first', inplace=True)\n",
    "df=df.assign(event_year=lambda df:df.year-df.yr_approve)\n",
    "index=list(df)\n",
    "df['group_timeID']= df.groupby(['state_fps', 'cnty_fps', 'year']).grouper.group_info[0]\n",
    "df['indivID']= df.groupby(['state_fps', 'cnty_fps', 'tractstring']).grouper.group_info[0]\n",
    "df['clustID']= df.groupby(['state_fps', 'cnty_fps']).grouper.group_info[0] \n",
    "dummy = pd.get_dummies(df['year'])\n",
    "chars = ['poptot', 'popdensity', 'pminority', 'pcollege', 'medincome', 'pincome', 'cont_totalbranches', 'cont_brgrowth'] \n",
    "for i in chars:\n",
    "    for j in range(1999,2014):\n",
    "        name=i+str(j)\n",
    "        df[name]=0\n",
    "        df[name]=df[i].loc[df['year']==j]\n",
    "df = df.fillna(0)\n",
    "dftemp = df.filter(regex='poptot|popdensity|pminority|pcollege|medincome|pincome|cont_totalbranches|cont_brgrowth')\n",
    "dftemp = dftemp.drop(chars, axis=1)  \n",
    "controllist = list(dftemp)\n",
    "controls = \"+\".join(controllist)\n",
    "#temp = df.groupby([i, 'year']).grouper.group_info[0]       \n",
    "df.set_index(['indivID', 'group_timeID'], inplace=True)\n",
    "dftest=df.copy()"
   ]
  },
  {
   "cell_type": "code",
   "execution_count": 3,
   "metadata": {},
   "outputs": [
    {
     "name": "stdout",
     "output_type": "stream",
     "text": [
      "eDl   -0.021393\n",
      "eD0    0.058512\n",
      "eD1    0.225970\n",
      "eD2    0.023081\n",
      "eD3    0.050242\n",
      "eD4    0.024861\n",
      "eD5   -0.003407\n",
      "eD6   -0.033233\n",
      "eDu   -0.025220\n",
      "Name: parameter, dtype: float64\n"
     ]
    }
   ],
   "source": [
    "dftest['eDl']=0\n",
    "dftest['eDl'].loc[(dftest['event_year']<-1) & dftest['overlap']==1]=1\n",
    "for i in range(0,7):\n",
    "    dum='eD'+str(i)\n",
    "    dftest[dum]=0\n",
    "    dftest[dum].loc[(dftest['event_year']==i) & dftest['overlap']==1]=1\n",
    "\n",
    "dftest['eDu']=0\n",
    "dftest['eDu'].loc[(dftest['event_year']>6) & dftest['overlap']==1]=1\n",
    "dummylist=list(dftest.filter(regex='eD'))\n",
    "dummies=\"+\".join(dummylist)\n",
    "#model = 'num_closings ~ C(indivID)+C(group_timeID)+'+controls+'+'+dummies\n",
    "#exog = dummylist + controllist\n",
    "exog = dummylist\n",
    "mod = PanelOLS(dftest.num_closings, dftest[exog], entity_effects=True, time_effects=True)\n",
    "res=mod.fit()\n",
    "#res = mod.fit(cov_type='clustered', cluster_entity=False)\n",
    "\n",
    "#dftest.to_csv('test_csv.csv')\n",
    "print(res.params)\n",
    "#dftest.head()"
   ]
  },
  {
   "cell_type": "code",
   "execution_count": 4,
   "metadata": {},
   "outputs": [],
   "source": [
    "## estimates of column 1 (number of closings)\n",
    "est_numclose= pd.DataFrame(columns=['beta', 'SE'], index=range(-1, 8))\n",
    "beta=pd.DataFrame(index=range(-1, 8))\n",
    "std=pd.DataFrame(index=range(-1, 8))\n",
    "for i in range(0, 7):\n",
    "    df['D'] = 0\n",
    "    df.loc[(df['event_year'] >= i) & (df['overlap']==1) , 'D'] = 1\n",
    "    exog = ['D', 'poptot', 'popdensity', 'pminority', 'pcollege', 'medincome', 'pincome', 'cont_totalbranches', 'cont_brgrowth'] \n",
    "    mod = PanelOLS(df.num_closings, df[exog], entity_effects=False, time_effects=True)\n",
    "    reg = mod.fit(cov_type='clustered', cluster_entity=True)\n",
    "    beta[i]=reg.params['D']\n",
    "    std[i]=reg.std_errors['D']\n",
    "df['D'] = 0\n",
    "df.loc[(df['event_year'] <= -1) & (df['overlap']==1) , 'D'] = 1\n",
    "exog = ['D', 'poptot', 'popdensity', 'pminority', 'pcollege', 'medincome', 'pincome', 'cont_totalbranches', 'cont_brgrowth'] \n",
    "mod = PanelOLS(df.num_closings, df[exog], entity_effects=False, time_effects=True)\n",
    "reg = mod.fit(cov_type='clustered', cluster_entity=True)\n",
    "beta[-1]=reg.params['D']\n",
    "std[-1]=reg.std_errors['D']\n",
    "df['D'] = 0\n",
    "df.loc[(df['event_year'] >= 7) & (df['overlap']==1) , 'D'] = 1\n",
    "exog = ['D', 'poptot', 'popdensity', 'pminority', 'pcollege', 'medincome', 'pincome', 'cont_totalbranches', 'cont_brgrowth'] \n",
    "mod = PanelOLS(df.num_closings, df[exog], entity_effects=False, time_effects=True)\n",
    "reg = mod.fit(cov_type='clustered', cluster_entity=True)\n",
    "beta[7]=reg.params['D']\n",
    "std[7]=reg.std_errors['D']\n",
    "pd.options.display.float_format = '{:.3f}'.format\n",
    "est_numclose['beta']=beta.T\n",
    "est_numclose['SE']=std.T"
   ]
  },
  {
   "cell_type": "code",
   "execution_count": 5,
   "metadata": {},
   "outputs": [],
   "source": [
    "## estimates of column 2 (total branches)\n",
    "est_totalbranches= pd.DataFrame(columns=['beta', 'SE'], index=range(-1, 8))\n",
    "beta=pd.DataFrame(index=range(-1, 8))\n",
    "std=pd.DataFrame(index=range(-1, 8))\n",
    "for i in range(0, 7):\n",
    "    df['D'] = 0\n",
    "    df.loc[(df['event_year'] >= i) & (df['overlap']==1) , 'D'] = 1\n",
    "    exog = ['D', 'poptot', 'popdensity', 'pminority', 'pcollege', 'medincome', 'pincome', 'cont_totalbranches', 'cont_brgrowth'] \n",
    "    mod = PanelOLS(df.totalbranches, df[exog], entity_effects=False, time_effects=True)\n",
    "    reg = mod.fit(cov_type='clustered', cluster_entity=True)\n",
    "    beta[i]=reg.params['D']\n",
    "    std[i]=reg.std_errors['D']\n",
    "df['D'] = 0\n",
    "df.loc[(df['event_year'] <= -1) & (df['overlap']==1) , 'D'] = 1\n",
    "exog = ['D', 'poptot', 'popdensity', 'pminority', 'pcollege', 'medincome', 'pincome', 'cont_totalbranches', 'cont_brgrowth'] \n",
    "mod = PanelOLS(df.totalbranches, df[exog], entity_effects=False, time_effects=True)\n",
    "reg = mod.fit(cov_type='clustered', cluster_entity=True)\n",
    "beta[-1]=reg.params['D']\n",
    "std[-1]=reg.std_errors['D']\n",
    "df['D'] = 0\n",
    "df.loc[(df['event_year'] >= 7) & (df['overlap']==1) , 'D'] = 1\n",
    "exog = ['D', 'poptot', 'popdensity', 'pminority', 'pcollege', 'medincome', 'pincome', 'cont_totalbranches', 'cont_brgrowth'] \n",
    "mod = PanelOLS(df.totalbranches, df[exog], entity_effects=False, time_effects=True)\n",
    "reg = mod.fit(cov_type='clustered', cluster_entity=True)\n",
    "beta[7]=reg.params['D']\n",
    "std[7]=reg.std_errors['D']\n",
    "pd.options.display.float_format = '{:.3f}'.format\n",
    "est_totalbranches['beta']=beta.T\n",
    "est_totalbranches['SE']=std.T"
   ]
  },
  {
   "cell_type": "code",
   "execution_count": 6,
   "metadata": {},
   "outputs": [],
   "source": [
    "## estimates of column 3 (SBL origin)\n",
    "est_SBLorigin= pd.DataFrame(columns=['beta', 'SE'], index=range(-1, 8))\n",
    "beta=pd.DataFrame(index=range(-1, 8))\n",
    "std=pd.DataFrame(index=range(-1, 8))\n",
    "for i in range(0, 7):\n",
    "    df['D'] = 0\n",
    "    df.loc[(df['event_year'] >= i) & (df['overlap']==1) , 'D'] = 1\n",
    "    exog = ['D', 'poptot', 'popdensity', 'pminority', 'pcollege', 'medincome', 'pincome', 'cont_totalbranches', 'cont_brgrowth'] \n",
    "    mod = PanelOLS(df.NumSBL_Rev1, df[exog], entity_effects=False, time_effects=True)\n",
    "    reg = mod.fit(cov_type='clustered', cluster_entity=True)\n",
    "    beta[i]=reg.params['D']\n",
    "    std[i]=reg.std_errors['D']\n",
    "df['D'] = 0\n",
    "df.loc[(df['event_year'] <= -1) & (df['overlap']==1) , 'D'] = 1\n",
    "exog = ['D', 'poptot', 'popdensity', 'pminority', 'pcollege', 'medincome', 'pincome', 'cont_totalbranches', 'cont_brgrowth'] \n",
    "mod = PanelOLS(df.NumSBL_Rev1, df[exog], entity_effects=False, time_effects=True)\n",
    "reg = mod.fit(cov_type='clustered', cluster_entity=True)\n",
    "beta[-1]=reg.params['D']\n",
    "std[-1]=reg.std_errors['D']\n",
    "df['D'] = 0\n",
    "df.loc[(df['event_year'] >= 7) & (df['overlap']==1) , 'D'] = 1\n",
    "exog = ['D', 'poptot', 'popdensity', 'pminority', 'pcollege', 'medincome', 'pincome', 'cont_totalbranches', 'cont_brgrowth'] \n",
    "mod = PanelOLS(df.NumSBL_Rev1, df[exog], entity_effects=False, time_effects=True)\n",
    "reg = mod.fit(cov_type='clustered', cluster_entity=True)\n",
    "beta[7]=reg.params['D']\n",
    "std[7]=reg.std_errors['D']\n",
    "pd.options.display.float_format = '{:.3f}'.format\n",
    "est_SBLorigin['beta']=beta.T\n",
    "est_SBLorigin['SE']=std.T"
   ]
  },
  {
   "cell_type": "code",
   "execution_count": 7,
   "metadata": {},
   "outputs": [],
   "source": [
    "## estimates of column 4 (Mortgage origin)\n",
    "est_Morigin= pd.DataFrame(columns=['beta', 'SE'], index=range(-1, 8))\n",
    "beta=pd.DataFrame(index=range(-1, 8))\n",
    "std=pd.DataFrame(index=range(-1, 8))\n",
    "for i in range(0, 7):\n",
    "    df['D'] = 0\n",
    "    df.loc[(df['event_year'] >= i) & (df['overlap']==1) , 'D'] = 1\n",
    "    exog = ['D', 'poptot', 'popdensity', 'pminority', 'pcollege', 'medincome', 'pincome', 'cont_totalbranches', 'cont_brgrowth'] \n",
    "    mod = PanelOLS(df.total_origin, df[exog], entity_effects=False, time_effects=True)\n",
    "    reg = mod.fit(cov_type='clustered', cluster_entity=True)\n",
    "    beta[i]=reg.params['D']\n",
    "    std[i]=reg.std_errors['D']\n",
    "df['D'] = 0\n",
    "df.loc[(df['event_year'] <= -1) & (df['overlap']==1) , 'D'] = 1\n",
    "exog = ['D', 'poptot', 'popdensity', 'pminority', 'pcollege', 'medincome', 'pincome', 'cont_totalbranches', 'cont_brgrowth'] \n",
    "mod = PanelOLS(df.total_origin, df[exog], entity_effects=False, time_effects=True)\n",
    "reg = mod.fit(cov_type='clustered', cluster_entity=True)\n",
    "beta[-1]=reg.params['D']\n",
    "std[-1]=reg.std_errors['D']\n",
    "df['D'] = 0\n",
    "df.loc[(df['event_year'] >= 7) & (df['overlap']==1) , 'D'] = 1\n",
    "exog = ['D', 'poptot', 'popdensity', 'pminority', 'pcollege', 'medincome', 'pincome', 'cont_totalbranches', 'cont_brgrowth'] \n",
    "mod = PanelOLS(df.total_origin, df[exog], entity_effects=False, time_effects=True)\n",
    "reg = mod.fit(cov_type='clustered', cluster_entity=True)\n",
    "beta[7]=reg.params['D']\n",
    "std[7]=reg.std_errors['D']\n",
    "pd.options.display.float_format = '{:.3f}'.format\n",
    "est_Morigin['beta']=beta.T\n",
    "est_Morigin['SE']=std.T"
   ]
  },
  {
   "cell_type": "code",
   "execution_count": 8,
   "metadata": {},
   "outputs": [
    {
     "name": "stdout",
     "output_type": "stream",
     "text": [
      "estimated effect: \n",
      " \n",
      " delta  Num_closings  Total_branches  SBL_origin  Mortgage_origin\n",
      "  <-1         0.002          -0.042       8.249            1.817\n",
      "    0         0.058           0.046       2.492            1.696\n",
      "    1         0.054           0.025       2.004            1.268\n",
      "    2         0.025           0.034       1.790            1.053\n",
      "    3         0.021           0.038       2.320            1.197\n",
      "    4         0.010           0.049       2.490            1.950\n",
      "    5        -0.000           0.020       1.616            1.432\n",
      "    6        -0.007           0.017       0.460           -1.682\n",
      "   >6        -0.006           0.013      -0.882           -5.176\n",
      "\n",
      " \n",
      " estimated std: \n",
      " \n",
      " delta  Num_closings  Total_branches  SBL_origin  Mortgage_origin\n",
      "  <-1         0.011           0.094       2.301            6.243\n",
      "    0         0.010           0.104       1.606            4.543\n",
      "    1         0.010           0.113       1.571            4.352\n",
      "    2         0.011           0.124       1.489            4.294\n",
      "    3         0.012           0.138       1.427            4.271\n",
      "    4         0.012           0.146       1.506            4.217\n",
      "    5         0.012           0.152       1.402            4.333\n",
      "    6         0.013           0.160       1.528            4.105\n",
      "   >6         0.015           0.184       1.961            4.116\n"
     ]
    }
   ],
   "source": [
    "## finish table 6 by producing a df containing all estimates\n",
    "df_t= pd.DataFrame(columns=['delta', 'Num_closings', 'Total_branches', 'SBL_origin', 'Mortgage_origin'], index=range(-1, 8))\n",
    "df_t['Num_closings']      = est_numclose['beta']\n",
    "df_t['Total_branches']    = est_totalbranches['beta']\n",
    "df_t['SBL_origin']        = est_SBLorigin['beta']\n",
    "df_t['Mortgage_origin']   = est_Morigin['beta']\n",
    "df_t['delta']=['<-1','0','1','2','3','4','5','6','>6']\n",
    "print('estimated effect:','\\n \\n', df_t.to_string(index=False))\n",
    "\n",
    "df_tse= pd.DataFrame(columns=['delta', 'Num_closings', 'Total_branches', 'SBL_origin', 'Mortgage_origin'], index=range(-1, 8))\n",
    "df_tse['Num_closings']      = est_numclose['SE']\n",
    "df_tse['Total_branches']    = est_totalbranches['SE']\n",
    "df_tse['SBL_origin']        = est_SBLorigin['SE']\n",
    "df_tse['Mortgage_origin']   = est_Morigin['SE']\n",
    "df_tse['delta']=['<-1','0','1','2','3','4','5','6','>6']\n",
    "print('\\n \\n','estimated std:','\\n \\n', df_tse.to_string(index=False))"
   ]
  },
  {
   "cell_type": "code",
   "execution_count": 9,
   "metadata": {},
   "outputs": [
    {
     "data": {
      "image/png": "[encoded data removed]",
      "text/plain": [
       "<Figure size 432x288 with 1 Axes>"
      ]
     },
     "metadata": {
      "needs_background": "light"
     },
     "output_type": "display_data"
    }
   ],
   "source": [
    "# Figure 3: Exposure to consolidation and local branch levels\n",
    "mean=fig3()[0]\n",
    "std=fig3()[1]\n",
    "plt.errorbar(mean.index, mean, xerr=0.5, yerr=2*std, linestyle='')\n",
    "plt.title('Total branches')\n",
    "plt.show()  "
   ]
  },
  {
   "cell_type": "code",
   "execution_count": 10,
   "metadata": {},
   "outputs": [
    {
     "data": {
      "text/plain": [
       "Text(0.5, 1.0, 'New Mortgages')"
      ]
     },
     "execution_count": 10,
     "metadata": {},
     "output_type": "execute_result"
    },
    {
     "data": {
      "image/png": "[encoded data removed]",
      "text/plain": [
       "<Figure size 432x288 with 2 Axes>"
      ]
     },
     "metadata": {
      "needs_background": "light"
     },
     "output_type": "display_data"
    }
   ],
   "source": [
    "# Figure 4: Exposure to consolidation and the volume of new lending\n",
    "mean1=fig4()[0]\n",
    "std1=fig4()[1]\n",
    "mean2=fig4()[2]\n",
    "std2=fig4()[3]\n",
    "plt.figure()\n",
    "plt.subplot(2,2,1)\n",
    "plt.errorbar(mean1.index, mean1, xerr=0.5, yerr=2*std1, linestyle='')\n",
    "plt.title('New Small Business loans')\n",
    "#plt.show() \n",
    "plt.subplot(2,2,2)\n",
    "plt.errorbar(mean2.index, mean2, xerr=0.5, yerr=2*std2, linestyle='')\n",
    "plt.title('New Mortgages')\n",
    "#plt.show() "
   ]
  },
  {
   "cell_type": "code",
   "execution_count": 11,
   "metadata": {},
   "outputs": [
    {
     "data": {
      "text/plain": [
       "Text(0.5, 1.0, 'New Mortgages')"
      ]
     },
     "execution_count": 11,
     "metadata": {},
     "output_type": "execute_result"
    },
    {
     "data": {
      "image/png": "[encoded data removed]",
      "text/plain": [
       "<Figure size 432x288 with 2 Axes>"
      ]
     },
     "metadata": {
      "needs_background": "light"
     },
     "output_type": "display_data"
    }
   ],
   "source": [
    "# Figure 5: The effect of subsequent bank entry on local credit supply\n",
    "plt.figure()\n",
    "# Hide warnings\n",
    "warnings.filterwarnings(\"ignore\")\n",
    "\n",
    "## Small Business Lending\n",
    "df = pd.read_stata('data/replication_input.dta')\n",
    "df.drop_duplicates(keep='first', inplace=True)\n",
    "df=df.assign(event_year=lambda df:df.year-df.yr_approve)\n",
    "index=list(df)\n",
    "dfmean = pd.DataFrame(columns=range(-8, 10), index=index)\n",
    "#df['NumSBL_Rev1']=(df['NumSBL_Rev1']-df['NumSBL_Rev1'].mean())/df['NumSBL_Rev1'].std()\n",
    "df['NumSBL_Rev1']=(df['NumSBL_Rev1']-df['NumSBL_Rev1'].min())/(df['NumSBL_Rev1'].max()-df['NumSBL_Rev1'].min())\n",
    "df['totalbranches']=(df['totalbranches']-df['totalbranches'].min())/(df['totalbranches'].max()-df['totalbranches'].min())\n",
    "for i in range(-8, 11):\n",
    "    dfmean[i]=df.loc[(df['event_year']==i) & df['overlap']==1].mean()\n",
    "dfmean=dfmean.T\n",
    "mean=dfmean['NumSBL_Rev1']\n",
    "plt.subplot(2,2,1)\n",
    "plt.scatter(mean.index, mean)\n",
    "plt.subplot(2,2,1)\n",
    "plt.scatter(mean.index, dfmean['totalbranches'])\n",
    "plt.legend(loc='upper center', bbox_to_anchor=(0.5, -0.15))\n",
    "plt.title('New Small Business loans')\n",
    "#plt.show() \n",
    "\n",
    "## Mortgages\n",
    "df = pd.read_stata('data/replication_input.dta')\n",
    "df.drop_duplicates(keep='first', inplace=True)\n",
    "df=df.assign(event_year=lambda df:df.year-df.yr_approve)\n",
    "index=list(df)\n",
    "dfmean = pd.DataFrame(columns=range(-8, 10), index=index)\n",
    "#df['total_origin']=(df['total_origin']-df['total_origin'].mean())/df['total_origin'].std()\n",
    "df['total_origin']=(df['total_origin']-df['total_origin'].min())/(df['total_origin'].max()-df['total_origin'].min())\n",
    "df['totalbranches']=(df['totalbranches']-df['totalbranches'].min())/(df['totalbranches'].max()-df['totalbranches'].min())\n",
    "for i in range(-8, 11):\n",
    "    dfmean[i]=df.loc[(df['event_year']==i) & df['overlap']==1].mean()\n",
    "dfmean=dfmean.T\n",
    "mean=dfmean['total_origin']\n",
    "plt.subplot(2,2,2)\n",
    "plt.scatter(mean.index, mean)\n",
    "plt.subplot(2,2,2)\n",
    "plt.scatter(mean.index, dfmean['totalbranches'])\n",
    "plt.legend(loc='upper center', bbox_to_anchor=(0.5, -0.15))\n",
    "plt.title('New Mortgages')\n",
    "#plt.show() "
   ]
  },
  {
   "cell_type": "code",
   "execution_count": 12,
   "metadata": {},
   "outputs": [],
   "source": [
    "# Table 7: IV-Estimates of the effect of closings an local credit supply\n",
    "df = pd.read_stata('data/replication_input.dta')\n",
    "df.drop_duplicates(keep='first', inplace=True)\n",
    "df=df.assign(event_year=lambda df:df.year-df.yr_approve)\n",
    "index=list(df)\n",
    "df['close_2yr']=0\n",
    "df['close_2yr']=df['closed_branch'].loc[(df.event_year==0) | (df.event_year==1)]\n",
    "df['close_2yr'].fillna(0, inplace=True)\n",
    "df['POST']=df['event_year'].loc[df.event_year>0]\n",
    "df['POST_close']=df.POST * df.close_2yr\n",
    "df['POST_expose']= df.POST * df.overlap \n",
    "\n",
    "df['group_timeID']= df.groupby(['state_fps', 'cnty_fps', 'year']).grouper.group_info[0]\n",
    "df['indivID']= df.groupby(['state_fps', 'cnty_fps', 'tractstring']).grouper.group_info[0]\n",
    "df['clustID']= df.groupby(['state_fps', 'cnty_fps']).grouper.group_info[0] \n",
    "\n",
    "dummy = pd.get_dummies(df['year'])\n",
    "chars = ['poptot', 'popdensity', 'pminority', 'pcollege', 'medincome', 'pincome', 'cont_totalbranches', 'cont_brgrowth'] \n",
    "for i in chars:\n",
    "    for j in range(1999,2014):\n",
    "        name=i+str(j)\n",
    "        df[name]=0\n",
    "        df[name]=df[i].loc[df['year']==j]\n",
    "        \n",
    "dftemp = df.filter(regex='poptot|popdensity|pminority|pcollege|medincome|pincome|cont_totalbranches|cont_brgrowth')\n",
    "dftemp = dftemp.drop(chars, axis=1)  \n",
    "controllist = list(dftemp)\n",
    "controls = \"+\".join(controllist)\n",
    "df[controllist] = df[controllist].fillna(0)\n",
    "iID = pd.Categorical(df.indivID)\n",
    "grID = pd.Categorical(df.group_timeID)\n",
    "df = df.set_index(['indivID', 'group_timeID'])\n",
    "df['iID'] = iID\n",
    "df['grID'] = grID\n",
    "df.to_csv('df_ols.csv')"
   ]
  },
  {
   "cell_type": "code",
   "execution_count": 13,
   "metadata": {},
   "outputs": [
    {
     "name": "stdout",
     "output_type": "stream",
     "text": [
      "Panel A. OLS: 7.3862 (1.4320)\n"
     ]
    }
   ],
   "source": [
    "# Again Try PanelOLS package\n",
    "#exog_vars = controllist\n",
    "#for i in chars:\n",
    "#    colin=i+'2012'\n",
    "#    exog_vars.remove(colin)\n",
    "#exog_vars = chars\n",
    "#exog_vars.append('POST_close')\n",
    "#exog = sm.add_constant(df[exog_vars])\n",
    "mod = PanelOLS(df.NumSBL_Rev1, df.POST_close, entity_effects=True, time_effects=True)\n",
    "res = mod.fit(cov_type='clustered', cluster_entity=True)\n",
    "print('Panel A. OLS: %2.4f (%2.4f)'  %(res.params['POST_close'],res.std_errors['POST_close']))"
   ]
  },
  {
   "cell_type": "raw",
   "metadata": {},
   "source": [
    "## OLS\n",
    "# NumSBL_Rev1\n",
    "model1 = smf.ols(formula='NumSBL_Rev1 ~ POST_close + C(inID) + C(grID)+'+controls, data=df).fit()\n",
    "#print(model1.summary())\n",
    "\n",
    "# AmtSBL_Rev1\n",
    "model2 = smf.ols(formula='AmtSBL_Rev1 ~ POST_close + C(inID) + C(grID)+'+controls, data=df).fit()\n",
    "#print(model2.summary())\n",
    "\n",
    "# total_origin\n",
    "model3 = smf.ols(formula='total_origin ~ POST_close + C(inID) + C(grID)+'+controls, data=df).fit()\n",
    "#print(model3.summary())\n",
    "\n",
    "# loan_amount\n",
    "model4 = smf.ols(formula='loan_amount ~ POST_close + C(inID) + C(grID)+'+controls, data=df).fit()\n",
    "#print(model4.summary())"
   ]
  },
  {
   "cell_type": "raw",
   "metadata": {},
   "source": [
    "## Reduced Form\n",
    "    # NumSBL_Rev1\n",
    "    y, x = dmatrices('total_origin ~ POST_expose + popdensity + poptot + medincome + pminority + pcollege +  cont_totalbranches + cont_brgrowth', data=df)\n",
    "    model_spec = sm.OLS(y, x)\n",
    "    results = model_spec.fit(cov_type='HAC',cov_kwds={'maxlags':1})\n",
    "    #model_spec = PanelOLS(temp.total_origin, temp[['D', 'popdensity', 'poptot', 'medincome', 'pminority', 'pcollege', 'cont_totalbranches', 'cont_brgrowth']], entity_effects=True)\n",
    "    #results = model_spec.fit(cov_type='clustered', cluster_entity=True)\n",
    "    print(results.summary())\n",
    "\n",
    "    # AmtSBL_Rev1\n",
    "    y, x = dmatrices('AmtSBL_Rev1 ~ POST_expose + popdensity + poptot + medincome + pminority + pcollege +  cont_totalbranches + cont_brgrowth', data=df)\n",
    "    model_spec = sm.OLS(y, x)\n",
    "    results = model_spec.fit(cov_type='HAC',cov_kwds={'maxlags':1})\n",
    "    #model_spec = PanelOLS(temp.total_origin, temp[['D', 'popdensity', 'poptot', 'medincome', 'pminority', 'pcollege', 'cont_totalbranches', 'cont_brgrowth']], entity_effects=True)\n",
    "    #results = model_spec.fit(cov_type='clustered', cluster_entity=True)\n",
    "    print(results.summary())\n",
    "\n",
    "    # total_origin\n",
    "    y, x = dmatrices('total_origin ~ POST_expose + popdensity + poptot + medincome + pminority + pcollege +  cont_totalbranches + cont_brgrowth', data=df)\n",
    "    model_spec = sm.OLS(y, x)\n",
    "    results = model_spec.fit(cov_type='HAC',cov_kwds={'maxlags':1})\n",
    "    #model_spec = PanelOLS(temp.total_origin, temp[['D', 'popdensity', 'poptot', 'medincome', 'pminority', 'pcollege', 'cont_totalbranches', 'cont_brgrowth']], entity_effects=True)\n",
    "    #results = model_spec.fit(cov_type='clustered', cluster_entity=True)\n",
    "    print(results.summary())\n",
    "\n",
    "    # loan_amount\n",
    "    y, x = dmatrices('loan_amount ~ POST_expose + popdensity + poptot + medincome + pminority + pcollege +  cont_totalbranches + cont_brgrowth', data=df)\n",
    "    model_spec = sm.OLS(y, x)\n",
    "    results = model_spec.fit(cov_type='HAC',cov_kwds={'maxlags':1})\n",
    "    #model_spec = PanelOLS(temp.total_origin, temp[['D', 'popdensity', 'poptot', 'medincome', 'pminority', 'pcollege', 'cont_totalbranches', 'cont_brgrowth']], entity_effects=True)\n",
    "    #results = model_spec.fit(cov_type='clustered', cluster_entity=True)\n",
    "    print(results.summary())"
   ]
  },
  {
   "cell_type": "raw",
   "metadata": {},
   "source": [
    "## IV ESTIMATION\n",
    "    # NumSBL_Rev1 - IV2SLS.from_formula()\n",
    "    y, x = dmatrices('NumSBL_Rev1 ~ popdensity + poptot + medincome + pminority + pcollege +  cont_totalbranches + cont_brgrowth + [POST_close ~ POST_expose]', data=df)\n",
    "    model_spec = sm.OLS(y, x)\n",
    "    results = model_spec.fit(cov_type='HAC',cov_kwds={'maxlags':1})\n",
    "    #model_spec = PanelOLS(temp.total_origin, temp[['D', 'popdensity', 'poptot', 'medincome', 'pminority', 'pcollege', 'cont_totalbranches', 'cont_brgrowth']], entity_effects=True)\n",
    "    #results = model_spec.fit(cov_type='clustered', cluster_entity=True)\n",
    "    print(results.summary())\n",
    "\n",
    "    # AmtSBL_Rev1\n",
    "    y, x = dmatrices('AmtSBL_Rev1 ~ popdensity + poptot + medincome + pminority + pcollege +  cont_totalbranches + cont_brgrowth + [POST_close ~ POST_expose]', data=df)\n",
    "    model_spec = sm.OLS(y, x)\n",
    "    results = model_spec.fit(cov_type='HAC',cov_kwds={'maxlags':1})\n",
    "    #model_spec = PanelOLS(temp.total_origin, temp[['D', 'popdensity', 'poptot', 'medincome', 'pminority', 'pcollege', 'cont_totalbranches', 'cont_brgrowth']], entity_effects=True)\n",
    "    #results = model_spec.fit(cov_type='clustered', cluster_entity=True)\n",
    "    print(results.summary())\n",
    "\n",
    "    # total_origin\n",
    "    y, x = dmatrices('total_origin ~ popdensity + poptot + medincome + pminority + pcollege +  cont_totalbranches + cont_brgrowth + [POST_close ~ POST_expose]', data=df)\n",
    "    model_spec = sm.OLS(y, x)\n",
    "    results = model_spec.fit(cov_type='HAC',cov_kwds={'maxlags':1})\n",
    "    #model_spec = PanelOLS(temp.total_origin, temp[['D', 'popdensity', 'poptot', 'medincome', 'pminority', 'pcollege', 'cont_totalbranches', 'cont_brgrowth']], entity_effects=True)\n",
    "    #results = model_spec.fit(cov_type='clustered', cluster_entity=True)\n",
    "    print(results.summary())\n",
    "\n",
    "    # loan_amount\n",
    "    y, x = dmatrices('loan_amount ~ popdensity + poptot + medincome + pminority + pcollege +  cont_totalbranches + cont_brgrowth + [POST_close ~ POST_expose]', data=df)\n",
    "    model_spec = sm.OLS(y, x)\n",
    "    results = model_spec.fit(cov_type='HAC',cov_kwds={'maxlags':1})\n",
    "    #model_spec = PanelOLS(temp.total_origin, temp[['D', 'popdensity', 'poptot', 'medincome', 'pminority', 'pcollege', 'cont_totalbranches', 'cont_brgrowth']], entity_effects=True)\n",
    "    #results = model_spec.fit(cov_type='clustered', cluster_entity=True)\n",
    "    print(results.summary())"
   ]
  },
  {
   "cell_type": "markdown",
   "metadata": {},
   "source": [
    "## Independent contribution - Simulation Study"
   ]
  },
  {
   "cell_type": "markdown",
   "metadata": {},
   "source": [
    "The general idea of this section is to test the identification framework with a stylized simulated Dataset. "
   ]
  },
  {
   "cell_type": "code",
   "execution_count": 14,
   "metadata": {},
   "outputs": [
    {
     "name": "stdout",
     "output_type": "stream",
     "text": [
      "The naiv approach, which should be biased \n",
      " 1.9366 \n",
      " (0.0042)\n",
      "The naiv IV approach, which identifies the DGP \n",
      " First stage: \n",
      " 0.5022 \n",
      " (0.0140) \n",
      " Second stage: \n",
      " 0.9725 \n",
      " (0.1160)\n",
      "The reduced form (DD) with Exposure to merger as instrument \n",
      " 0.4884 \n",
      " (0.0658)\n",
      "The reduced form (DD) with Exposure to merger as instrument and control variables \n",
      " 0.4897 \n",
      " (0.0660)\n",
      "Note: the true effect is 0.5 thus the authors framework should yield reliable results\n",
      "The authors IV approach, which includes time-varying tract controls \n",
      " First stage: \n",
      " 0.5066 \n",
      " (0.0238) \n",
      " Second stage: \n",
      " 0.9700 \n",
      " (0.1148)\n"
     ]
    }
   ],
   "source": [
    "np.random.seed(123)\n",
    "df=panel_sample()\n",
    "df.to_csv('panel_sample.csv')\n",
    "\n",
    "df['DD']=df.M*df.Exp\n",
    "df['indivID']=df['iID'].copy()\n",
    "df['gtID']=df['group_timeID'].copy()\n",
    "df.set_index(['indivID', 'group_timeID'], inplace=True)\n",
    "\n",
    "mod = PanelOLS(df.Y, df['D'], entity_effects=True, time_effects=True)\n",
    "res = mod.fit(cov_type='clustered', cluster_entity=True)\n",
    "print('The naiv approach, which should be biased \\n %2.4f \\n (%2.4f)' %(res.params,res.std_errors))\n",
    "\n",
    "#mod1 = smf.ols('D ~ M + X', df)\n",
    "mod1 = smf.ols('D ~ M', df)\n",
    "res1 = mod1.fit()\n",
    "df['predicted']=res1.predict()\n",
    "mod2 = PanelOLS(df.Y, df.predicted, entity_effects=True, time_effects=True)\n",
    "res2 = mod2.fit()\n",
    "print('The naiv IV approach, which identifies the DGP \\n First stage: \\n %2.4f \\n (%2.4f) \\n Second stage: \\n %2.4f \\n (%2.4f)' %(res1.params['M'],res1.bse['M'],res2.params,res2.std_errors))\n",
    "\n",
    "mod = PanelOLS(df.Y, df['DD'], entity_effects=True, time_effects=True)\n",
    "res = mod.fit(cov_type='clustered', cluster_entity=True)\n",
    "print('The reduced form (DD) with Exposure to merger as instrument \\n %2.4f \\n (%2.4f)' %(res.params,res.std_errors))\n",
    "\n",
    "mod = PanelOLS(df.Y, df[['DD','X']], entity_effects=True, time_effects=True)\n",
    "res = mod.fit(cov_type='clustered', cluster_entity=True)\n",
    "print('The reduced form (DD) with Exposure to merger as instrument and control variables \\n %2.4f \\n (%2.4f)' %(res.params[0],res.std_errors[0]))\n",
    "print('Note: the true effect is 0.5 thus the authors framework should yield reliable results \\n \\n')\n",
    "\n",
    "df['indivID']=df['iID'].copy()\n",
    "df['year']=df['t'].copy()\n",
    "df.set_index(['indivID', 'year'], inplace=True)\n",
    "mod1 = PanelOLS(df.D, df[['M','X']],entity_effects=True, time_effects=True)\n",
    "res1 = mod1.fit()\n",
    "df['predicted']=res1.predict()\n",
    "df['indivID']=df['iID'].copy()\n",
    "df['group_timeID']=df['gtID'].copy()\n",
    "df.set_index(['indivID', 'group_timeID'], inplace=True)\n",
    "mod2 = PanelOLS(df.Y, df.predicted, entity_effects=True, time_effects=True)\n",
    "res2 = mod2.fit()\n",
    "print('The authors IV approach, which includes time-varying tract controls \\n First stage: \\n %2.4f \\n (%2.4f) \\n Second stage: \\n %2.4f \\n (%2.4f)' %(res1.params['M'],res1.std_errors['M'],res2.params,res2.std_errors))"
   ]
  },
  {
   "cell_type": "markdown",
   "metadata": {},
   "source": [
    "## References"
   ]
  },
  {
   "cell_type": "markdown",
   "metadata": {},
   "source": [
    "*Akerlof, G. A. (1970). The market for lemons: Quality and the market mechanism. Quarterly. Journal Economics, 84, 488-500.*\n",
    "\n",
    "*Degryse, H., & Ongena, S. (2005). Distance, lending relationships, and competition. The Journal of Finance, 60(1), 231-266.*\n",
    "\n",
    "*Frölich, M., & Sperlich, S. (2019). Impact evaluation. Cambridge University Press.*\n",
    "\n",
    "*Nguyen, H. L. Q. (2019). Are credit markets still local? evidence from bank branch closings. American Economic Journal: Applied Economics, 11(1), 1-32.*\n",
    "\n",
    "*Petersen, M. A., & Rajan, R. G. (2002). Does distance still matter? The information revolution in small business lending. The journal of Finance, 57(6), 2533-2570.*\n",
    "\n",
    "*Stiglitz, J. E., & Weiss, A. (1981). Credit rationing in markets with imperfect information. The American economic review, 71(3), 393-410.*\n",
    "\n",
    "*Wooldridge, J. M. (2015). Introductory econometrics: A modern approach. Nelson Education.*"
   ]
  }
 ],
 "metadata": {
  "kernelspec": {
   "display_name": "Python 3",
   "language": "python",
   "name": "python3"
  },
  "language_info": {
   "codemirror_mode": {
    "name": "ipython",
    "version": 3
   },
   "file_extension": ".py",
   "mimetype": "text/x-python",
   "name": "python",
   "nbconvert_exporter": "python",
   "pygments_lexer": "ipython3",
   "version": "3.7.3"
  }
 },
 "nbformat": 4,
 "nbformat_minor": 4
}
