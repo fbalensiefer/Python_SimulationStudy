{
 "cells": [
  {
   "cell_type": "markdown",
   "metadata": {},
   "source": [
    "# Microeconometrics Project by Fabian Balensiefer - 'Are Credit Markets Still Local? Evidence from Bank Branch Closings'"
   ]
  },
  {
   "cell_type": "markdown",
   "metadata": {},
   "source": [
    "## Quick Reference\n",
    "Scope of this project is to replicate a the study **\"Are Credit Markets Still Local? Evidence from Bank Branch Closings.\"** written by **Hoai-Luu Q. Nguyen**  published in *AMERICAN ECONOMIC JOURNAL: APPLIED ECONOMICS VOL. 11, NO. 1, JANUARY 2019*. <br> <br>\n",
    "\n",
    "Data and stata-files are provided by the American Economic Association:<br>\n",
    "<href>https://www.aeaweb.org/articles?id=10.1257/app.20170543</href><br>\n",
    "\n",
    "\n",
    "\n",
    "**Hyothesis:** Does the distance to bank branches effect credit allocation?<br>\n",
    "\n",
    "**Identification Issue:** Openings and closings of bank branches are not random assignments<br>\n",
    "\n",
    "**Idea:** Using the impact of post-merger branch closings to measure the effect on lending <br>\n",
    "          => *Key assumption:* merger decision is exogenous to local economic conditions (census tract)\n",
    "          \n",
    "**Data:**\n",
    "\n",
    "        * census tract -> macro- and household data on tract level\n",
    "        * Summary of Deposits -> bank branch data\n",
    "        * Report of Changes -> merger and branch closing \n",
    "        * HMDA and CRA -> lending data\n",
    "        \n",
    "**Method:** \n",
    "\n",
    "        1. IV – “exposure to post-merger consolidation” as instrument for closings\n",
    "        2. DiD – to compare lending in exposed and control (census) tracts in the same county \n",
    "\n",
    "*Why does the author use two methods? - to allow for heterogeneity across tracts within a county (DiD)*"
   ]
  },
  {
   "cell_type": "markdown",
   "metadata": {},
   "source": [
    "## Brief summary of Nguyen (2019)\n",
    "\n",
    "The paper “Are Credit Markets Still Local? Evidence from Bank Branch Closings” by Nguyen (2019) established a novel approach for estimating the causal impact of bank branch closings on credit supply at branch level. Motivated by the question whether technological progress have changed the access to credit she is interested in estimating the local average treatment effect of bank branch closings. While other research focus on aggregate system wide shocks, Nguyen (2019) concentrates on a local approach. Thus, she is able to control for unobserved heterogeneity across different regions. \n",
    "\n",
    "Nguyen (2019) combines national data from four different sources. First, macro- and household data on tract level is provided by the census bureau. Data on bank branches are published in the Summary of Deposits, while merger and bank branch closings are recorded in the Report of Changes (both by FDIC). Lending data for private lending/ mortgages (HMDA) and commercial lending (CRA) came from the FFIEC. Finally, some additional macroeconomic data is used from the National Establishment Time-Series (NETS) by Walls and Associates. Thus, most of the used data is provided by US official institutions. Data is merged on bank- and tract level by using GIS software to map geographical locations. Tracts are defined by the census bureau as regions containing approximately 4000 inhabitants, while differing in size. The final sample consists of tracts based on exposure to large bank mergers in the period between 1999 and 2012. \n",
    "\n",
    "The Hypothesis of the paper, whether distance to bank branches effect credit allocation, is analyzed in a quasi-experimental research design. A Difference-in-Differences framework allows to control for time-varying trends across tracts within the same county. Instrumenting bank branch closings with bank mergers addresses the endogeneity issue of bank branch closings. More about the identification will be discussed in the following section of this replication study. \n",
    "\n",
    "Results of Nguyen (2019), support the hypothesis that distance to bank branches still affect access to credit. Findings suggest, that “closings lead to a persistent decline in local small business lending” (Nguyen 2019). The effect on private lending seem to be of temporary nature (since this temporary decline is insignificant, we cannot infer any results).  \n",
    "Nguyen (2019) concludes, that “distance matters not only because it improves accessibility, but also because it reduces the costs of transmitting information”.  This is in line with theoretical findings from Akerlof (1970), Stiglitz and Weiss (1981), which find that credit markets are subject to informational asymmetries. Surprisingly, after major improvements in information technologies in the past decades these findings still indicating to hold."
   ]
  },
  {
   "cell_type": "markdown",
   "metadata": {},
   "source": [
    "## Causal Graph and Identification Strategy"
   ]
  },
  {
   "cell_type": "markdown",
   "metadata": {},
   "source": [
    "Causal graphs break down complex relationships into simple, transparent and easy to interpret visualizations. I create a causal graph to emphasize the papers framework. Especially, to illustrate the authors identification strategy and to discuss potential identification issues.\n",
    "\n",
    "![](graphs/causal_graph.png)\n",
    "\n",
    "    * D - treatment variable \"bank branch closings\"\n",
    "    * Y - dependent variable \"lending activity\"\n",
    "    * E - general economic controls (county level)\n",
    "    * X - local economic controls (tract level)\n",
    "    * M - instrument \"merger activity\"\n",
    "    * U - unobserved drivers of lending activity and bank branch  closings\n",
    "    \n",
    "The causal graph above pins down the relationships between banks and lending. In detail, the effect of interest in this paper is between bank branch closings (D) and lending activity (Y). There are multiple backdoor paths, confounding variables and reverse causality issues need to be solved to show causality.\n",
    "\n",
    "First consider our variable of interest, lending activity. Since credit is an equilibrium concept, it is difficult to disentangle whether a change in lending activity is driven by a change in credit demand or supply. To Solve this issue, we need exogenous variation only effecting the supply side. The author needs to identify a shock, which only effects banks’ lending supply. Second our treatment variable, bank branch closings, has an issue of reverse causality with lending activity. One can argue, that less demand for credit is affecting banks decision to close a branch in a certain location. While, we are testing whether the closing of a branch in a certain location affects credit availability. This issue, can be solved by instrumenting bank branch closing with exposure to merger (M). The author argues, that the decision to close a branch after a merger is more driven by merger activity less then by local demand of lending. Furthermore, merger induced branch closings can be seen as exogenous shock to local credit supply. Thus, the framework enables to disentangle between credit demand and supply. By controlling for local (X) and general (E) economic conditions the remaining two backdoor paths are blocked. Finally, there are other unobserved characteristics which could affect both, lending activity and bank branch closings at the same time. By controlling for individual fixed effects on tract level (local) the author addresses this issue. Thus, the exogeneity and relevance conditions should be fulfilled.\n",
    "\n",
    "A naive approach to measure the effect of bank branch closings on lending activity would be:\n",
    "\n",
    "$$ y_{it}=\\alpha_i + \\gamma_t + \\lambda X_{it} + \\beta_C \\text{Close}_{it} + \\epsilon_{it} $$\n",
    "\n",
    "As explained above we have an issue with reverse causality between $y_{it}$ and $ Close_{it}$.  Nguyen (2019) uses exposure to post-merger consolidation as an instrument for bank branch closings. She argues that large institutions (as in the dataset) often have overlapping networks in the same regions and therefore are at greater risk of a post-merger closings. The first stage of the instrumental variable (IV) approach has the following structure:\n",
    "\n",
    "$$ \\text{Close}_{it} = \\kappa_{i} + \\phi_{t} + \\rho X_{it} +\\text{Expose}_{it} + \\omega_{it}$$\n",
    "\n",
    "Here the crucial assumption that the decision to merger is not affected by local economic conditions arises. The exogeneity of our instrument exposure to merger consolidation ensures a random assignment of treatment. To further address the exogeneity concern Nguyen (2019) focuses on mergers between large banks (both buyer and target held at least $10 billion in premerger assets). The idea to focus on large banks is that these institutions merge because of other factors than local economic conditions. \n",
    "\n",
    "Since tracts and counties differ in various characteristics, a concern on heterogeneity across tracts arises. The instrumental variable approach captures time-invariant tract and year specific characteristics by including individual and time fixed effects. But these fixed effects are not able to control for unobserved time-varying individual tract characteristics. Therefore, the author expands the analysis by a difference in differences approach (DD). Both panel data methods allow to account for heterogeneity. The idea is to compare treated and non-treated tracts within a county, while controlling for tract and county-by-year fixed-effects. General economic conditions are captured by county-by-year fixed-effects, such that heterogeneity is not driving the results anymore. According to Wooldridge (2015) to evaluate the local average treatment effect (LATE), the difference in differences framework hinges on the parallel trends’ assumption. In this particular framework exposed and control tracts should evolve the same in absent of a merger (table 3 compares sample groups).\n",
    "\n",
    "We discussed the internal validity of this natural experiment so far, now focus on the external validity. Nguyen (2019) raises the question “Is the local average treatment effect (LATE) identified from merger-induced closings informative for understanding the impact of branch closings more generally?”. This is rather on the validity of the instrument, than comparison of merger sample tracts and other branched tracts. As Nguyen (2019) points out, the interpretation of the LATE is the effect of treatment on compliers. \n",
    "\n",
    "$$ \\text{LATE} = E[Y(1)-Y(0) \\mid D(1)=1, D(0)=0] $$\n",
    "\n",
    "Since it is not possible to identify compliers directly, she applies the procedure by Angrist and Pischke (2009). This procedure describes how to construct complier characteristics based on fractions of always- ($\\pi_A$) and never-takers ($\\pi_N$). \n",
    "\n",
    "$$ \\pi_C = 1-\\pi_A-\\pi_N  $$\n",
    "\n",
    "The results of the representativeness of compliers are presented in table 5.\n",
    "\n",
    "The difference in differences framework is presented as the following model, with a year-by-year estimation of treatment effect:\n",
    "\n",
    "$$y_{icmt} = \\alpha_i + (\\gamma_t \\times \\sigma_c) + X_i \\beta_t + \\sum_{\\tau} \\delta_{\\tau} (D_{mt}^{\\tau} \\times \\text{Expose}_{icm}) + \\epsilon_{icmt}$$\n",
    "\n",
    "Where tract $i$ in county $c$ experienced merger $m$ in year $t$. $D_{mt}^{\\tau}$ is a dummy variable equals one in year $t$ and $\\tau$ years after merger $m$ is approved. The reduced model is independent of $\\tau$, thus:\n",
    "\n",
    "$$y_{icmt} = \\alpha_i + (\\gamma_t \\times \\sigma_c) + X_i \\beta_t + \\delta_{\\text{POST}} (\\text{POST}_{mt} \\times \\text{Closure}_{icm}) + \\epsilon_{icmt}$$\n",
    "\n",
    "This functional form is typically used for a difference in differences approach. It is less flexible but easy to interpret. The Dummy variables $\\text{POST}$ and $\\text{Closure}$ are interacted, thus the interacted term is equal to one if a tract experienced closings after a merger.\n"
   ]
  },
  {
   "cell_type": "code",
   "execution_count": 1,
   "metadata": {},
   "outputs": [
    {
     "name": "stdout",
     "output_type": "stream",
     "text": [
      "\f",
      "\n"
     ]
    }
   ],
   "source": [
    "%reset -f\n",
    "%clear\n",
    "%load_ext autoreload\n",
    "\n",
    "# preface loading packages required for Python Data Science\n",
    "import numpy as np\n",
    "import pandas as pd\n",
    "import statsmodels.formula.api as smf\n",
    "import statsmodels.api as sm\n",
    "from patsy import dmatrices\n",
    "import matplotlib.pyplot as plt\n",
    "from scipy import stats\n",
    "import warnings\n",
    "from auxiliary import *\n",
    "from linearmodels import PanelOLS\n",
    "from linearmodels.iv import IV2SLS\n",
    "#from statsmodels.iolib.summary2 import summary_col\n",
    "warnings.filterwarnings('ignore')\n",
    "\n",
    "%matplotlib inline"
   ]
  },
  {
   "cell_type": "markdown",
   "metadata": {},
   "source": [
    "## Replication of Summary Statistics"
   ]
  },
  {
   "cell_type": "markdown",
   "metadata": {},
   "source": [
    "Table 1 shows the bank mergers Nguyen (2019) uses for her analysis. I am fully able to replicate this table, which consists of 13 bank mergers. As described before these are mergers from large bank to emphasize exogeneity of the instrument."
   ]
  },
  {
   "cell_type": "code",
   "execution_count": 21,
   "metadata": {},
   "outputs": [
    {
     "name": "stdout",
     "output_type": "stream",
     "text": [
      "Table 1: Merger Sample\n",
      "\n",
      "                                   Buyer                                             Target  Year approved\n",
      " Manufacturers and Traders Trust Company                                      Allfirst Bank           2003\n",
      "   Bank of America, National Association                                Fleet National Bank           2004\n",
      "                      National City Bank                                 The Provident Bank           2004\n",
      "                            Regions Bank          Union Planters Bank, National Association           2004\n",
      "                     JPMorgan Chase Bank                     Bank One, National Association           2004\n",
      "                         North Fork Bank                                    GreenPoint Bank           2004\n",
      "                           SunTrust Bank                          National Bank of Commerce           2004\n",
      "     Wachovia Bank, National Association                                    SouthTrust Bank           2004\n",
      "                          Sovereign Bank                        Independence Community Bank           2006\n",
      "                            Regions Bank                                       AmSouth Bank           2006\n",
      "   Bank of America, National Association  United States Trust Company , National Associa...           2007\n",
      "            The Huntington National Bank                                           Sky Bank           2007\n",
      "   Bank of America, National Association                  LaSalle Bank National Association           2007\n"
     ]
    }
   ],
   "source": [
    "# Table 1: Merger Sample\n",
    "print('Table 1: Merger Sample\\n')\n",
    "print(tab1().to_string(index=False))"
   ]
  },
  {
   "cell_type": "markdown",
   "metadata": {},
   "source": [
    "Table 2 summarizes buyer and target characteristics prior the treatment. Again, the focus is on large banks and I am fully able to replicate table 2. "
   ]
  },
  {
   "cell_type": "code",
   "execution_count": 22,
   "metadata": {},
   "outputs": [
    {
     "name": "stdout",
     "output_type": "stream",
     "text": [
      "Table 2: Merger Sammary Statistics\n",
      "\n",
      "               Variable   Median       Min         Max\n",
      "           Total assets 81954710  25963401  1252402412\n",
      "               Branches      696       254        5569\n",
      "    States of operation        8         1          31\n",
      " Countries of operation      182        18         692\n",
      "           Total assets 25955711  10426963   245783000\n",
      "               Branches      277        28        1482\n",
      "    States of operation        6         1          13\n",
      " Countries of operation       54         7         202\n"
     ]
    }
   ],
   "source": [
    "# Table 2: Merger Sammary Statistics\n",
    "print('Table 2: Merger Sammary Statistics\\n')\n",
    "print(tab2().to_string(index=False))"
   ]
  },
  {
   "cell_type": "markdown",
   "metadata": {},
   "source": [
    "Table 3 compares the sample groups and provides summary statistics. Concentrating on column 3 exposed (treatment) tracts are similar other tracts in the sample, while column 5 indicates some significantly difference between exposed and control tracts. Nguyen (2019) argue, that exposed tracts are wealthier and have larger banking markets than the average US tracts. This results in an underestimation of the results. First, the stata-file does not include the measures ‘Establishment growth’ and ‘Employment growth’. Due to some differences between the computation in stata and the scipy package, some of the p-values differ. One reason could be, that I compute the p-value conditioned on my generated data-frame while Nguyen (2019) estimates the p-value with a fixed-effect regression. But the qualitative result still holds, there is a difference between exposed and control tracts."
   ]
  },
  {
   "cell_type": "code",
   "execution_count": 20,
   "metadata": {},
   "outputs": [
    {
     "name": "stdout",
     "output_type": "stream",
     "text": [
      "Table 3: Summary Statistics for Exposed and Control Tracts\n",
      "\n",
      "Variable                         Exposed      All other        p-value        Control        p-value\n",
      "\n",
      "Population density               2575.41        7206.31          0.000        6105.75          0.000\n",
      "                                 7925.48       14576.32                      13868.57               \n",
      "Population                       5761.40        4571.78          0.000        5387.57          0.013\n",
      "                                 3229.73        2365.53                       2714.44               \n",
      "Median Income                   44223.77       45451.95          0.304       52171.48          0.000\n",
      "                                20288.25       23290.21                      24045.71               \n",
      "Fraction minority                   0.21           0.39          0.000           0.24          0.039\n",
      "                                    0.23           0.34                          0.24               \n",
      "Fraction college educated           0.31           0.26          0.000           0.34          0.002\n",
      "                                    0.19           0.19                          0.19               \n",
      "Fraction mortgage                   0.69           0.71          0.014           0.72          0.000\n",
      "                                    0.15           0.16                          0.15               \n",
      "Percent MSA median income         114.47         101.96          0.000         118.62          0.149\n",
      "                                   46.13          51.36                         53.95               \n",
      "Total branches                      5.85           1.14          0.000           3.82          0.000\n",
      "                                    3.92           1.94                          2.39               \n",
      "Branch growth                       0.05           0.03          0.011           0.07          0.185\n",
      "                                    0.13           0.17                          0.17               \n",
      "SBL originations                  103.40          54.34          0.000          88.95          0.000\n",
      "                                   53.40          44.84                         50.87               \n",
      "Mortgage originations             277.22         227.09          0.000         281.02          0.723\n",
      "                                  203.29         178.99                        188.96               \n",
      "Obs                                  386          18027                          3087               \n"
     ]
    }
   ],
   "source": [
    "# Table 3: Summary Statistics for Exposed and Control Tracts\n",
    "df_t=tab3()[0]\n",
    "std=tab3()[1]\n",
    "index=tab3()[2]\n",
    "var=pd.DataFrame(columns=['list'], index=index)\n",
    "var['list']=['Population density','Population','Median Income','Fraction minority','Fraction college educated','Fraction mortgage','Percent MSA median income','Total branches','Branch growth','SBL originations','Mortgage originations']\n",
    "print('Table 3: Summary Statistics for Exposed and Control Tracts\\n')\n",
    "print('{:<25s}{:>15s}{:>15s}{:>15s}{:>15s}{:>15s}\\n'.format('Variable','Exposed','All other','p-value','Control','p-value'))\n",
    "for i in index:\n",
    "    print('{:<25s}{:>15.2f}{:>15.2f}{:>15.3f}{:>15.2f}{:>15.3f}'.format(var.list[i], df_t.Exposed[i], df_t.Allother[i], df_t.pvalue01[i], df_t.Control[i], df_t.pvalue02[i]))\n",
    "    print('{:<25s}{:>15.2f}{:>15.2f}{:>15s}{:>15.2f}{:>15s}'.format(' ',std.a[i], std.b[i], ' ',std.c[i], ' '))\n",
    "print('{:<25s}{:>15.0f}{:>15.0f}{:>15.0s}{:>15.0f}{:>15.2s}'.format('Obs',df_t.Exposed['Obs'], df_t.Allother['Obs'], ' ', df_t.Control['Obs'], ' '))"
   ]
  },
  {
   "cell_type": "markdown",
   "metadata": {},
   "source": [
    "Table 4 presents the summary statistics of the merger sample. All variables are fixed to year 2001, prior any mergers. Column 1 contains all tracts with bank branch information, while column 2 contains tracts which experienced closings. Finally, column 3 presets the treatment sample containing tracts which experienced a bank merger. I am able to completely replicate table 4."
   ]
  },
  {
   "cell_type": "code",
   "execution_count": 19,
   "metadata": {},
   "outputs": [
    {
     "name": "stdout",
     "output_type": "stream",
     "text": [
      "Table 4: Representativeness of the Merger Sample\n",
      "\n",
      "Variable                  All branched tracts     Tracts with closings       Merger sample\n",
      "\n",
      "Population density                    4032.40                  3615.26             6166.24\n",
      "                                     10052.64                  7348.34            14319.17\n",
      "Population                            4687.90                  4941.80             5401.22\n",
      "                                      2193.43                  2430.65             2702.60\n",
      "Median Income                        44829.35                 45248.80            51699.99\n",
      "                                     20213.36                 20685.61            23886.71\n",
      "Fraction minority                        0.20                     0.20                0.23\n",
      "                                         0.24                     0.22                0.24\n",
      "Fraction college educated                0.25                     0.27                0.34\n",
      "                                         0.17                     0.17                0.19\n",
      "Fraction mortgage                        0.67                     0.68                0.72\n",
      "                                         0.15                     0.15                0.15\n",
      "Total branches                           2.05                     3.14                3.64\n",
      "                                         1.95                     2.88                2.60\n",
      "Branch growth                            0.02                     0.04                0.04\n",
      "                                         0.14                     0.16                0.15\n",
      "SBL originations                        45.03                    58.69               70.56\n",
      "                                        36.55                    43.87               46.88\n",
      "Mortgage originations                  193.47                   210.63              238.42\n",
      "                                       156.38                   164.45              167.42\n",
      "Percent MSA median income              104.27                   106.27              118.90\n",
      "                                        38.17                    41.23               53.64\n",
      "Obs                                     37041                     7768                3003\n"
     ]
    }
   ],
   "source": [
    "# Table 4: Representativeness of the Merger Sample\n",
    "df_t=tab4()[0]\n",
    "index=tab4()[1]\n",
    "std=tab4()[2]\n",
    "var=pd.DataFrame(columns=['list'], index=index)\n",
    "var['list']=['Population density','Population','Median Income','Fraction minority','Fraction college educated','Fraction mortgage','Total branches','Branch growth','SBL originations','Mortgage originations','Percent MSA median income']\n",
    "print('Table 4: Representativeness of the Merger Sample\\n')\n",
    "print('{:<25s}{:>20s}{:>25s}{:>20s}\\n'.format('Variable','All branched tracts','Tracts with closings','Merger sample'))\n",
    "for i in index:\n",
    "     print('{:<25s}{:>20.2f}{:>25.2f}{:>20.2f}'.format(var.list[i], df_t.All[i], df_t.Closings[i], df_t.Merger[i]))\n",
    "     print('{:<25s}{:>20.2f}{:>25.2f}{:>20.2f}'.format(' ',std.a[i], std.b[i], std.c[i]))\n",
    "print('{:<25s}{:>20.0f}{:>25.0f}{:>20.0f}'.format('Obs',df_t.All['Obs'], df_t.Closings['Obs'], df_t.Merger['Obs'])) "
   ]
  },
  {
   "cell_type": "markdown",
   "metadata": {},
   "source": [
    "Table 5 shows the complier characteristics using the methodology by Angrist and Pischke (2009). Column 1 contains the proportion of compliers above the sample median, while column 2 presents the complier to sample ratios. According to Nguyen (2019) compliers tend to be fairly representative of the median tract sample. Also, table 5 can fully be replicated using the data provided."
   ]
  },
  {
   "cell_type": "code",
   "execution_count": 38,
   "metadata": {},
   "outputs": [
    {
     "name": "stdout",
     "output_type": "stream",
     "text": [
      "Table 5: Complier Characteristics\n",
      "\n",
      "Variable                 Proportion of compliers above the sample median (percent)              Ratio: Compliers to sample\n",
      "\n",
      "Population density                                        18                                                   0.37\n",
      "Population                                                58                                                   1.15\n",
      "Median Income                                             29                                                   0.58\n",
      "Fraction minority                                         60                                                   1.21\n",
      "Fraction college educated                                 47                                                   0.94\n",
      "Fraction mortgage                                         39                                                   0.78\n",
      "Percent MSA median income                                 41                                                   0.83\n",
      "Total branches                                            86                                                   1.73\n",
      "Branch growth                                             50                                                   0.99\n",
      "SBL originations                                          61                                                   1.21\n",
      "Mortgage originations                                     48                                                   0.96\n"
     ]
    }
   ],
   "source": [
    "# Table 5: Complier Characteristics\n",
    "pd.options.display.float_format = '{:.3f}'.format\n",
    "var=pd.DataFrame(columns=['list'], index=index)\n",
    "var['list']=['Population density','Population','Median Income','Fraction minority','Fraction college educated','Fraction mortgage','Percent MSA median income','Total branches','Branch growth','SBL originations','Mortgage originations']\n",
    "print('Table 5: Complier Characteristics\\n')\n",
    "#print(tab5().to_string(index=False))\n",
    "df_t5=tab5()\n",
    "print('{:<25s}{:>20s}{:>40s}\\n'.format('Variable','Proportion of compliers above the sample median (percent)','Ratio: Compliers to sample'))\n",
    "for i in index:\n",
    "    print('{:<25s}{:>35.0f}{:>55.2f}'.format(var.list[i], df_t5.ecomp[i], df_t5.ratio[i]))"
   ]
  },
  {
   "cell_type": "markdown",
   "metadata": {},
   "source": [
    "Overall, I am able to replicate the summary statistics using the provided data and python. Only the calculation of the p-values in table 3 differs. As mentioned above, this can be caused by a different computation/ implementation. "
   ]
  },
  {
   "cell_type": "markdown",
   "metadata": {},
   "source": [
    "## Replication of the Main Results"
   ]
  },
  {
   "cell_type": "markdown",
   "metadata": {},
   "source": [
    "..."
   ]
  },
  {
   "cell_type": "code",
   "execution_count": 2,
   "metadata": {},
   "outputs": [
    {
     "data": {
      "image/png": "[encoded data removed]",
      "text/plain": [
       "<Figure size 432x288 with 1 Axes>"
      ]
     },
     "metadata": {
      "needs_background": "light"
     },
     "output_type": "display_data"
    }
   ],
   "source": [
    "mean=fig2()[0]\n",
    "std=fig2()[1]\n",
    "ind=range(-7,9)\n",
    "plt.axhline(y=0.0, color='lightgrey', linestyle='--')\n",
    "plt.axvline(x=0.0, color='lightgrey', linestyle='--')\n",
    "plt.axvline(x=-4.0, color='lightgrey', linestyle='-')\n",
    "plt.axvline(x=6.0, color='lightgrey', linestyle='-')\n",
    "plt.errorbar(ind, mean, xerr=0.5, yerr=2*std, linestyle='')\n",
    "plt.title('Number of branch closings')\n",
    "plt.show()"
   ]
  },
  {
   "cell_type": "code",
   "execution_count": 10,
   "metadata": {
    "scrolled": true
   },
   "outputs": [
    {
     "name": "stdout",
     "output_type": "stream",
     "text": [
      "Table 6: First-Stage and Reduced-Form Estimates \n",
      "\n",
      "   Number of closings:       Total branches:       SBL orginiations:     Mortgage originations:\n",
      "\n",
      "\n",
      "<-1          -0.0128              0.0545             -0.0134             -4.0263\n",
      "              0.0142              0.1039              1.4112              3.7653\n",
      "0             0.0733             -0.0314              4.7620              2.3081\n",
      "              0.0386              0.0679              2.4986              7.8456\n",
      "1             0.2170             -0.2776              1.7371             -0.7493\n",
      "              0.0364              0.1001              2.3860              8.7100\n",
      "2             0.0173             -0.2090             -3.9301             -5.2359\n",
      "              0.0312              0.1148              4.0488              7.2188\n",
      "3             0.0322             -0.2214             -1.4607            -10.4498\n",
      "              0.0315              0.0711              3.8166              7.2884\n",
      "4             0.0087              0.0590             -1.2649             -5.4813\n",
      "              0.0260              0.1297              2.0890              5.9317\n",
      "5            -0.0274             -0.0005             -2.6531             -0.0021\n",
      "              0.0252              0.1376              1.9080              6.5903\n",
      "6            -0.0406              0.0064             -2.5814             -2.4631\n",
      "              0.0244              0.1357              2.0326              6.2564\n",
      ">6           -0.0216              0.0998             -2.4341             -2.1664\n",
      "              0.0162              0.1351              1.8978              6.0243\n"
     ]
    }
   ],
   "source": [
    "# Table 6: First-Stage and Reduced-Form estimates \n",
    "# load and prepare data\n",
    "dftest=tab6()[0]\n",
    "exog=tab6()[1]\n",
    "index=tab6()[2]\n",
    "#dftest.to_csv('df_table6.csv')\n",
    "\n",
    "# estimte column 1 \n",
    "mod = PanelOLS(dftest.num_closings, dftest[exog], entity_effects=True, time_effects=True, drop_absorbed=True)\n",
    "reg1=mod.fit(cov_type='clustered', clusters=dftest.clustID)\n",
    "\n",
    "# estimte column 2 \n",
    "mod = PanelOLS(dftest.totalbranches, dftest[exog], entity_effects=True, time_effects=True, drop_absorbed=True)\n",
    "reg2=mod.fit(cov_type='clustered', clusters=dftest.clustID)\n",
    "\n",
    "# estimte column 3 \n",
    "mod = PanelOLS(dftest.NumSBL_Rev1, dftest[exog], entity_effects=True, time_effects=True, drop_absorbed=True)\n",
    "reg3=mod.fit(cov_type='clustered', clusters=dftest.clustID)\n",
    "\n",
    "# estimate column 4\n",
    "mod = PanelOLS(dftest.total_origin, dftest[exog], entity_effects=True, time_effects=True, drop_absorbed=True)\n",
    "reg4=mod.fit(cov_type='clustered', clusters=dftest.clustID)\n",
    "\n",
    "regressors=index\n",
    "delta=pd.DataFrame(columns=['delta'], index=index)\n",
    "delta['delta']=['<-1','0','1','2','3','4','5','6','>6']\n",
    "print('Table 6: First-Stage and Reduced-Form Estimates \\n')\n",
    "print('   Number of closings:       Total branches:       SBL orginiations:     Mortgage originations:\\n\\n')\n",
    "for i in index:\n",
    "    #print(delta.loc[i, 'delta'])\n",
    "    print('{:<5s}{:>15.4f}{:>20.4f}{:>20.4f}{:>20.4f}'.format(delta.loc[i, 'delta'],reg1.params[i], reg2.params[i], reg3.params[i], reg4.params[i]))\n",
    "    print('{:<5s}{:>15.4f}{:>20.4f}{:>20.4f}{:>20.4f}'.format(' ',reg1.std_errors[i], reg2.std_errors[i], reg3.std_errors[i], reg4.std_errors[i]))"
   ]
  },
  {
   "cell_type": "code",
   "execution_count": 4,
   "metadata": {},
   "outputs": [
    {
     "data": {
      "image/png": "[encoded data removed]",
      "text/plain": [
       "<Figure size 432x288 with 1 Axes>"
      ]
     },
     "metadata": {
      "needs_background": "light"
     },
     "output_type": "display_data"
    }
   ],
   "source": [
    "# Figure 3: Exposure to consolidation and local branch levels\n",
    "mean=fig3()[0]\n",
    "std=fig3()[1]\n",
    "ind=range(-7,9)\n",
    "plt.axhline(y=0.0, color='lightgrey', linestyle='--')\n",
    "plt.axvline(x=0.0, color='lightgrey', linestyle='--')\n",
    "plt.axvline(x=-4.0, color='lightgrey', linestyle='-')\n",
    "plt.axvline(x=6.0, color='lightgrey', linestyle='-')\n",
    "plt.errorbar(ind, mean, xerr=0.5, yerr=2*std, linestyle='')\n",
    "plt.title('Total branches')\n",
    "plt.show()  "
   ]
  },
  {
   "cell_type": "code",
   "execution_count": 5,
   "metadata": {},
   "outputs": [
    {
     "data": {
      "image/png": "[encoded data removed]",
      "text/plain": [
       "<Figure size 432x288 with 2 Axes>"
      ]
     },
     "metadata": {
      "needs_background": "light"
     },
     "output_type": "display_data"
    }
   ],
   "source": [
    "# Figure 4: Exposure to consolidation and the volume of new lending\n",
    "mean1=fig4()[0]\n",
    "std1=fig4()[1]\n",
    "mean2=fig4()[2]\n",
    "std2=fig4()[3]\n",
    "ind=range(-7,9)\n",
    "plt.figure()\n",
    "plt.subplot(1,2,1)\n",
    "plt.axhline(y=0.0, color='lightgrey', linestyle='--')\n",
    "plt.axvline(x=0.0, color='lightgrey', linestyle='--')\n",
    "plt.axvline(x=-4.0, color='lightgrey', linestyle='-')\n",
    "plt.axvline(x=6.0, color='lightgrey', linestyle='-')\n",
    "plt.errorbar(ind, mean1, xerr=0.5, yerr=2*std1, linestyle='')\n",
    "plt.title('New Small Business loans')\n",
    "plt.subplot(1,2,2)\n",
    "plt.axhline(y=0.0, color='lightgrey', linestyle='--')\n",
    "plt.axvline(x=0.0, color='lightgrey', linestyle='--')\n",
    "plt.axvline(x=-4.0, color='lightgrey', linestyle='-')\n",
    "plt.axvline(x=6.0, color='lightgrey', linestyle='-')\n",
    "plt.errorbar(ind, mean2, xerr=0.5, yerr=2*std2, linestyle='')\n",
    "plt.title('New Mortgages')\n",
    "plt.show() "
   ]
  },
  {
   "cell_type": "code",
   "execution_count": 6,
   "metadata": {},
   "outputs": [
    {
     "name": "stderr",
     "output_type": "stream",
     "text": [
      "No handles with labels found to put in legend.\n",
      "No handles with labels found to put in legend.\n"
     ]
    },
    {
     "data": {
      "text/plain": [
       "Text(0.5, 1.0, 'New Mortgages')"
      ]
     },
     "execution_count": 6,
     "metadata": {},
     "output_type": "execute_result"
    },
    {
     "data": {
      "image/png": "[encoded data removed]",
      "text/plain": [
       "<Figure size 432x288 with 2 Axes>"
      ]
     },
     "metadata": {
      "needs_background": "light"
     },
     "output_type": "display_data"
    }
   ],
   "source": [
    "# Figure 5: The effect of subsequent bank entry on local credit supply\n",
    "plt.figure()\n",
    "# Hide warnings\n",
    "warnings.filterwarnings(\"ignore\")\n",
    "\n",
    "## Small Business Lending\n",
    "df = pd.read_stata('data/replication_input.dta')\n",
    "df.drop_duplicates(keep='first', inplace=True)\n",
    "df=df.assign(event_year=lambda df:df.year-df.yr_approve)\n",
    "index=list(df)\n",
    "dfmean = pd.DataFrame(columns=range(-7, 9), index=index)\n",
    "#df['NumSBL_Rev1']=(df['NumSBL_Rev1']-df['NumSBL_Rev1'].mean())/df['NumSBL_Rev1'].std()\n",
    "df['NumSBL_Rev1']=(df['NumSBL_Rev1']-df['NumSBL_Rev1'].min())/(df['NumSBL_Rev1'].max()-df['NumSBL_Rev1'].min())\n",
    "df['totalbranches']=(df['totalbranches']-df['totalbranches'].min())/(df['totalbranches'].max()-df['totalbranches'].min())\n",
    "for i in range(-7, 9):\n",
    "    dfmean[i]=df.loc[(df['event_year']==i) & df['overlap']==1].mean()\n",
    "dfmean=dfmean.T\n",
    "mean=dfmean['NumSBL_Rev1']\n",
    "plt.subplot(1,2,1)\n",
    "plt.axhline(y=0.0, color='lightgrey', linestyle='--')\n",
    "plt.axvline(x=0.0, color='lightgrey', linestyle='--')\n",
    "plt.axvline(x=-4.0, color='lightgrey', linestyle='-')\n",
    "plt.axvline(x=6.0, color='lightgrey', linestyle='-')\n",
    "plt.scatter(mean.index, mean)\n",
    "plt.subplot(1,2,1)\n",
    "plt.scatter(mean.index, dfmean['totalbranches'])\n",
    "plt.legend(loc='upper center', bbox_to_anchor=(0.5, -0.15))\n",
    "plt.title('New Small Business loans')\n",
    "#plt.show() \n",
    "\n",
    "## Mortgages\n",
    "df = pd.read_stata('data/replication_input.dta')\n",
    "df.drop_duplicates(keep='first', inplace=True)\n",
    "df=df.assign(event_year=lambda df:df.year-df.yr_approve)\n",
    "index=list(df)\n",
    "dfmean = pd.DataFrame(columns=range(-7, 9), index=index)\n",
    "#df['total_origin']=(df['total_origin']-df['total_origin'].mean())/df['total_origin'].std()\n",
    "df['total_origin']=(df['total_origin']-df['total_origin'].min())/(df['total_origin'].max()-df['total_origin'].min())\n",
    "df['totalbranches']=(df['totalbranches']-df['totalbranches'].min())/(df['totalbranches'].max()-df['totalbranches'].min())\n",
    "for i in range(-7, 9):\n",
    "    dfmean[i]=df.loc[(df['event_year']==i) & df['overlap']==1].mean()\n",
    "dfmean=dfmean.T\n",
    "mean=dfmean['total_origin']\n",
    "plt.subplot(1,2,2)\n",
    "plt.axhline(y=0.0, color='lightgrey', linestyle='--')\n",
    "plt.axvline(x=0.0, color='lightgrey', linestyle='--')\n",
    "plt.axvline(x=-4.0, color='lightgrey', linestyle='-')\n",
    "plt.axvline(x=6.0, color='lightgrey', linestyle='-')\n",
    "plt.scatter(mean.index, mean)\n",
    "plt.subplot(1,2,2)\n",
    "plt.scatter(mean.index, dfmean['totalbranches'])\n",
    "plt.legend(loc='upper center', bbox_to_anchor=(0.5, -0.15))\n",
    "plt.title('New Mortgages')\n",
    "#plt.show()"
   ]
  },
  {
   "cell_type": "code",
   "execution_count": 7,
   "metadata": {},
   "outputs": [],
   "source": [
    "# Table 7: IV-Estimates of the effect of closings an local credit supply\n",
    "# load and prepare data\n",
    "df=tab7()[0]\n",
    "controllist=tab7()[1]\n",
    "#df.to_csv('df_table7.csv')"
   ]
  },
  {
   "cell_type": "code",
   "execution_count": 8,
   "metadata": {},
   "outputs": [],
   "source": [
    "## OLS\n",
    "exog='POST_close'\n",
    "#exog=controllist\n",
    "#exog.append('POST_close')\n",
    "mod = PanelOLS(df.NumSBL_Rev1, df[exog], entity_effects=True, time_effects=True, drop_absorbed=True)\n",
    "regA1 = mod.fit(cov_type='clustered', clusters=df.clustID)\n",
    "#print('Panel A. OLS: %2.4f (%2.4f)'  %(regA1.params['POST_close'],regA1.std_errors['POST_close']))\n",
    "mod = PanelOLS(df.AmtSBL_Rev1, df[exog], entity_effects=True, time_effects=True, drop_absorbed=True)\n",
    "regA2 = mod.fit(cov_type='clustered', clusters=df.clustID)\n",
    "#print('Panel A. OLS: %2.4f (%2.4f)'  %(regA2.params['POST_close'],regA2.std_errors['POST_close']))\n",
    "mod = PanelOLS(df.total_origin, df[exog], entity_effects=True, time_effects=True, drop_absorbed=True)\n",
    "regA3 = mod.fit(cov_type='clustered', clusters=df.clustID)\n",
    "#print('Panel A. OLS: %2.4f (%2.4f)'  %(regA3.params['POST_close'],regA3.std_errors['POST_close']))\n",
    "mod = PanelOLS(df.loan_amount, df[exog], entity_effects=True, time_effects=True, drop_absorbed=True)\n",
    "regA4 = mod.fit(cov_type='clustered', clusters=df.clustID)\n",
    "#print('Panel A. OLS: %2.4f (%2.4f)'  %(regA4.params['POST_close'],regA4.std_errors['POST_close']))"
   ]
  },
  {
   "cell_type": "code",
   "execution_count": 9,
   "metadata": {},
   "outputs": [],
   "source": [
    "## Reduced-form \n",
    "exog='POST_expose'\n",
    "#exog=controllist\n",
    "#exog.append('POST_expose')\n",
    "mod = PanelOLS(df.NumSBL_Rev1, df[exog], entity_effects=True, time_effects=True, drop_absorbed=True)\n",
    "regB1 = mod.fit(cov_type='clustered', clusters=df.clustID)\n",
    "#print('Panel B. RF: %2.4f (%2.4f)'  %(regB1.params['POST_expose'],regB1.std_errors['POST_expose']))\n",
    "mod = PanelOLS(df.AmtSBL_Rev1, df[exog], entity_effects=True, time_effects=True, drop_absorbed=True)\n",
    "regB2 = mod.fit(cov_type='clustered', clusters=df.clustID)\n",
    "#print('Panel B. RF: %2.4f (%2.4f)'  %(regB2.params['POST_expose'],regB2.std_errors['POST_expose']))\n",
    "mod = PanelOLS(df.total_origin, df[exog], entity_effects=True, time_effects=True, drop_absorbed=True)\n",
    "regB3 = mod.fit(cov_type='clustered', clusters=df.clustID)\n",
    "#print('Panel B. RF: %2.4f (%2.4f)'  %(regB3.params['POST_expose'],regB3.std_errors['POST_expose']))\n",
    "mod = PanelOLS(df.loan_amount, df[exog], entity_effects=True, time_effects=True, drop_absorbed=True)\n",
    "regB4 = mod.fit(cov_type='clustered', clusters=df.clustID)\n",
    "#print('Panel B. RF: %2.4f (%2.4f)'  %(regB4.params['POST_expose'],regB4.std_errors['POST_expose']))"
   ]
  },
  {
   "cell_type": "code",
   "execution_count": 10,
   "metadata": {},
   "outputs": [],
   "source": [
    "## IV\n",
    "mod = IV2SLS.from_formula('NumSBL_Rev1 ~ [POST_close ~ POST_expose]', df)\n",
    "regC1 = mod.fit()\n",
    "#print('Panel B. RF: %2.4f (%2.4f)'  %(regC1.params['POST_close'],regC1.std_errors['POST_close']))\n",
    "mod = IV2SLS.from_formula('AmtSBL_Rev1 ~ [POST_close ~ POST_expose]', df)\n",
    "regC2 = mod.fit()\n",
    "#print('Panel B. RF: %2.4f (%2.4f)'  %(regC2.params['POST_close'],regC2.std_errors['POST_close']))\n",
    "mod = IV2SLS.from_formula('total_origin ~ [POST_close ~ POST_expose]', df)\n",
    "regC3 = mod.fit()\n",
    "#print('Panel B. RF: %2.4f (%2.4f)'  %(regC3.params['POST_close'],regC3.std_errors['POST_close']))\n",
    "mod = IV2SLS.from_formula('loan_amount ~ [POST_close ~ POST_expose]', df)\n",
    "regC4 = mod.fit()\n",
    "#print('Panel B. RF: %2.4f (%2.4f)'  %(regC4.params['POST_close'],regC4.std_errors['POST_close']))"
   ]
  },
  {
   "cell_type": "code",
   "execution_count": 11,
   "metadata": {},
   "outputs": [
    {
     "name": "stdout",
     "output_type": "stream",
     "text": [
      "Table7: IV Estimates of the Effect of Closings on Local Credit Supply\n",
      "\n",
      "Panel A. OLS: -3.4933  -192.1115  -0.4530     95.0195\n",
      "              (0.8237)  (55.2547)  (3.9744)  (636.9604)\n",
      "\n",
      "Panel B.  RF: -4.2428  -301.8764  -0.4534     133.9591\n",
      "              (1.0348)  (85.5112) (3.5049)   (577.4813)\n",
      "\n",
      "Panel C.  IV: 152.5802  7017.1862   340.2441   57576.8465\n",
      "              (3.6203)  (185.0283)  (9.1445)  (1673.3647)\n",
      "\n"
     ]
    }
   ],
   "source": [
    "print('Table7: IV Estimates of the Effect of Closings on Local Credit Supply\\n')\n",
    "\n",
    "print('Panel A. OLS: %2.4f  %2.4f  %2.4f     %2.4f'  %(regA1.params['POST_close'],regA2.params['POST_close'],regA3.params['POST_close'],regA4.params['POST_close']))\n",
    "print('              (%2.4f)  (%2.4f)  (%2.4f)  (%2.4f)\\n'  %(regA1.std_errors['POST_close'],regA2.std_errors['POST_close'],regA3.std_errors['POST_close'],regA4.std_errors['POST_close']))\n",
    "\n",
    "print('Panel B.  RF: %2.4f  %2.4f  %2.4f     %2.4f'  %(regB1.params['POST_expose'],regB2.params['POST_expose'],regB3.params['POST_expose'],regB4.params['POST_expose']))\n",
    "print('              (%2.4f)  (%2.4f) (%2.4f)   (%2.4f)\\n'  %(regB1.std_errors['POST_expose'],regB2.std_errors['POST_expose'],regB3.std_errors['POST_expose'],regB4.std_errors['POST_expose']))\n",
    "\n",
    "print('Panel C.  IV: %2.4f  %2.4f   %2.4f   %2.4f'  %(regC1.params['POST_close'],regC2.params['POST_close'],regC3.params['POST_close'],regC4.params['POST_close']))\n",
    "print('              (%2.4f)  (%2.4f)  (%2.4f)  (%2.4f)\\n'  %(regC1.std_errors['POST_close'],regC2.std_errors['POST_close'],regC3.std_errors['POST_close'],regC4.std_errors['POST_close']))"
   ]
  },
  {
   "cell_type": "raw",
   "metadata": {},
   "source": [
    "## IV with controls\n",
    "mod = IV2SLS(df.NumSBL_Rev1, df[controllist], df.POST_close, df.POST_expose)\n",
    "reg1 = mod.fit()\n",
    "print('Panel B. RF: %2.4f (%2.4f)'  %(reg1.params['POST_close'],reg1.std_errors['POST_close']))\n",
    "mod = IV2SLS(df.AmtSBL_Rev1, df[controllist], df.POST_close, df.POST_expose)\n",
    "reg2 = mod.fit()\n",
    "print('Panel B. RF: %2.4f (%2.4f)'  %(reg2.params['POST_close'],reg2.std_errors['POST_close']))\n",
    "mod = IV2SLS(df.total_origin, df[controllist], df.POST_close, df.POST_expose)\n",
    "reg3 = mod.fit()\n",
    "print('Panel B. RF: %2.4f (%2.4f)'  %(reg3.params['POST_close'],reg3.std_errors['POST_close']))\n",
    "mod = IV2SLS(df.loan_amount, df[controllist], df.POST_close, df.POST_expose)\n",
    "reg4 = mod.fit()\n",
    "print('Panel B. RF: %2.4f (%2.4f)'  %(reg4.params['POST_close'],reg4.std_errors['POST_close']))"
   ]
  },
  {
   "cell_type": "raw",
   "metadata": {},
   "source": [
    "## IV with FE and controls\n",
    "modiv = PanelOLS(df.POST_close, df.POST_expose, entity_effects=True, time_effects=True, drop_absorbed=True)\n",
    "regiv = modiv.fit(cov_type='clustered', clusters=df.clustID)\n",
    "df['predicted']=regiv.predict()\n",
    "#exog='predicted'\n",
    "exog=controllist\n",
    "exog.append('predicted')\n",
    "mod = PanelOLS(df.NumSBL_Rev1, df[exog], entity_effects=True, time_effects=True, drop_absorbed=True)\n",
    "reg1 = mod.fit(cov_type='clustered', clusters=df.clustID)\n",
    "print('Panel B. RF: %2.4f (%2.4f)'  %(reg1.params['POST_expose'],reg1.std_errors['POST_expose']))\n",
    "mod = PanelOLS(df.AmtSBL_Rev1, df[exog], entity_effects=True, time_effects=True, drop_absorbed=True)\n",
    "reg2 = mod.fit(cov_type='clustered', clusters=df.clustID)\n",
    "print('Panel B. RF: %2.4f (%2.4f)'  %(reg2.params['POST_expose'],reg2.std_errors['POST_expose']))\n",
    "mod = PanelOLS(df.total_origin, df[exog], entity_effects=True, time_effects=True, drop_absorbed=True)\n",
    "reg3 = mod.fit(cov_type='clustered', clusters=df.clustID)\n",
    "print('Panel B. RF: %2.4f (%2.4f)'  %(reg3.params['POST_expose'],reg3.std_errors['POST_expose']))\n",
    "mod = PanelOLS(df.loan_amount, df[exog], entity_effects=True, time_effects=True, drop_absorbed=True)\n",
    "reg4 = mod.fit(cov_type='clustered', clusters=df.clustID)\n",
    "print('Panel B. RF: %2.4f (%2.4f)'  %(reg4.params['POST_expose'],reg4.std_errors['POST_expose']))"
   ]
  },
  {
   "cell_type": "markdown",
   "metadata": {},
   "source": [
    "## Independent contribution - Simulation Study"
   ]
  },
  {
   "cell_type": "markdown",
   "metadata": {},
   "source": [
    "The general idea of this section is to test the identification framework with a stylized simulated Dataset. "
   ]
  },
  {
   "cell_type": "code",
   "execution_count": 4,
   "metadata": {},
   "outputs": [
    {
     "name": "stdout",
     "output_type": "stream",
     "text": [
      "The naiv approach, which should be biased \n",
      " 1.9366 \n",
      " (0.0064)\n",
      "The naiv IV approach, which identifies the DGP \n",
      " First stage: \n",
      " 0.5022 \n",
      " (0.0140) \n",
      " Second stage: \n",
      " 0.9725 \n",
      " (0.0795)\n",
      "The reduced form (DD) with Exposure to merger as instrument \n",
      " 0.4884 \n",
      " (0.0399)\n",
      "The reduced form (DD) with Exposure to merger as instrument and tract controls \n",
      " 0.4897 \n",
      " (0.0394)\n",
      "Note: the true effect is 0.5 thus the authors framework should yield reliable results \n",
      " \n",
      "\n",
      "The authors IV approach, which includes tract controls \n",
      " First stage: \n",
      " 0.5066 \n",
      " (0.0178) \n",
      " Second stage: \n",
      " 0.9700 \n",
      " (0.0776)\n"
     ]
    }
   ],
   "source": [
    "np.random.seed(123)\n",
    "df=panel_sample()\n",
    "df.to_csv('df_sample.csv')\n",
    "\n",
    "df['DD']=df.M*df.Exp\n",
    "df['indivID']=df['iID'].copy()\n",
    "df['gtID']=df['group_timeID'].copy()\n",
    "df.set_index(['indivID', 'group_timeID'], inplace=True)\n",
    "\n",
    "mod = PanelOLS(df.Y, df['D'], entity_effects=True, time_effects=True)\n",
    "res = mod.fit(cov_type='clustered', clusters=df.groupID)\n",
    "print('The naiv approach, which should be biased \\n %2.4f \\n (%2.4f)' %(res.params,res.std_errors))\n",
    "\n",
    "#mod1 = smf.ols('D ~ M + X', df)\n",
    "mod1 = smf.ols('D ~ M', df)\n",
    "res1 = mod1.fit()\n",
    "df['predicted']=res1.predict()\n",
    "mod2 = PanelOLS(df.Y, df.predicted, entity_effects=True, time_effects=True)\n",
    "res2 = mod2.fit(cov_type='clustered', clusters=df.groupID)\n",
    "print('The naiv IV approach, which identifies the DGP \\n First stage: \\n %2.4f \\n (%2.4f) \\n Second stage: \\n %2.4f \\n (%2.4f)' %(res1.params['M'],res1.bse['M'],res2.params,res2.std_errors))\n",
    "\n",
    "mod = PanelOLS(df.Y, df['DD'], entity_effects=True, time_effects=True)\n",
    "res = mod.fit(cov_type='clustered', clusters=df.groupID)\n",
    "print('The reduced form (DD) with Exposure to merger as instrument \\n %2.4f \\n (%2.4f)' %(res.params,res.std_errors))\n",
    "\n",
    "mod = PanelOLS(df.Y, df[['DD','X']], entity_effects=True, time_effects=True)\n",
    "res = mod.fit(cov_type='clustered', clusters=df.groupID)\n",
    "print('The reduced form (DD) with Exposure to merger as instrument and tract controls \\n %2.4f \\n (%2.4f)' %(res.params[0],res.std_errors[0]))\n",
    "print('Note: the true effect is 0.5 thus the authors framework should yield reliable results \\n \\n')\n",
    "\n",
    "df['indivID']=df['iID'].copy()\n",
    "df['year']=df['t'].copy()\n",
    "df.set_index(['indivID', 'year'], inplace=True)\n",
    "mod1 = PanelOLS(df.D, df[['M','X']],entity_effects=True, time_effects=True)\n",
    "res1 = mod1.fit(cov_type='clustered', clusters=df.groupID)\n",
    "df['predicted']=res1.predict()\n",
    "df['indivID']=df['iID'].copy()\n",
    "df['group_timeID']=df['gtID'].copy()\n",
    "df.set_index(['indivID', 'group_timeID'], inplace=True)\n",
    "mod2 = PanelOLS(df.Y, df.predicted, entity_effects=True, time_effects=True)\n",
    "res2 = mod2.fit(cov_type='clustered', clusters=df.groupID)\n",
    "print('The authors IV approach, which includes tract controls \\n First stage: \\n %2.4f \\n (%2.4f) \\n Second stage: \\n %2.4f \\n (%2.4f)' %(res1.params['M'],res1.std_errors['M'],res2.params,res2.std_errors))"
   ]
  },
  {
   "cell_type": "markdown",
   "metadata": {},
   "source": [
    "## References"
   ]
  },
  {
   "cell_type": "markdown",
   "metadata": {},
   "source": [
    "*Akerlof, G. A. (1970). The market for lemons: Quality and the market mechanism. Quarterly. Journal Economics, 84, 488-500.*\n",
    "\n",
    "*Angrist, J. D., & Pischke, J. S. (2008). Mostly harmless econometrics: An empiricist's companion. Princeton university press.*\n",
    "\n",
    "*Degryse, H., & Ongena, S. (2005). Distance, lending relationships, and competition. The Journal of Finance, 60(1), 231-266.*\n",
    "\n",
    "*Frölich, M., & Sperlich, S. (2019). Impact evaluation. Cambridge University Press.*\n",
    "\n",
    "*Nguyen, H. L. Q. (2019). Are credit markets still local? evidence from bank branch closings. American Economic Journal: Applied Economics, 11(1), 1-32.*\n",
    "\n",
    "*Petersen, M. A., & Rajan, R. G. (2002). Does distance still matter? The information revolution in small business lending. The journal of Finance, 57(6), 2533-2570.*\n",
    "\n",
    "*Stiglitz, J. E., & Weiss, A. (1981). Credit rationing in markets with imperfect information. The American economic review, 71(3), 393-410.*\n",
    "\n",
    "*Wooldridge, J. M. (2015). Introductory econometrics: A modern approach. Nelson Education.*"
   ]
  }
 ],
 "metadata": {
  "kernelspec": {
   "display_name": "Python 3",
   "language": "python",
   "name": "python3"
  },
  "language_info": {
   "codemirror_mode": {
    "name": "ipython",
    "version": 3
   },
   "file_extension": ".py",
   "mimetype": "text/x-python",
   "name": "python",
   "nbconvert_exporter": "python",
   "pygments_lexer": "ipython3",
   "version": "3.7.3"
  }
 },
 "nbformat": 4,
 "nbformat_minor": 4
}
