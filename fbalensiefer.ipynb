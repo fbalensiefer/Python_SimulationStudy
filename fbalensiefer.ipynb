{
 "cells": [
  {
   "cell_type": "markdown",
   "metadata": {},
   "source": [
    "# Microeconometrics Project - Are Credit Markets Still Local? Evidence from Bank Branch Closings. "
   ]
  },
  {
   "cell_type": "markdown",
   "metadata": {},
   "source": [
    "## Introduction\n",
    "Scope of this Project is to replicate a the study **\"Are Credit Markets Still Local? Evidence from Bank Branch Closings.\"** written by **Hoai-Luu Q. Nguyen**  published in *AMERICAN ECONOMIC JOURNAL: APPLIED ECONOMICS VOL. 11, NO. 1, JANUARY 2019*. <br> <br>\n",
    "\n",
    "Data and Stata-files are provided by the American Economic Association:<br>\n",
    "<href>https://www.aeaweb.org/articles?id=10.1257/app.20170543</href><br>\n",
    "\n",
    "\n",
    "\n",
    "**Hyothesis:** Does the distance to bank branches effect credit allocation?<br>\n",
    "\n",
    "**Identification Issue:** Openings and closings of bank branches are not random assignments<br>\n",
    "\n",
    "**Idea:** Using the impact of post-merger branch closings to measure the effect on lending <br>\n",
    "          => *Key assumption:* merger decision is exogenous to local economic conditions (census tract)\n",
    "          \n",
    "**Data:**\n",
    "\n",
    "        * census tract -> macro- and household data on tract level\n",
    "        * Summary of Deposits -> branch data\n",
    "        * Report of Changes -> merger and branch closing \n",
    "        * HMDA and CRA -> lending data\n",
    "        \n",
    "**Method:** \n",
    "\n",
    "        1. IV – “exposure to post-merger consolidation” as instrument for closings\n",
    "\t    2. DiD – to compare lending in exposed and control (census) tracts in the same county \n",
    "\n",
    "*Why does the author use two methods? - to allow for heterogeneity across tracts within a county (DiD)*"
   ]
  },
  {
   "cell_type": "markdown",
   "metadata": {},
   "source": [
    "## Abstract\n",
    "*This paper studies whether distance shapes credit allocation by estimating the impact of bank branch closings during the 2000s on local access to credit. To generate plausibly exogenous variation in the incidence of closings, I use an instrument based on within-county, tract-level variation in exposure to post-merger branch consolidation. Closings lead to a persistent decline in local small business lending. Annual originations fall by 453K USD after a closing, off a baseline of 4.7 million USD, and remain depressed for up to 6 years. The effects are very localized, dissipating within 6 miles, and are especially severe during the financial crisis.*"
   ]
  },
  {
   "cell_type": "markdown",
   "metadata": {},
   "source": [
    "## Data and Methodology\n",
    "The Author uses three main data sources. First, as the main source she uses the *census tract* published by the US Census Bureau. This tracts vary in size across different regions, while containing 4000 inhabitans. <br>\n",
    "Second as to instrument exposure, she uses the data from the FDIC called *Summary of Deposits (SOD)*. This data set provides data on branches e.g. location, deposists, latitude and longitude. <br> \n",
    "Finally, data on merger activity and branch closings is provided by FDIC *Report of Changes*. Further data on loans and lenders is provided by the FFIEC *Home Mortgage Disclosure Act (HMDA)* and *Community Reinvestment Act (CRA)*<br>\n",
    "Macroeconomic data is used from the *National Establishment Time-Series (NETS)* by Walls and Associates.<br> \n",
    "Datasets are merged on bank- and tract-level by using **GIS** software to map locations. \n",
    "In the end the sample consists of tracts based on exposure to large bank mergers. Data are for the 1999-2012 period. <br> <br>\n",
    "\n",
    "In the first step the author tests whether branch closing affects local credit supply.\n",
    "Since we can not rule out potential simultaneity issues between branch closing and credit supply, the athor uses an IV approach.\n",
    "$$\\text{Close}_{it} = \\kappa_i + \\psi_t + \\rho X_{it} + \\beta_e \\text{Expose}_{it} + \\omega_{it}$$\n",
    "$$ y_{it} = \\alpha_i + \\gamma_t + \\lambda X_{it} + \\beta_c \\text{Close}_{it} + \\epsilon_{it} $$\n",
    "Further to address the issue that the decision for a merger is not turely exogenous Nguyen expands her anaylsis by an Difference-in-Differences Approach. To compare tracts who experienced a merger and tracts without (treated and control tracts/groups) within a county. \n",
    "$$y_{icmt} = \\alpha_i + (\\gamma_t \\times \\sigma_c) + X_i \\beta_t + \\sum_{\\tau} \\delta_{\\tau} (D_{mt}^{\\tau} \\times \\text{Expose}_{icm}) + \\epsilon_{icmt}$$\n",
    "Where tract $i$ in county $c$ experienced merger $m$ in year $t$. $D_{mt}^{\\tau}$ is a dummy variable equals one in year $t$ and $\\tau$ years after merger $m$ is approved. The reduced model is independent of $\\tau$, thus:\n",
    "$$y_{icmt} = \\alpha_i + (\\gamma_t \\times \\sigma_c) + X_i \\beta_t + \\delta_{\\text{POST}} (\\text{POST}_{mt} \\times \\text{Closure}_{icm}) + \\epsilon_{icmt}$$"
   ]
  },
  {
   "cell_type": "markdown",
   "metadata": {},
   "source": [
    "## Causal Graph and Identification Issues\n",
    "\n",
    "### Causal Graph \n",
    "\n",
    "![](graphs/causal_graph.png)\n",
    "\n",
    "    * D - treatment variable \"bank branch closings\"\n",
    "    * Y - dependend variable \"lending activity\"\n",
    "    * X - bank specific controls\n",
    "    * E - general economic controls\n",
    "    * L - local economic controls\n",
    "    * M - instrument \"merger activity\"\n",
    "    * U - unobserved drivers of lending activity"
   ]
  },
  {
   "cell_type": "markdown",
   "metadata": {},
   "source": [
    "### Identification \n",
    "The causal graph above pins down the relationships between banking and lending. There are multiple collider varibales, backdoorpaths, confounding varibales and reverse causality issues need to be solved to show causality. \n",
    "\n",
    "First consider our variable of interest, lending activiy. Since credit is an equilibirum concept, \n",
    "its very difficult to disentangle whether a change in lending activity is diven by a change in credit demand or supply. Second our treatment variable, bank branch closings, has an issue of reverse causality with lending activity. One can argue, that less demand for credit is affecting banks decision to close a branch in a certain location. While, we are testing whether the closing of a branch in a certain location affects credit availibility. This issues, can be solved by instrumenting bank branch closing with merger activity. The author argues, that the decision to close a branch after a merger is more driven by merger activity less then by local demand of lending. By controlling for bankspecific characteristics and general economic conditions the backdoor paths over $X$ and $E$ are blocked. Thus, the exogeneity and relevance conditions should be fullfilled.\n",
    "\n",
    "Finally, two backdoorpaths need to be blocked. Which is done by controlling for general- ($E$) and local economic ($L$) conditions.\n",
    "\n",
    "Since tracts and counties are differ in various characteristics, a concern on heterogeneity across tracts arises. The IV-approach is not able to control for such unobserved time invariante individual tract characteristics. Therefore the author expands the analysis by a difference in differences approach (DiD). This panel data method allows to account for heterogeneity. The idea is to compair treated and non-treated tracts within a county, while controlling for tract fixed-effects. General economic conditions within a county should be compairable, such that heterogeneity is not driving the results anymore. "
   ]
  },
  {
   "cell_type": "code",
   "execution_count": 12,
   "metadata": {},
   "outputs": [
    {
     "name": "stdout",
     "output_type": "stream",
     "text": [
      "\f",
      "\n",
      "The autoreload extension is already loaded. To reload it, use:\n",
      "  %reload_ext autoreload\n"
     ]
    }
   ],
   "source": [
    "%reset -f\n",
    "%clear\n",
    "%load_ext autoreload\n",
    "#%load_ext rpy2.ipython\n",
    "\n",
    "\n",
    "# preface loading packages required for Python Data Science\n",
    "import numpy as np\n",
    "import pandas as pd\n",
    "import statsmodels.formula.api as smf\n",
    "import statsmodels.api as sm\n",
    "from patsy import dmatrices\n",
    "import matplotlib.pyplot as plt\n",
    "from scipy import stats\n",
    "from linearmodels import PanelOLS\n",
    "#from auxiliary import *\n",
    "\n",
    "%matplotlib inline"
   ]
  },
  {
   "cell_type": "code",
   "execution_count": 5,
   "metadata": {},
   "outputs": [],
   "source": [
    "# import dataset provided by AEA and inspect data structure\n",
    "#df = pd.read_stata('data/replication_input.dta')\n",
    "#df.head()"
   ]
  },
  {
   "cell_type": "code",
   "execution_count": 25,
   "metadata": {},
   "outputs": [],
   "source": [
    "# looking for missing values\n",
    "#df.isnull().sum()\n",
    "#df.dropna()"
   ]
  },
  {
   "cell_type": "code",
   "execution_count": 26,
   "metadata": {},
   "outputs": [],
   "source": [
    "# some summary statistics\n",
    "#df.describe()"
   ]
  },
  {
   "cell_type": "code",
   "execution_count": 27,
   "metadata": {},
   "outputs": [],
   "source": [
    "# list variables\n",
    "#list(df)"
   ]
  },
  {
   "cell_type": "code",
   "execution_count": 28,
   "metadata": {},
   "outputs": [],
   "source": [
    "# scatterplot to have a first impact\n",
    "#plt.scatter(df.num_closings, df.pmortgage)\n",
    "#plt.xlabel('number of branch closings')\n",
    "#plt.ylabel('fraction of HH with a mortgages')"
   ]
  },
  {
   "cell_type": "markdown",
   "metadata": {},
   "source": [
    "## Replication of Summary Stats"
   ]
  },
  {
   "cell_type": "code",
   "execution_count": 3,
   "metadata": {},
   "outputs": [
    {
     "name": "stdout",
     "output_type": "stream",
     "text": [
      "                                   Buyer                                             Target  Year approved\n",
      " Manufacturers and Traders Trust Company                                      Allfirst Bank           2003\n",
      "   Bank of America, National Association                                Fleet National Bank           2004\n",
      "                      National City Bank                                 The Provident Bank           2004\n",
      "                            Regions Bank          Union Planters Bank, National Association           2004\n",
      "                     JPMorgan Chase Bank                     Bank One, National Association           2004\n",
      "                         North Fork Bank                                    GreenPoint Bank           2004\n",
      "                           SunTrust Bank                          National Bank of Commerce           2004\n",
      "     Wachovia Bank, National Association                                    SouthTrust Bank           2004\n",
      "                          Sovereign Bank                        Independence Community Bank           2006\n",
      "                            Regions Bank                                       AmSouth Bank           2006\n",
      "   Bank of America, National Association  United States Trust Company , National Associa...           2007\n",
      "            The Huntington National Bank                                           Sky Bank           2007\n",
      "   Bank of America, National Association                  LaSalle Bank National Association           2007\n"
     ]
    }
   ],
   "source": [
    "# Table 1: Merger Sample\n",
    "df = pd.read_stata('data/replication_input.dta')\n",
    "df = df[['acq_instname', 'out_instname', 'yr_approve', 'approved']]\n",
    "df.drop_duplicates(keep='first', inplace=True)\n",
    "df = df.sort_values(by='approved')\n",
    "df = df[['acq_instname', 'out_instname', 'yr_approve']]\n",
    "pd.options.display.float_format = '{:.0f}'.format\n",
    "df = df.rename(index=str , columns={'acq_instname':'Buyer', 'out_instname':'Target', 'yr_approve':'Year approved'})\n",
    "print(df.to_string(index=False))"
   ]
  },
  {
   "cell_type": "code",
   "execution_count": 4,
   "metadata": {},
   "outputs": [
    {
     "name": "stdout",
     "output_type": "stream",
     "text": [
      "               Variable   Median       Min         Max\n",
      "           Total assets 81954710  25963401  1252402412\n",
      "               Branches      696       254        5569\n",
      "    States of operation        8         1          31\n",
      " Countries of operation      182        18         692\n",
      "           Total assets 25955711  10426963   245783000\n",
      "               Branches      277        28        1482\n",
      "    States of operation        6         1          13\n",
      " Countries of operation       54         7         202\n"
     ]
    }
   ],
   "source": [
    "# Table 2: Merger Sammary Statistics\n",
    "df = pd.read_stata('data/replication_input.dta')\n",
    "df = df.filter(regex='mergerID|premerger_acq|premerger_out')\n",
    "df.drop_duplicates(keep='first', inplace=True)\n",
    "df_t = pd.DataFrame(columns=['Variable', 'Median', 'Min', 'Max'])\n",
    "df = df.filter(regex='premerger_acq|premerger_out')\n",
    "df_t['Variable'] = ['Total assets', 'Branches', 'States of operation', 'Countries of operation', 'Total assets', 'Branches', 'States of operation', 'Countries of operation']\n",
    "df_t['Median']   = np.round(np.median(df, axis=0))\n",
    "df_t['Min']      = np.round(np.nanmin(df, axis=0))\n",
    "df_t['Max']      = np.round(np.nanmax(df, axis=0))\n",
    "print(df_t.to_string(index=False))\n",
    "#np.round(df.describe(percentiles=[.5]), 1).T # we only need min, 50% (median), max"
   ]
  },
  {
   "cell_type": "code",
   "execution_count": 9,
   "metadata": {},
   "outputs": [
    {
     "name": "stdout",
     "output_type": "stream",
     "text": [
      "           Variable   Exposed  All other  p-value 01   Control  p-value 02\n",
      "         popdensity  2575.407   7206.310       0.000  6105.754       0.000\n",
      "             poptot  5761.404   4571.781       0.000  5387.571       0.013\n",
      "          medincome 44223.772  45451.951       0.304 52171.479       0.000\n",
      "          pminority     0.211      0.386       0.000     0.238       0.039\n",
      "           pcollege     0.309      0.256       0.000     0.341       0.002\n",
      "          pmortgage     0.688      0.708       0.014     0.721       0.000\n",
      "            pincome   114.473    101.963       0.000   118.616       0.149\n",
      " cont_totalbranches     5.849      1.141       0.000     3.816       0.000\n",
      "      cont_brgrowth     0.053      0.030       0.011     0.065       0.185\n",
      "   cont_NumSBL_Rev1   103.400     54.335       0.000    88.947       0.000\n",
      "  cont_total_origin   277.220    227.091       0.000   281.016       0.723\n",
      "                Obs   386.000  18027.000         nan  3087.000         nan\n"
     ]
    }
   ],
   "source": [
    "# todo add standard devidations in brackets\n",
    "# Table 3: Summary Statistics for Exposed and Control Tracts\n",
    "#df.assign(cntyID = df.sort_values(['state_fps', 'cnty_fps']))\n",
    "filter_cols = 'poptot|popdensity|pminority|pcollege|pincome|medincome|pmortgage|cont_totalbranches|cont_brgrowth|cont_total_origin|cont_NumSBL_Rev1|Obs'\n",
    "df = pd.read_stata('data/mergersample_controls.dta')\n",
    "index = ['popdensity','poptot','medincome','pminority','pcollege','pmortgage','pincome','cont_totalbranches', 'cont_brgrowth','cont_NumSBL_Rev1','cont_total_origin']\n",
    "df_t = pd.DataFrame(columns=['Variable', 'Exposed', 'All other', 'p-value 01', 'Control', 'p-value 02'], index=index)\n",
    "df.drop_duplicates(keep='first', inplace=True)\n",
    "df_exposed = df.loc[df.overlap==1]\n",
    "df_exposed=df_exposed.assign(Obs=lambda df_exposed:len(df_exposed))\n",
    "df_exposed = df_exposed.filter(regex=filter_cols).T\n",
    "df = pd.read_stata('data/mergersample_controls.dta')\n",
    "df.drop_duplicates(keep='first', inplace=True)\n",
    "df_all     = df.loc[df.overlap==0]\n",
    "df_all=df_all.assign(Obs=lambda df_all:len(df_all))\n",
    "df_all     = df_all.filter(regex=filter_cols).T\n",
    "df01 = pd.read_stata('data/replication_input.dta')\n",
    "df01 = df01.filter(regex='state_fps|cnty_fps|tractstring|overlap|mergerID')\n",
    "df01.drop_duplicates(keep='first', inplace=True)\n",
    "df02 = pd.read_stata('data/mergersample_controls.dta')\n",
    "df02.drop_duplicates(keep='first', inplace=True)\n",
    "#df = pd.merge(df01,df02,  on=['state_fps','cnty_fps','tractstring','mergerID'], how='inner', suffixes=('', '_y'))\n",
    "df = pd.merge(df01,df02,  on=['state_fps','cnty_fps','tractstring','mergerID'], how='inner')\n",
    "df = df.loc[df.overlap_y==0]\n",
    "df_control = df.groupby(['state_fps','cnty_fps'], as_index=True)\n",
    "#df_control = df.groupby('state_fps')\n",
    "df_control = df_control.agg(np.mean)\n",
    "df_control = df.assign(Obs=lambda df:len(df))\n",
    "df_control = df_control.filter(regex=filter_cols).T\n",
    "df = df.filter(regex=filter_cols)\n",
    "df_t['Variable']  = list(df)\n",
    "df_t              = df_t.append({'Variable':'Obs'}, ignore_index=True)\n",
    "df_t['Exposed']   = np.round(np.nanmean(df_exposed, axis=1), decimals=3)\n",
    "df_t['All other'] = np.round(np.nanmean(df_all, axis=1), decimals=3)\n",
    "ptemp = stats.ttest_ind(df_exposed, df_all, axis=1, equal_var=True, nan_policy='omit')\n",
    "df_t['p-value 01']   = np.round(np.ma.getdata(ptemp[1]), decimals=3)\n",
    "df_t['Control']   = np.round(np.nanmean(df_control, axis=1), decimals=3)\n",
    "ptemp = stats.ttest_ind(df_exposed, df_control, axis=1, equal_var=True, nan_policy='omit')\n",
    "df_t['p-value 02']   = np.round(np.ma.getdata(ptemp[1]), decimals=3)\n",
    "filter_cols = ['poptot','popdensity','pminority','pcollege','pincome','medincome','pmortgage','cont_totalbranches','cont_brgrowth','cont_total_origin','cont_NumSBL_Rev1']\n",
    "\n",
    "pd.options.display.float_format = '{:.3f}'.format\n",
    "print(df_t.to_string(index=False))\n",
    "#print(df_control)\n",
    "#np.shape(ptemp)"
   ]
  },
  {
   "cell_type": "code",
   "execution_count": 10,
   "metadata": {},
   "outputs": [
    {
     "name": "stdout",
     "output_type": "stream",
     "text": [
      "      Variable       All  Closings    Merger\n",
      "    popdensity  4032.403  3615.265  6166.240\n",
      "        poptot  4687.897  4941.796  5401.217\n",
      "     medincome 44829.351 45248.801 51803.494\n",
      "     pminority     0.195     0.197     0.234\n",
      "      pcollege     0.247     0.272     0.337\n",
      "     pmortgage     0.668     0.684     0.716\n",
      " totalbranches     2.611     3.893     4.095\n",
      "      brgrowth     0.125     0.153     0.071\n",
      "   NumSBL_Rev1    89.156   106.479    91.880\n",
      "  total_origin   317.562   342.827   281.857\n",
      "       pincome   104.267   106.273   119.300\n",
      "           Obs 37041.000  7768.000  3003.000\n"
     ]
    }
   ],
   "source": [
    "# todo add standard devidations in brackets\n",
    "# Table 4: Representativeness of the Merger Sample\n",
    "filter_cols = 'poptot|popdensity|pminority|pcollege|pincome|medincome|pmortgage|cont_totalbranches|cont_brgrowth|cont_total_origin|cont_NumSBL_Rev1|Obs'\n",
    "df = pd.read_stata('data/alltract_controls.dta')\n",
    "#index = ['popdensity','poptot','medincome','pminority','pcollege','pmortgage','pincome','cont_totalbranches', 'cont_brgrowth','cont_NumSBL_Rev1','cont_total_origin']\n",
    "index = ['popdensity', 'poptot', 'medincome', 'pminority', 'pcollege', 'pmortgage', 'totalbranches', 'brgrowth', 'NumSBL_Rev1', 'total_origin', 'pincome', 'Obs']\n",
    "df_t = pd.DataFrame(columns=['Variable', 'All', 'Closings', 'Merger'], index=index)\n",
    "df.drop_duplicates(keep='first', inplace=True)\n",
    "\n",
    "df_all = df.loc[df['year']>=2002]\n",
    "df_all = df_all.loc[df_all['year']<=2007]\n",
    "df_all = df_all.groupby(['state_fps', 'cnty_fps', 'tractstring'])\n",
    "df_all = df_all.agg(np.nanmax)\n",
    "#df_all = df_all.agg(np.nanmean)\n",
    "df_all = df_all.loc[df_all['totalbranches']>0]\n",
    "df_all['Obs'] = len(df_all)\n",
    "df_all = df_all.agg(np.nanmean)\n",
    "alltract_index = 'popdensity|poptot|medincome|pminority|pcollege|pmortgage|totalbranches|brgrowth|NumSBL_Rev1|total_origin|pincome|Obs'\n",
    "df_all = df_all.filter(regex=alltract_index)\n",
    "\n",
    "df_closing = df.loc[df['year']>=2002]\n",
    "df_closing = df_closing.loc[df_closing['year']<=2007]\n",
    "df_closing = df_closing.groupby(['state_fps', 'cnty_fps', 'tractstring'])\n",
    "df_closing = df_closing.agg(np.nanmax)\n",
    "df_closing = df_closing.loc[df_closing['num_closings']>0]\n",
    "df_closing['Obs'] = len(df_closing)\n",
    "df_closing = df_closing.agg(np.nanmean)\n",
    "df_closing = df_closing.filter(regex=alltract_index).T\n",
    "\n",
    "df = pd.read_stata('data/replication_input.dta')\n",
    "#df_merger      = df.loc[df['year']==2001]\n",
    "df_merger = df.loc[df['year']>=2002]\n",
    "df_merger = df_merger.loc[df_merger['year']<=2007]\n",
    "df01 = pd.read_stata('data/alltract_controls.dta')\n",
    "df01.drop_duplicates(keep='first', inplace=True)\n",
    "df_merger = pd.merge(df_merger,df01,  on=['state_fps','cnty_fps','tractstring'], how='inner', suffixes=('', '_y'))\n",
    "df_merger = df_merger.groupby(['state_fps', 'cnty_fps', 'tractstring'])\n",
    "df_merger = df_merger.agg(np.nanmax)\n",
    "num= len(df_merger)\n",
    "df_merger = df_merger.agg(np.nanmean)\n",
    "df_merger.rename(index= {'cont_totalbranches': 'totalbranches', 'cont_brgrowth':'brgrowth', 'cont_NumSBL_Rev1':'NumSBL_Rev1','cont_total_origin':'total_origin'},  inplace = True)\n",
    "df_merger = df_merger.filter(regex=alltract_index).T\n",
    "df_merger = df_merger.iloc[4:15]\n",
    "df_merger['Obs'] = num\n",
    "\n",
    "df_t['Variable']  = list(index)\n",
    "df_t['All']       = np.round(df_all, decimals=3)\n",
    "df_t['Closings']  = np.round(df_closing, decimals=3)\n",
    "df_t['Merger']    = np.round(df_merger, decimals=3)\n",
    "\n",
    "pd.options.display.float_format = '{:.3f}'.format\n",
    "print(df_t.to_string(index=False))"
   ]
  },
  {
   "cell_type": "code",
   "execution_count": 12,
   "metadata": {},
   "outputs": [
    {
     "name": "stdout",
     "output_type": "stream",
     "text": [
      "          Variables  ecomp  ratio\n",
      "         popdensity 18.308  0.366\n",
      "             poptot 57.533  1.151\n",
      "          medincome 29.087  0.582\n",
      "          pminority 60.262  1.205\n",
      "           pcollege 47.011  0.940\n",
      "          pmortgage 39.219  0.784\n",
      "            pincome 41.426  0.829\n",
      " cont_totalbranches 86.497  1.730\n",
      "      cont_brgrowth 49.612  0.992\n",
      "   cont_NumSBL_Rev1 60.650  1.213\n",
      "  cont_total_origin 48.051  0.961\n"
     ]
    }
   ],
   "source": [
    "# Table 5: Complier Characteristics\n",
    "\n",
    "## calculating MEDIAN values\n",
    "df = pd.read_stata('data/replication_input.dta')\n",
    "index = ['popdensity','poptot','medincome','pminority','pcollege','pmortgage','pincome','cont_totalbranches', 'cont_brgrowth','cont_NumSBL_Rev1','cont_total_origin']\n",
    "df.drop_duplicates(keep='first', inplace=True)\n",
    "df=df.assign(event_year=lambda df:df.year-df.yr_approve)\n",
    "df=df.loc[df['event_year']==1]\n",
    "p50=df[index].median()\n",
    "\n",
    "## estimate the proportion of ALWAYS TAKERS, NEVER TAKERS and COMPLIERS\n",
    "df_at = df.loc[df['overlap']==0]\n",
    "p_always = np.nanmean(df_at.closed_branch)\n",
    "df_nt = df.assign(temp=lambda df:1-df.closed_branch)\n",
    "df_nt = df_nt.loc[df_nt['overlap']==1]\n",
    "p_never = np.nanmean(df_nt.temp)\n",
    "p_comp=1-p_always-p_never\n",
    "\n",
    "## ESTIMATE AVERAGE CHARACTERISTICS OVER SET OF ALWAYS TAKERS AND COMPLIERS COMBINED (i.e.,Treatment tracts who had closings)\n",
    "df_t1 = pd.DataFrame(index=index)\n",
    "df_atcomp = df.loc[df['overlap']==1]\n",
    "df_atcomp = df_atcomp.loc[df_atcomp['closed_branch']==1]\n",
    "n=len(df_atcomp)\n",
    "for i in index:\n",
    "    temp=df_atcomp[df_atcomp[i]>p50[i]].count()\n",
    "    df_t1[i]=temp/n\n",
    "df_t1=df_t1.T\n",
    "df_atcomp=df_t1['poptot']\n",
    "\n",
    "## ESTIMATE AVERAGE CHARACTERISTICS OVER ALWAYS TAKERS ONLY (i.e., Control tracts who had closings)\n",
    "df_t2 = pd.DataFrame(index=index)\n",
    "df_at = df.loc[df['overlap']==0]\n",
    "df_at = df_at.loc[df_at['closed_branch']==1]\n",
    "n=len(df_at)\n",
    "for i in index:\n",
    "    temp=df_at[df_at[i]>p50[i]].count()\n",
    "    df_t2[i]=temp/n\n",
    "df_t2=df_t2.T\n",
    "df_at=df_t2['poptot']\n",
    "\n",
    "##  ESTIMATE AVERAGE CHARACTERISTICS FOR COMPLIERS\n",
    "ecomp=((p_always+p_comp)/p_comp)*(df_atcomp-((p_always/(p_always+p_comp))*df_at))\n",
    "## CALCULATE RATIO\n",
    "ratio=ecomp/0.5\n",
    "## PRINT to Table\n",
    "df_tab = pd.DataFrame(columns=['Variables','ecomp','ratio'], index=index)\n",
    "df_tab['Variables']=list(df[index])\n",
    "df_tab['ecomp']=ecomp*100\n",
    "df_tab['ratio']=ratio\n",
    "pd.options.display.float_format = '{:.3f}'.format\n",
    "print(df_tab.to_string(index=False))"
   ]
  },
  {
   "cell_type": "markdown",
   "metadata": {},
   "source": [
    "## Replication of the Main Results"
   ]
  },
  {
   "cell_type": "code",
   "execution_count": 19,
   "metadata": {},
   "outputs": [
    {
     "data": {
      "image/png": "[encoded data removed]",
      "text/plain": [
       "<Figure size 432x288 with 1 Axes>"
      ]
     },
     "metadata": {
      "needs_background": "light"
     },
     "output_type": "display_data"
    }
   ],
   "source": [
    "# Figure 2: Exposure to consolidation and the incidence of branch closings\n",
    "\n",
    "df = pd.read_stata('data/replication_input.dta')\n",
    "df.drop_duplicates(keep='first', inplace=True)\n",
    "df=df.assign(event_year=lambda df:df.year-df.yr_approve)\n",
    "index=list(df)\n",
    "dfmean = pd.DataFrame(columns=range(-8, 10), index=index)\n",
    "dfstd = pd.DataFrame(columns=range(-8, 10), index=index)\n",
    "#df['num_closings']=(df['num_closings']-df['num_closings'].mean())/df['num_closings'].std()\n",
    "df['num_closings']=(df['num_closings']-df['num_closings'].min())/(df['num_closings'].max()-df['num_closings'].min())\n",
    "for i in range(-8, 11):\n",
    "    dfmean[i]=df.loc[(df['event_year']==i) & df['overlap']==1].mean()\n",
    "    dfstd[i]=df.loc[(df['event_year']==i) & df['overlap']==1].std()\n",
    "dfmean=dfmean.T\n",
    "dfstd=dfstd.T\n",
    "mean=dfmean['num_closings']\n",
    "std=dfstd['num_closings']\n",
    "plt.errorbar(mean.index, mean, xerr=0.5, yerr=2*std, linestyle='')\n",
    "plt.title('Number of branch closings')\n",
    "plt.show()  "
   ]
  },
  {
   "cell_type": "code",
   "execution_count": 2,
   "metadata": {},
   "outputs": [
    {
     "ename": "ValueError",
     "evalue": "zero-size array to reduction operation maximum which has no identity",
     "output_type": "error",
     "traceback": [
      "\u001b[1;31m---------------------------------------------------------------------------\u001b[0m",
      "\u001b[1;31mValueError\u001b[0m                                Traceback (most recent call last)",
      "\u001b[1;32m<ipython-input-2-cf8f5df273c2>\u001b[0m in \u001b[0;36m<module>\u001b[1;34m\u001b[0m\n\u001b[0;32m     54\u001b[0m     \u001b[0mtemp\u001b[0m\u001b[1;33m=\u001b[0m\u001b[0mdf\u001b[0m\u001b[1;33m.\u001b[0m\u001b[0mloc\u001b[0m\u001b[1;33m[\u001b[0m\u001b[1;33m(\u001b[0m\u001b[0mdf\u001b[0m\u001b[1;33m[\u001b[0m\u001b[1;34m'event_year'\u001b[0m\u001b[1;33m]\u001b[0m\u001b[1;33m==\u001b[0m\u001b[0mi\u001b[0m\u001b[1;33m)\u001b[0m \u001b[1;33m&\u001b[0m \u001b[0mdf\u001b[0m\u001b[1;33m[\u001b[0m\u001b[1;34m'overlap'\u001b[0m\u001b[1;33m]\u001b[0m\u001b[1;33m==\u001b[0m\u001b[1;36m1\u001b[0m\u001b[1;33m]\u001b[0m\u001b[1;33m\u001b[0m\u001b[1;33m\u001b[0m\u001b[0m\n\u001b[0;32m     55\u001b[0m     \u001b[0my\u001b[0m\u001b[1;33m,\u001b[0m \u001b[0mx\u001b[0m \u001b[1;33m=\u001b[0m \u001b[0mdmatrices\u001b[0m\u001b[1;33m(\u001b[0m\u001b[1;34m'NumSBL_Rev1 ~ D + popdensity + poptot + medincome + pminority + pcollege +  cont_totalbranches + cont_brgrowth'\u001b[0m\u001b[1;33m,\u001b[0m \u001b[0mdata\u001b[0m\u001b[1;33m=\u001b[0m\u001b[0mtemp\u001b[0m\u001b[1;33m)\u001b[0m\u001b[1;33m\u001b[0m\u001b[1;33m\u001b[0m\u001b[0m\n\u001b[1;32m---> 56\u001b[1;33m     \u001b[0mmodel_spec\u001b[0m \u001b[1;33m=\u001b[0m \u001b[0msm\u001b[0m\u001b[1;33m.\u001b[0m\u001b[0mOLS\u001b[0m\u001b[1;33m(\u001b[0m\u001b[0my\u001b[0m\u001b[1;33m,\u001b[0m \u001b[0mx\u001b[0m\u001b[1;33m)\u001b[0m\u001b[1;33m\u001b[0m\u001b[1;33m\u001b[0m\u001b[0m\n\u001b[0m\u001b[0;32m     57\u001b[0m     \u001b[0mresults\u001b[0m \u001b[1;33m=\u001b[0m \u001b[0mmodel_spec\u001b[0m\u001b[1;33m.\u001b[0m\u001b[0mfit\u001b[0m\u001b[1;33m(\u001b[0m\u001b[0mcov_type\u001b[0m\u001b[1;33m=\u001b[0m\u001b[1;34m'HAC'\u001b[0m\u001b[1;33m,\u001b[0m\u001b[0mcov_kwds\u001b[0m\u001b[1;33m=\u001b[0m\u001b[1;33m{\u001b[0m\u001b[1;34m'maxlags'\u001b[0m\u001b[1;33m:\u001b[0m\u001b[1;36m1\u001b[0m\u001b[1;33m}\u001b[0m\u001b[1;33m)\u001b[0m\u001b[1;33m\u001b[0m\u001b[1;33m\u001b[0m\u001b[0m\n\u001b[0;32m     58\u001b[0m     \u001b[1;31m#model_spec = PanelOLS(temp.NumSBL_Rev1, temp[['D', 'popdensity', 'poptot', 'medincome', 'pminority', 'pcollege', 'cont_totalbranches', 'cont_brgrowth']], entity_effects=True)\u001b[0m\u001b[1;33m\u001b[0m\u001b[1;33m\u001b[0m\u001b[1;33m\u001b[0m\u001b[0m\n",
      "\u001b[1;32mc:\\users\\fabia\\appdata\\local\\programs\\python\\python37\\lib\\site-packages\\statsmodels\\regression\\linear_model.py\u001b[0m in \u001b[0;36m__init__\u001b[1;34m(self, endog, exog, missing, hasconst, **kwargs)\u001b[0m\n\u001b[0;32m    815\u001b[0m                  **kwargs):\n\u001b[0;32m    816\u001b[0m         super(OLS, self).__init__(endog, exog, missing=missing,\n\u001b[1;32m--> 817\u001b[1;33m                                   hasconst=hasconst, **kwargs)\n\u001b[0m\u001b[0;32m    818\u001b[0m         \u001b[1;32mif\u001b[0m \u001b[1;34m\"weights\"\u001b[0m \u001b[1;32min\u001b[0m \u001b[0mself\u001b[0m\u001b[1;33m.\u001b[0m\u001b[0m_init_keys\u001b[0m\u001b[1;33m:\u001b[0m\u001b[1;33m\u001b[0m\u001b[1;33m\u001b[0m\u001b[0m\n\u001b[0;32m    819\u001b[0m             \u001b[0mself\u001b[0m\u001b[1;33m.\u001b[0m\u001b[0m_init_keys\u001b[0m\u001b[1;33m.\u001b[0m\u001b[0mremove\u001b[0m\u001b[1;33m(\u001b[0m\u001b[1;34m\"weights\"\u001b[0m\u001b[1;33m)\u001b[0m\u001b[1;33m\u001b[0m\u001b[1;33m\u001b[0m\u001b[0m\n",
      "\u001b[1;32mc:\\users\\fabia\\appdata\\local\\programs\\python\\python37\\lib\\site-packages\\statsmodels\\regression\\linear_model.py\u001b[0m in \u001b[0;36m__init__\u001b[1;34m(self, endog, exog, weights, missing, hasconst, **kwargs)\u001b[0m\n\u001b[0;32m    661\u001b[0m             \u001b[0mweights\u001b[0m \u001b[1;33m=\u001b[0m \u001b[0mweights\u001b[0m\u001b[1;33m.\u001b[0m\u001b[0msqueeze\u001b[0m\u001b[1;33m(\u001b[0m\u001b[1;33m)\u001b[0m\u001b[1;33m\u001b[0m\u001b[1;33m\u001b[0m\u001b[0m\n\u001b[0;32m    662\u001b[0m         super(WLS, self).__init__(endog, exog, missing=missing,\n\u001b[1;32m--> 663\u001b[1;33m                                   weights=weights, hasconst=hasconst, **kwargs)\n\u001b[0m\u001b[0;32m    664\u001b[0m         \u001b[0mnobs\u001b[0m \u001b[1;33m=\u001b[0m \u001b[0mself\u001b[0m\u001b[1;33m.\u001b[0m\u001b[0mexog\u001b[0m\u001b[1;33m.\u001b[0m\u001b[0mshape\u001b[0m\u001b[1;33m[\u001b[0m\u001b[1;36m0\u001b[0m\u001b[1;33m]\u001b[0m\u001b[1;33m\u001b[0m\u001b[1;33m\u001b[0m\u001b[0m\n\u001b[0;32m    665\u001b[0m         \u001b[0mweights\u001b[0m \u001b[1;33m=\u001b[0m \u001b[0mself\u001b[0m\u001b[1;33m.\u001b[0m\u001b[0mweights\u001b[0m\u001b[1;33m\u001b[0m\u001b[1;33m\u001b[0m\u001b[0m\n",
      "\u001b[1;32mc:\\users\\fabia\\appdata\\local\\programs\\python\\python37\\lib\\site-packages\\statsmodels\\regression\\linear_model.py\u001b[0m in \u001b[0;36m__init__\u001b[1;34m(self, endog, exog, **kwargs)\u001b[0m\n\u001b[0;32m    177\u001b[0m     \"\"\"\n\u001b[0;32m    178\u001b[0m     \u001b[1;32mdef\u001b[0m \u001b[0m__init__\u001b[0m\u001b[1;33m(\u001b[0m\u001b[0mself\u001b[0m\u001b[1;33m,\u001b[0m \u001b[0mendog\u001b[0m\u001b[1;33m,\u001b[0m \u001b[0mexog\u001b[0m\u001b[1;33m,\u001b[0m \u001b[1;33m**\u001b[0m\u001b[0mkwargs\u001b[0m\u001b[1;33m)\u001b[0m\u001b[1;33m:\u001b[0m\u001b[1;33m\u001b[0m\u001b[1;33m\u001b[0m\u001b[0m\n\u001b[1;32m--> 179\u001b[1;33m         \u001b[0msuper\u001b[0m\u001b[1;33m(\u001b[0m\u001b[0mRegressionModel\u001b[0m\u001b[1;33m,\u001b[0m \u001b[0mself\u001b[0m\u001b[1;33m)\u001b[0m\u001b[1;33m.\u001b[0m\u001b[0m__init__\u001b[0m\u001b[1;33m(\u001b[0m\u001b[0mendog\u001b[0m\u001b[1;33m,\u001b[0m \u001b[0mexog\u001b[0m\u001b[1;33m,\u001b[0m \u001b[1;33m**\u001b[0m\u001b[0mkwargs\u001b[0m\u001b[1;33m)\u001b[0m\u001b[1;33m\u001b[0m\u001b[1;33m\u001b[0m\u001b[0m\n\u001b[0m\u001b[0;32m    180\u001b[0m         \u001b[0mself\u001b[0m\u001b[1;33m.\u001b[0m\u001b[0m_data_attr\u001b[0m\u001b[1;33m.\u001b[0m\u001b[0mextend\u001b[0m\u001b[1;33m(\u001b[0m\u001b[1;33m[\u001b[0m\u001b[1;34m'pinv_wexog'\u001b[0m\u001b[1;33m,\u001b[0m \u001b[1;34m'wendog'\u001b[0m\u001b[1;33m,\u001b[0m \u001b[1;34m'wexog'\u001b[0m\u001b[1;33m,\u001b[0m \u001b[1;34m'weights'\u001b[0m\u001b[1;33m]\u001b[0m\u001b[1;33m)\u001b[0m\u001b[1;33m\u001b[0m\u001b[1;33m\u001b[0m\u001b[0m\n\u001b[0;32m    181\u001b[0m \u001b[1;33m\u001b[0m\u001b[0m\n",
      "\u001b[1;32mc:\\users\\fabia\\appdata\\local\\programs\\python\\python37\\lib\\site-packages\\statsmodels\\base\\model.py\u001b[0m in \u001b[0;36m__init__\u001b[1;34m(self, endog, exog, **kwargs)\u001b[0m\n\u001b[0;32m    210\u001b[0m \u001b[1;33m\u001b[0m\u001b[0m\n\u001b[0;32m    211\u001b[0m     \u001b[1;32mdef\u001b[0m \u001b[0m__init__\u001b[0m\u001b[1;33m(\u001b[0m\u001b[0mself\u001b[0m\u001b[1;33m,\u001b[0m \u001b[0mendog\u001b[0m\u001b[1;33m,\u001b[0m \u001b[0mexog\u001b[0m\u001b[1;33m=\u001b[0m\u001b[1;32mNone\u001b[0m\u001b[1;33m,\u001b[0m \u001b[1;33m**\u001b[0m\u001b[0mkwargs\u001b[0m\u001b[1;33m)\u001b[0m\u001b[1;33m:\u001b[0m\u001b[1;33m\u001b[0m\u001b[1;33m\u001b[0m\u001b[0m\n\u001b[1;32m--> 212\u001b[1;33m         \u001b[0msuper\u001b[0m\u001b[1;33m(\u001b[0m\u001b[0mLikelihoodModel\u001b[0m\u001b[1;33m,\u001b[0m \u001b[0mself\u001b[0m\u001b[1;33m)\u001b[0m\u001b[1;33m.\u001b[0m\u001b[0m__init__\u001b[0m\u001b[1;33m(\u001b[0m\u001b[0mendog\u001b[0m\u001b[1;33m,\u001b[0m \u001b[0mexog\u001b[0m\u001b[1;33m,\u001b[0m \u001b[1;33m**\u001b[0m\u001b[0mkwargs\u001b[0m\u001b[1;33m)\u001b[0m\u001b[1;33m\u001b[0m\u001b[1;33m\u001b[0m\u001b[0m\n\u001b[0m\u001b[0;32m    213\u001b[0m         \u001b[0mself\u001b[0m\u001b[1;33m.\u001b[0m\u001b[0minitialize\u001b[0m\u001b[1;33m(\u001b[0m\u001b[1;33m)\u001b[0m\u001b[1;33m\u001b[0m\u001b[1;33m\u001b[0m\u001b[0m\n\u001b[0;32m    214\u001b[0m \u001b[1;33m\u001b[0m\u001b[0m\n",
      "\u001b[1;32mc:\\users\\fabia\\appdata\\local\\programs\\python\\python37\\lib\\site-packages\\statsmodels\\base\\model.py\u001b[0m in \u001b[0;36m__init__\u001b[1;34m(self, endog, exog, **kwargs)\u001b[0m\n\u001b[0;32m     62\u001b[0m         \u001b[0mhasconst\u001b[0m \u001b[1;33m=\u001b[0m \u001b[0mkwargs\u001b[0m\u001b[1;33m.\u001b[0m\u001b[0mpop\u001b[0m\u001b[1;33m(\u001b[0m\u001b[1;34m'hasconst'\u001b[0m\u001b[1;33m,\u001b[0m \u001b[1;32mNone\u001b[0m\u001b[1;33m)\u001b[0m\u001b[1;33m\u001b[0m\u001b[1;33m\u001b[0m\u001b[0m\n\u001b[0;32m     63\u001b[0m         self.data = self._handle_data(endog, exog, missing, hasconst,\n\u001b[1;32m---> 64\u001b[1;33m                                       **kwargs)\n\u001b[0m\u001b[0;32m     65\u001b[0m         \u001b[0mself\u001b[0m\u001b[1;33m.\u001b[0m\u001b[0mk_constant\u001b[0m \u001b[1;33m=\u001b[0m \u001b[0mself\u001b[0m\u001b[1;33m.\u001b[0m\u001b[0mdata\u001b[0m\u001b[1;33m.\u001b[0m\u001b[0mk_constant\u001b[0m\u001b[1;33m\u001b[0m\u001b[1;33m\u001b[0m\u001b[0m\n\u001b[0;32m     66\u001b[0m         \u001b[0mself\u001b[0m\u001b[1;33m.\u001b[0m\u001b[0mexog\u001b[0m \u001b[1;33m=\u001b[0m \u001b[0mself\u001b[0m\u001b[1;33m.\u001b[0m\u001b[0mdata\u001b[0m\u001b[1;33m.\u001b[0m\u001b[0mexog\u001b[0m\u001b[1;33m\u001b[0m\u001b[1;33m\u001b[0m\u001b[0m\n",
      "\u001b[1;32mc:\\users\\fabia\\appdata\\local\\programs\\python\\python37\\lib\\site-packages\\statsmodels\\base\\model.py\u001b[0m in \u001b[0;36m_handle_data\u001b[1;34m(self, endog, exog, missing, hasconst, **kwargs)\u001b[0m\n\u001b[0;32m     85\u001b[0m \u001b[1;33m\u001b[0m\u001b[0m\n\u001b[0;32m     86\u001b[0m     \u001b[1;32mdef\u001b[0m \u001b[0m_handle_data\u001b[0m\u001b[1;33m(\u001b[0m\u001b[0mself\u001b[0m\u001b[1;33m,\u001b[0m \u001b[0mendog\u001b[0m\u001b[1;33m,\u001b[0m \u001b[0mexog\u001b[0m\u001b[1;33m,\u001b[0m \u001b[0mmissing\u001b[0m\u001b[1;33m,\u001b[0m \u001b[0mhasconst\u001b[0m\u001b[1;33m,\u001b[0m \u001b[1;33m**\u001b[0m\u001b[0mkwargs\u001b[0m\u001b[1;33m)\u001b[0m\u001b[1;33m:\u001b[0m\u001b[1;33m\u001b[0m\u001b[1;33m\u001b[0m\u001b[0m\n\u001b[1;32m---> 87\u001b[1;33m         \u001b[0mdata\u001b[0m \u001b[1;33m=\u001b[0m \u001b[0mhandle_data\u001b[0m\u001b[1;33m(\u001b[0m\u001b[0mendog\u001b[0m\u001b[1;33m,\u001b[0m \u001b[0mexog\u001b[0m\u001b[1;33m,\u001b[0m \u001b[0mmissing\u001b[0m\u001b[1;33m,\u001b[0m \u001b[0mhasconst\u001b[0m\u001b[1;33m,\u001b[0m \u001b[1;33m**\u001b[0m\u001b[0mkwargs\u001b[0m\u001b[1;33m)\u001b[0m\u001b[1;33m\u001b[0m\u001b[1;33m\u001b[0m\u001b[0m\n\u001b[0m\u001b[0;32m     88\u001b[0m         \u001b[1;31m# kwargs arrays could have changed, easier to just attach here\u001b[0m\u001b[1;33m\u001b[0m\u001b[1;33m\u001b[0m\u001b[1;33m\u001b[0m\u001b[0m\n\u001b[0;32m     89\u001b[0m         \u001b[1;32mfor\u001b[0m \u001b[0mkey\u001b[0m \u001b[1;32min\u001b[0m \u001b[0mkwargs\u001b[0m\u001b[1;33m:\u001b[0m\u001b[1;33m\u001b[0m\u001b[1;33m\u001b[0m\u001b[0m\n",
      "\u001b[1;32mc:\\users\\fabia\\appdata\\local\\programs\\python\\python37\\lib\\site-packages\\statsmodels\\base\\data.py\u001b[0m in \u001b[0;36mhandle_data\u001b[1;34m(endog, exog, missing, hasconst, **kwargs)\u001b[0m\n\u001b[0;32m    631\u001b[0m     \u001b[0mklass\u001b[0m \u001b[1;33m=\u001b[0m \u001b[0mhandle_data_class_factory\u001b[0m\u001b[1;33m(\u001b[0m\u001b[0mendog\u001b[0m\u001b[1;33m,\u001b[0m \u001b[0mexog\u001b[0m\u001b[1;33m)\u001b[0m\u001b[1;33m\u001b[0m\u001b[1;33m\u001b[0m\u001b[0m\n\u001b[0;32m    632\u001b[0m     return klass(endog, exog=exog, missing=missing, hasconst=hasconst,\n\u001b[1;32m--> 633\u001b[1;33m                  **kwargs)\n\u001b[0m",
      "\u001b[1;32mc:\\users\\fabia\\appdata\\local\\programs\\python\\python37\\lib\\site-packages\\statsmodels\\base\\data.py\u001b[0m in \u001b[0;36m__init__\u001b[1;34m(self, endog, exog, missing, hasconst, **kwargs)\u001b[0m\n\u001b[0;32m     77\u001b[0m \u001b[1;33m\u001b[0m\u001b[0m\n\u001b[0;32m     78\u001b[0m         \u001b[1;31m# this has side-effects, attaches k_constant and const_idx\u001b[0m\u001b[1;33m\u001b[0m\u001b[1;33m\u001b[0m\u001b[1;33m\u001b[0m\u001b[0m\n\u001b[1;32m---> 79\u001b[1;33m         \u001b[0mself\u001b[0m\u001b[1;33m.\u001b[0m\u001b[0m_handle_constant\u001b[0m\u001b[1;33m(\u001b[0m\u001b[0mhasconst\u001b[0m\u001b[1;33m)\u001b[0m\u001b[1;33m\u001b[0m\u001b[1;33m\u001b[0m\u001b[0m\n\u001b[0m\u001b[0;32m     80\u001b[0m         \u001b[0mself\u001b[0m\u001b[1;33m.\u001b[0m\u001b[0m_check_integrity\u001b[0m\u001b[1;33m(\u001b[0m\u001b[1;33m)\u001b[0m\u001b[1;33m\u001b[0m\u001b[1;33m\u001b[0m\u001b[0m\n\u001b[0;32m     81\u001b[0m         \u001b[0mself\u001b[0m\u001b[1;33m.\u001b[0m\u001b[0m_cache\u001b[0m \u001b[1;33m=\u001b[0m \u001b[0mresettable_cache\u001b[0m\u001b[1;33m(\u001b[0m\u001b[1;33m)\u001b[0m\u001b[1;33m\u001b[0m\u001b[1;33m\u001b[0m\u001b[0m\n",
      "\u001b[1;32mc:\\users\\fabia\\appdata\\local\\programs\\python\\python37\\lib\\site-packages\\statsmodels\\base\\data.py\u001b[0m in \u001b[0;36m_handle_constant\u001b[1;34m(self, hasconst)\u001b[0m\n\u001b[0;32m    129\u001b[0m             \u001b[1;31m# detect where the constant is\u001b[0m\u001b[1;33m\u001b[0m\u001b[1;33m\u001b[0m\u001b[1;33m\u001b[0m\u001b[0m\n\u001b[0;32m    130\u001b[0m             \u001b[0mcheck_implicit\u001b[0m \u001b[1;33m=\u001b[0m \u001b[1;32mFalse\u001b[0m\u001b[1;33m\u001b[0m\u001b[1;33m\u001b[0m\u001b[0m\n\u001b[1;32m--> 131\u001b[1;33m             \u001b[0mptp_\u001b[0m \u001b[1;33m=\u001b[0m \u001b[0mself\u001b[0m\u001b[1;33m.\u001b[0m\u001b[0mexog\u001b[0m\u001b[1;33m.\u001b[0m\u001b[0mptp\u001b[0m\u001b[1;33m(\u001b[0m\u001b[0maxis\u001b[0m\u001b[1;33m=\u001b[0m\u001b[1;36m0\u001b[0m\u001b[1;33m)\u001b[0m\u001b[1;33m\u001b[0m\u001b[1;33m\u001b[0m\u001b[0m\n\u001b[0m\u001b[0;32m    132\u001b[0m             \u001b[1;32mif\u001b[0m \u001b[1;32mnot\u001b[0m \u001b[0mnp\u001b[0m\u001b[1;33m.\u001b[0m\u001b[0misfinite\u001b[0m\u001b[1;33m(\u001b[0m\u001b[0mptp_\u001b[0m\u001b[1;33m)\u001b[0m\u001b[1;33m.\u001b[0m\u001b[0mall\u001b[0m\u001b[1;33m(\u001b[0m\u001b[1;33m)\u001b[0m\u001b[1;33m:\u001b[0m\u001b[1;33m\u001b[0m\u001b[1;33m\u001b[0m\u001b[0m\n\u001b[0;32m    133\u001b[0m                 \u001b[1;32mraise\u001b[0m \u001b[0mMissingDataError\u001b[0m\u001b[1;33m(\u001b[0m\u001b[1;34m'exog contains inf or nans'\u001b[0m\u001b[1;33m)\u001b[0m\u001b[1;33m\u001b[0m\u001b[1;33m\u001b[0m\u001b[0m\n",
      "\u001b[1;32mc:\\users\\fabia\\appdata\\local\\programs\\python\\python37\\lib\\site-packages\\numpy\\core\\_methods.py\u001b[0m in \u001b[0;36m_ptp\u001b[1;34m(a, axis, out, keepdims)\u001b[0m\n\u001b[0;32m    151\u001b[0m \u001b[1;32mdef\u001b[0m \u001b[0m_ptp\u001b[0m\u001b[1;33m(\u001b[0m\u001b[0ma\u001b[0m\u001b[1;33m,\u001b[0m \u001b[0maxis\u001b[0m\u001b[1;33m=\u001b[0m\u001b[1;32mNone\u001b[0m\u001b[1;33m,\u001b[0m \u001b[0mout\u001b[0m\u001b[1;33m=\u001b[0m\u001b[1;32mNone\u001b[0m\u001b[1;33m,\u001b[0m \u001b[0mkeepdims\u001b[0m\u001b[1;33m=\u001b[0m\u001b[1;32mFalse\u001b[0m\u001b[1;33m)\u001b[0m\u001b[1;33m:\u001b[0m\u001b[1;33m\u001b[0m\u001b[1;33m\u001b[0m\u001b[0m\n\u001b[0;32m    152\u001b[0m     return um.subtract(\n\u001b[1;32m--> 153\u001b[1;33m         \u001b[0mumr_maximum\u001b[0m\u001b[1;33m(\u001b[0m\u001b[0ma\u001b[0m\u001b[1;33m,\u001b[0m \u001b[0maxis\u001b[0m\u001b[1;33m,\u001b[0m \u001b[1;32mNone\u001b[0m\u001b[1;33m,\u001b[0m \u001b[0mout\u001b[0m\u001b[1;33m,\u001b[0m \u001b[0mkeepdims\u001b[0m\u001b[1;33m)\u001b[0m\u001b[1;33m,\u001b[0m\u001b[1;33m\u001b[0m\u001b[1;33m\u001b[0m\u001b[0m\n\u001b[0m\u001b[0;32m    154\u001b[0m         \u001b[0mumr_minimum\u001b[0m\u001b[1;33m(\u001b[0m\u001b[0ma\u001b[0m\u001b[1;33m,\u001b[0m \u001b[0maxis\u001b[0m\u001b[1;33m,\u001b[0m \u001b[1;32mNone\u001b[0m\u001b[1;33m,\u001b[0m \u001b[1;32mNone\u001b[0m\u001b[1;33m,\u001b[0m \u001b[0mkeepdims\u001b[0m\u001b[1;33m)\u001b[0m\u001b[1;33m,\u001b[0m\u001b[1;33m\u001b[0m\u001b[1;33m\u001b[0m\u001b[0m\n\u001b[0;32m    155\u001b[0m         \u001b[0mout\u001b[0m\u001b[1;33m\u001b[0m\u001b[1;33m\u001b[0m\u001b[0m\n",
      "\u001b[1;31mValueError\u001b[0m: zero-size array to reduction operation maximum which has no identity"
     ]
    }
   ],
   "source": [
    "# Table 6: First-Stage and Reduced-Form estimates \n",
    "df = pd.read_stata('data/replication_input.dta')\n",
    "df.drop_duplicates(keep='first', inplace=True)\n",
    "df=df.assign(event_year=lambda df:df.year-df.yr_approve)\n",
    "index=list(df)\n",
    "df['group_timeID']= df.groupby(['state_fps', 'cnty_fps', 'year']).grouper.group_info[0]\n",
    "df['indivID']= df.groupby(['state_fps', 'cnty_fps', 'tractstring']).grouper.group_info[0]\n",
    "df['clustID']= df.groupby(['state_fps', 'cnty_fps']).grouper.group_info[0] \n",
    "df.set_index(['indivID', 'group_timeID'], inplace=True)\n",
    "\n",
    "## estimates of column 1 (number of closings)\n",
    "est_numclose= pd.DataFrame(columns=['beta', 'SE'], index=range(-8, 10))\n",
    "beta=pd.DataFrame(index=range(-8, 10))\n",
    "std=pd.DataFrame(index=range(-8, 10))\n",
    "for i in range(-8, 11):\n",
    "    df['D'] = 0\n",
    "    df.loc[df['event_year'] >= i , 'D'] = 1\n",
    "    temp=df.loc[(df['event_year']==i) & df['overlap']==1]\n",
    "    #temp=df.loc[df['overlap']==1]\n",
    "    y, x = dmatrices('num_closings ~ D + popdensity + poptot + medincome + pminority + pcollege +  cont_totalbranches + cont_brgrowth', data=temp)\n",
    "    model_spec = sm.OLS(y, x)\n",
    "    #model_spec = PanelOLS(temp.num_closings, temp[['D', 'popdensity', 'poptot', 'medincome', 'pminority', 'pcollege', 'cont_totalbranches', 'cont_brgrowth']], entity_effects=True)\n",
    "    results = model_spec.fit(cov_type='HAC',cov_kwds={'maxlags':1})\n",
    "    #results = model_spec.fit(cov_type='clustered', cluster_entity=True)\n",
    "    #print(results.summary())\n",
    "    beta[i]=results.params[2]\n",
    "    std[i]=results.HC0_se[2]\n",
    "#pd.options.display.float_format = '{:.3f}'.format\n",
    "est_numclose['beta']=beta.T\n",
    "est_numclose['SE']=std.T\n",
    "\n",
    "## estimates of column 2 (total branches)\n",
    "est_totalbranches= pd.DataFrame(columns=['beta', 'SE'], index=range(-8, 10))\n",
    "for i in range(-8, 11):\n",
    "    df['D'] = 0\n",
    "    df.loc[df['event_year'] >= i , 'D'] = 1\n",
    "    temp=df.loc[(df['event_year']==i) & df['overlap']==1]\n",
    "    y, x = dmatrices('totalbranches ~ D + popdensity + poptot + medincome + pminority + pcollege +  cont_totalbranches + cont_brgrowth', data=temp)\n",
    "    model_spec = sm.OLS(y, x)\n",
    "    results = model_spec.fit(cov_type='HAC',cov_kwds={'maxlags':1})\n",
    "    #model_spec = PanelOLS(temp.totalbranches, temp[['D', 'popdensity', 'poptot', 'medincome', 'pminority', 'pcollege', 'cont_totalbranches', 'cont_brgrowth']], entity_effects=True)\n",
    "    #results = model_spec.fit(cov_type='clustered', cluster_entity=True)\n",
    "    beta[i]=results.params[2]\n",
    "    std[i]=results.HC0_se[2]\n",
    "#pd.options.display.float_format = '{:.3f}'.format\n",
    "est_totalbranches['beta']=beta.T\n",
    "est_totalbranches['SE']=std.T\n",
    "\n",
    "## estimates of column 3 (SBL origin)\n",
    "est_SBLorigin= pd.DataFrame(columns=['beta', 'SE'], index=range(-8, 10))\n",
    "for i in range(-8, 11):\n",
    "    df['D'] = 0\n",
    "    df.loc[df['event_year'] >= i , 'D'] = 1\n",
    "    temp=df.loc[(df['event_year']==i) & df['overlap']==1]\n",
    "    y, x = dmatrices('NumSBL_Rev1 ~ D + popdensity + poptot + medincome + pminority + pcollege +  cont_totalbranches + cont_brgrowth', data=temp)\n",
    "    model_spec = sm.OLS(y, x)\n",
    "    results = model_spec.fit(cov_type='HAC',cov_kwds={'maxlags':1})\n",
    "    #model_spec = PanelOLS(temp.NumSBL_Rev1, temp[['D', 'popdensity', 'poptot', 'medincome', 'pminority', 'pcollege', 'cont_totalbranches', 'cont_brgrowth']], entity_effects=True)\n",
    "    #results = model_spec.fit(cov_type='clustered', cluster_entity=True)\n",
    "    beta[i]=results.params[2]\n",
    "    std[i]=results.HC0_se[2]\n",
    "#pd.options.display.float_format = '{:.3f}'.format\n",
    "est_SBLorigin['beta']=beta.T\n",
    "est_SBLorigin['SE']=std.T\n",
    "\n",
    "## estimates of column 4 (Mortgage origin)\n",
    "est_Morigin= pd.DataFrame(columns=['beta', 'SE'], index=range(-8, 10))\n",
    "for i in range(-8, 11):\n",
    "    df['D'] = 0\n",
    "    df.loc[df['event_year'] >= i , 'D'] = 1\n",
    "    temp=df.loc[(df['event_year']==i) & df['overlap']==1]\n",
    "    y, x = dmatrices('total_origin ~ D + popdensity + poptot + medincome + pminority + pcollege +  cont_totalbranches + cont_brgrowth', data=temp)\n",
    "    model_spec = sm.OLS(y, x)\n",
    "    results = model_spec.fit(cov_type='HAC',cov_kwds={'maxlags':1})\n",
    "    #model_spec = PanelOLS(temp.total_origin, temp[['D', 'popdensity', 'poptot', 'medincome', 'pminority', 'pcollege', 'cont_totalbranches', 'cont_brgrowth']], entity_effects=True)\n",
    "    #results = model_spec.fit(cov_type='clustered', cluster_entity=True)\n",
    "    beta[i]=results.params[2]\n",
    "    std[i]=results.HC0_se[2]\n",
    "#pd.options.display.float_format = '{:.3f}'.format\n",
    "est_Morigin['beta']=beta.T\n",
    "est_Morigin['SE']=std.T\n",
    "\n",
    "## finish table 6 by producing a df containing all estimates\n",
    "df_t= pd.DataFrame(columns=['Num_closings', 'Total_branches', 'SBL_origin', 'Mortgage_origin'], index=range(-8, 10))\n",
    "df_t['Num_closings']      = est_totalbranches['beta']\n",
    "df_t['Total_branches']    = est_totalbranches['beta']\n",
    "df_t['SBL_origin']        = est_SBLorigin['beta']\n",
    "df_t['Mortgage_origin']   = est_Morigin['beta']"
   ]
  },
  {
   "cell_type": "code",
   "execution_count": 2,
   "metadata": {},
   "outputs": [
    {
     "ename": "ValueError",
     "evalue": "zero-size array to reduction operation maximum which has no identity",
     "output_type": "error",
     "traceback": [
      "\u001b[1;31m---------------------------------------------------------------------------\u001b[0m",
      "\u001b[1;31mValueError\u001b[0m                                Traceback (most recent call last)",
      "\u001b[1;32m<ipython-input-2-cf8f5df273c2>\u001b[0m in \u001b[0;36m<module>\u001b[1;34m\u001b[0m\n\u001b[0;32m     54\u001b[0m     \u001b[0mtemp\u001b[0m\u001b[1;33m=\u001b[0m\u001b[0mdf\u001b[0m\u001b[1;33m.\u001b[0m\u001b[0mloc\u001b[0m\u001b[1;33m[\u001b[0m\u001b[1;33m(\u001b[0m\u001b[0mdf\u001b[0m\u001b[1;33m[\u001b[0m\u001b[1;34m'event_year'\u001b[0m\u001b[1;33m]\u001b[0m\u001b[1;33m==\u001b[0m\u001b[0mi\u001b[0m\u001b[1;33m)\u001b[0m \u001b[1;33m&\u001b[0m \u001b[0mdf\u001b[0m\u001b[1;33m[\u001b[0m\u001b[1;34m'overlap'\u001b[0m\u001b[1;33m]\u001b[0m\u001b[1;33m==\u001b[0m\u001b[1;36m1\u001b[0m\u001b[1;33m]\u001b[0m\u001b[1;33m\u001b[0m\u001b[1;33m\u001b[0m\u001b[0m\n\u001b[0;32m     55\u001b[0m     \u001b[0my\u001b[0m\u001b[1;33m,\u001b[0m \u001b[0mx\u001b[0m \u001b[1;33m=\u001b[0m \u001b[0mdmatrices\u001b[0m\u001b[1;33m(\u001b[0m\u001b[1;34m'NumSBL_Rev1 ~ D + popdensity + poptot + medincome + pminority + pcollege +  cont_totalbranches + cont_brgrowth'\u001b[0m\u001b[1;33m,\u001b[0m \u001b[0mdata\u001b[0m\u001b[1;33m=\u001b[0m\u001b[0mtemp\u001b[0m\u001b[1;33m)\u001b[0m\u001b[1;33m\u001b[0m\u001b[1;33m\u001b[0m\u001b[0m\n\u001b[1;32m---> 56\u001b[1;33m     \u001b[0mmodel_spec\u001b[0m \u001b[1;33m=\u001b[0m \u001b[0msm\u001b[0m\u001b[1;33m.\u001b[0m\u001b[0mOLS\u001b[0m\u001b[1;33m(\u001b[0m\u001b[0my\u001b[0m\u001b[1;33m,\u001b[0m \u001b[0mx\u001b[0m\u001b[1;33m)\u001b[0m\u001b[1;33m\u001b[0m\u001b[1;33m\u001b[0m\u001b[0m\n\u001b[0m\u001b[0;32m     57\u001b[0m     \u001b[0mresults\u001b[0m \u001b[1;33m=\u001b[0m \u001b[0mmodel_spec\u001b[0m\u001b[1;33m.\u001b[0m\u001b[0mfit\u001b[0m\u001b[1;33m(\u001b[0m\u001b[0mcov_type\u001b[0m\u001b[1;33m=\u001b[0m\u001b[1;34m'HAC'\u001b[0m\u001b[1;33m,\u001b[0m\u001b[0mcov_kwds\u001b[0m\u001b[1;33m=\u001b[0m\u001b[1;33m{\u001b[0m\u001b[1;34m'maxlags'\u001b[0m\u001b[1;33m:\u001b[0m\u001b[1;36m1\u001b[0m\u001b[1;33m}\u001b[0m\u001b[1;33m)\u001b[0m\u001b[1;33m\u001b[0m\u001b[1;33m\u001b[0m\u001b[0m\n\u001b[0;32m     58\u001b[0m     \u001b[1;31m#model_spec = PanelOLS(temp.NumSBL_Rev1, temp[['D', 'popdensity', 'poptot', 'medincome', 'pminority', 'pcollege', 'cont_totalbranches', 'cont_brgrowth']], entity_effects=True)\u001b[0m\u001b[1;33m\u001b[0m\u001b[1;33m\u001b[0m\u001b[1;33m\u001b[0m\u001b[0m\n",
      "\u001b[1;32mc:\\users\\fabia\\appdata\\local\\programs\\python\\python37\\lib\\site-packages\\statsmodels\\regression\\linear_model.py\u001b[0m in \u001b[0;36m__init__\u001b[1;34m(self, endog, exog, missing, hasconst, **kwargs)\u001b[0m\n\u001b[0;32m    815\u001b[0m                  **kwargs):\n\u001b[0;32m    816\u001b[0m         super(OLS, self).__init__(endog, exog, missing=missing,\n\u001b[1;32m--> 817\u001b[1;33m                                   hasconst=hasconst, **kwargs)\n\u001b[0m\u001b[0;32m    818\u001b[0m         \u001b[1;32mif\u001b[0m \u001b[1;34m\"weights\"\u001b[0m \u001b[1;32min\u001b[0m \u001b[0mself\u001b[0m\u001b[1;33m.\u001b[0m\u001b[0m_init_keys\u001b[0m\u001b[1;33m:\u001b[0m\u001b[1;33m\u001b[0m\u001b[1;33m\u001b[0m\u001b[0m\n\u001b[0;32m    819\u001b[0m             \u001b[0mself\u001b[0m\u001b[1;33m.\u001b[0m\u001b[0m_init_keys\u001b[0m\u001b[1;33m.\u001b[0m\u001b[0mremove\u001b[0m\u001b[1;33m(\u001b[0m\u001b[1;34m\"weights\"\u001b[0m\u001b[1;33m)\u001b[0m\u001b[1;33m\u001b[0m\u001b[1;33m\u001b[0m\u001b[0m\n",
      "\u001b[1;32mc:\\users\\fabia\\appdata\\local\\programs\\python\\python37\\lib\\site-packages\\statsmodels\\regression\\linear_model.py\u001b[0m in \u001b[0;36m__init__\u001b[1;34m(self, endog, exog, weights, missing, hasconst, **kwargs)\u001b[0m\n\u001b[0;32m    661\u001b[0m             \u001b[0mweights\u001b[0m \u001b[1;33m=\u001b[0m \u001b[0mweights\u001b[0m\u001b[1;33m.\u001b[0m\u001b[0msqueeze\u001b[0m\u001b[1;33m(\u001b[0m\u001b[1;33m)\u001b[0m\u001b[1;33m\u001b[0m\u001b[1;33m\u001b[0m\u001b[0m\n\u001b[0;32m    662\u001b[0m         super(WLS, self).__init__(endog, exog, missing=missing,\n\u001b[1;32m--> 663\u001b[1;33m                                   weights=weights, hasconst=hasconst, **kwargs)\n\u001b[0m\u001b[0;32m    664\u001b[0m         \u001b[0mnobs\u001b[0m \u001b[1;33m=\u001b[0m \u001b[0mself\u001b[0m\u001b[1;33m.\u001b[0m\u001b[0mexog\u001b[0m\u001b[1;33m.\u001b[0m\u001b[0mshape\u001b[0m\u001b[1;33m[\u001b[0m\u001b[1;36m0\u001b[0m\u001b[1;33m]\u001b[0m\u001b[1;33m\u001b[0m\u001b[1;33m\u001b[0m\u001b[0m\n\u001b[0;32m    665\u001b[0m         \u001b[0mweights\u001b[0m \u001b[1;33m=\u001b[0m \u001b[0mself\u001b[0m\u001b[1;33m.\u001b[0m\u001b[0mweights\u001b[0m\u001b[1;33m\u001b[0m\u001b[1;33m\u001b[0m\u001b[0m\n",
      "\u001b[1;32mc:\\users\\fabia\\appdata\\local\\programs\\python\\python37\\lib\\site-packages\\statsmodels\\regression\\linear_model.py\u001b[0m in \u001b[0;36m__init__\u001b[1;34m(self, endog, exog, **kwargs)\u001b[0m\n\u001b[0;32m    177\u001b[0m     \"\"\"\n\u001b[0;32m    178\u001b[0m     \u001b[1;32mdef\u001b[0m \u001b[0m__init__\u001b[0m\u001b[1;33m(\u001b[0m\u001b[0mself\u001b[0m\u001b[1;33m,\u001b[0m \u001b[0mendog\u001b[0m\u001b[1;33m,\u001b[0m \u001b[0mexog\u001b[0m\u001b[1;33m,\u001b[0m \u001b[1;33m**\u001b[0m\u001b[0mkwargs\u001b[0m\u001b[1;33m)\u001b[0m\u001b[1;33m:\u001b[0m\u001b[1;33m\u001b[0m\u001b[1;33m\u001b[0m\u001b[0m\n\u001b[1;32m--> 179\u001b[1;33m         \u001b[0msuper\u001b[0m\u001b[1;33m(\u001b[0m\u001b[0mRegressionModel\u001b[0m\u001b[1;33m,\u001b[0m \u001b[0mself\u001b[0m\u001b[1;33m)\u001b[0m\u001b[1;33m.\u001b[0m\u001b[0m__init__\u001b[0m\u001b[1;33m(\u001b[0m\u001b[0mendog\u001b[0m\u001b[1;33m,\u001b[0m \u001b[0mexog\u001b[0m\u001b[1;33m,\u001b[0m \u001b[1;33m**\u001b[0m\u001b[0mkwargs\u001b[0m\u001b[1;33m)\u001b[0m\u001b[1;33m\u001b[0m\u001b[1;33m\u001b[0m\u001b[0m\n\u001b[0m\u001b[0;32m    180\u001b[0m         \u001b[0mself\u001b[0m\u001b[1;33m.\u001b[0m\u001b[0m_data_attr\u001b[0m\u001b[1;33m.\u001b[0m\u001b[0mextend\u001b[0m\u001b[1;33m(\u001b[0m\u001b[1;33m[\u001b[0m\u001b[1;34m'pinv_wexog'\u001b[0m\u001b[1;33m,\u001b[0m \u001b[1;34m'wendog'\u001b[0m\u001b[1;33m,\u001b[0m \u001b[1;34m'wexog'\u001b[0m\u001b[1;33m,\u001b[0m \u001b[1;34m'weights'\u001b[0m\u001b[1;33m]\u001b[0m\u001b[1;33m)\u001b[0m\u001b[1;33m\u001b[0m\u001b[1;33m\u001b[0m\u001b[0m\n\u001b[0;32m    181\u001b[0m \u001b[1;33m\u001b[0m\u001b[0m\n",
      "\u001b[1;32mc:\\users\\fabia\\appdata\\local\\programs\\python\\python37\\lib\\site-packages\\statsmodels\\base\\model.py\u001b[0m in \u001b[0;36m__init__\u001b[1;34m(self, endog, exog, **kwargs)\u001b[0m\n\u001b[0;32m    210\u001b[0m \u001b[1;33m\u001b[0m\u001b[0m\n\u001b[0;32m    211\u001b[0m     \u001b[1;32mdef\u001b[0m \u001b[0m__init__\u001b[0m\u001b[1;33m(\u001b[0m\u001b[0mself\u001b[0m\u001b[1;33m,\u001b[0m \u001b[0mendog\u001b[0m\u001b[1;33m,\u001b[0m \u001b[0mexog\u001b[0m\u001b[1;33m=\u001b[0m\u001b[1;32mNone\u001b[0m\u001b[1;33m,\u001b[0m \u001b[1;33m**\u001b[0m\u001b[0mkwargs\u001b[0m\u001b[1;33m)\u001b[0m\u001b[1;33m:\u001b[0m\u001b[1;33m\u001b[0m\u001b[1;33m\u001b[0m\u001b[0m\n\u001b[1;32m--> 212\u001b[1;33m         \u001b[0msuper\u001b[0m\u001b[1;33m(\u001b[0m\u001b[0mLikelihoodModel\u001b[0m\u001b[1;33m,\u001b[0m \u001b[0mself\u001b[0m\u001b[1;33m)\u001b[0m\u001b[1;33m.\u001b[0m\u001b[0m__init__\u001b[0m\u001b[1;33m(\u001b[0m\u001b[0mendog\u001b[0m\u001b[1;33m,\u001b[0m \u001b[0mexog\u001b[0m\u001b[1;33m,\u001b[0m \u001b[1;33m**\u001b[0m\u001b[0mkwargs\u001b[0m\u001b[1;33m)\u001b[0m\u001b[1;33m\u001b[0m\u001b[1;33m\u001b[0m\u001b[0m\n\u001b[0m\u001b[0;32m    213\u001b[0m         \u001b[0mself\u001b[0m\u001b[1;33m.\u001b[0m\u001b[0minitialize\u001b[0m\u001b[1;33m(\u001b[0m\u001b[1;33m)\u001b[0m\u001b[1;33m\u001b[0m\u001b[1;33m\u001b[0m\u001b[0m\n\u001b[0;32m    214\u001b[0m \u001b[1;33m\u001b[0m\u001b[0m\n",
      "\u001b[1;32mc:\\users\\fabia\\appdata\\local\\programs\\python\\python37\\lib\\site-packages\\statsmodels\\base\\model.py\u001b[0m in \u001b[0;36m__init__\u001b[1;34m(self, endog, exog, **kwargs)\u001b[0m\n\u001b[0;32m     62\u001b[0m         \u001b[0mhasconst\u001b[0m \u001b[1;33m=\u001b[0m \u001b[0mkwargs\u001b[0m\u001b[1;33m.\u001b[0m\u001b[0mpop\u001b[0m\u001b[1;33m(\u001b[0m\u001b[1;34m'hasconst'\u001b[0m\u001b[1;33m,\u001b[0m \u001b[1;32mNone\u001b[0m\u001b[1;33m)\u001b[0m\u001b[1;33m\u001b[0m\u001b[1;33m\u001b[0m\u001b[0m\n\u001b[0;32m     63\u001b[0m         self.data = self._handle_data(endog, exog, missing, hasconst,\n\u001b[1;32m---> 64\u001b[1;33m                                       **kwargs)\n\u001b[0m\u001b[0;32m     65\u001b[0m         \u001b[0mself\u001b[0m\u001b[1;33m.\u001b[0m\u001b[0mk_constant\u001b[0m \u001b[1;33m=\u001b[0m \u001b[0mself\u001b[0m\u001b[1;33m.\u001b[0m\u001b[0mdata\u001b[0m\u001b[1;33m.\u001b[0m\u001b[0mk_constant\u001b[0m\u001b[1;33m\u001b[0m\u001b[1;33m\u001b[0m\u001b[0m\n\u001b[0;32m     66\u001b[0m         \u001b[0mself\u001b[0m\u001b[1;33m.\u001b[0m\u001b[0mexog\u001b[0m \u001b[1;33m=\u001b[0m \u001b[0mself\u001b[0m\u001b[1;33m.\u001b[0m\u001b[0mdata\u001b[0m\u001b[1;33m.\u001b[0m\u001b[0mexog\u001b[0m\u001b[1;33m\u001b[0m\u001b[1;33m\u001b[0m\u001b[0m\n",
      "\u001b[1;32mc:\\users\\fabia\\appdata\\local\\programs\\python\\python37\\lib\\site-packages\\statsmodels\\base\\model.py\u001b[0m in \u001b[0;36m_handle_data\u001b[1;34m(self, endog, exog, missing, hasconst, **kwargs)\u001b[0m\n\u001b[0;32m     85\u001b[0m \u001b[1;33m\u001b[0m\u001b[0m\n\u001b[0;32m     86\u001b[0m     \u001b[1;32mdef\u001b[0m \u001b[0m_handle_data\u001b[0m\u001b[1;33m(\u001b[0m\u001b[0mself\u001b[0m\u001b[1;33m,\u001b[0m \u001b[0mendog\u001b[0m\u001b[1;33m,\u001b[0m \u001b[0mexog\u001b[0m\u001b[1;33m,\u001b[0m \u001b[0mmissing\u001b[0m\u001b[1;33m,\u001b[0m \u001b[0mhasconst\u001b[0m\u001b[1;33m,\u001b[0m \u001b[1;33m**\u001b[0m\u001b[0mkwargs\u001b[0m\u001b[1;33m)\u001b[0m\u001b[1;33m:\u001b[0m\u001b[1;33m\u001b[0m\u001b[1;33m\u001b[0m\u001b[0m\n\u001b[1;32m---> 87\u001b[1;33m         \u001b[0mdata\u001b[0m \u001b[1;33m=\u001b[0m \u001b[0mhandle_data\u001b[0m\u001b[1;33m(\u001b[0m\u001b[0mendog\u001b[0m\u001b[1;33m,\u001b[0m \u001b[0mexog\u001b[0m\u001b[1;33m,\u001b[0m \u001b[0mmissing\u001b[0m\u001b[1;33m,\u001b[0m \u001b[0mhasconst\u001b[0m\u001b[1;33m,\u001b[0m \u001b[1;33m**\u001b[0m\u001b[0mkwargs\u001b[0m\u001b[1;33m)\u001b[0m\u001b[1;33m\u001b[0m\u001b[1;33m\u001b[0m\u001b[0m\n\u001b[0m\u001b[0;32m     88\u001b[0m         \u001b[1;31m# kwargs arrays could have changed, easier to just attach here\u001b[0m\u001b[1;33m\u001b[0m\u001b[1;33m\u001b[0m\u001b[1;33m\u001b[0m\u001b[0m\n\u001b[0;32m     89\u001b[0m         \u001b[1;32mfor\u001b[0m \u001b[0mkey\u001b[0m \u001b[1;32min\u001b[0m \u001b[0mkwargs\u001b[0m\u001b[1;33m:\u001b[0m\u001b[1;33m\u001b[0m\u001b[1;33m\u001b[0m\u001b[0m\n",
      "\u001b[1;32mc:\\users\\fabia\\appdata\\local\\programs\\python\\python37\\lib\\site-packages\\statsmodels\\base\\data.py\u001b[0m in \u001b[0;36mhandle_data\u001b[1;34m(endog, exog, missing, hasconst, **kwargs)\u001b[0m\n\u001b[0;32m    631\u001b[0m     \u001b[0mklass\u001b[0m \u001b[1;33m=\u001b[0m \u001b[0mhandle_data_class_factory\u001b[0m\u001b[1;33m(\u001b[0m\u001b[0mendog\u001b[0m\u001b[1;33m,\u001b[0m \u001b[0mexog\u001b[0m\u001b[1;33m)\u001b[0m\u001b[1;33m\u001b[0m\u001b[1;33m\u001b[0m\u001b[0m\n\u001b[0;32m    632\u001b[0m     return klass(endog, exog=exog, missing=missing, hasconst=hasconst,\n\u001b[1;32m--> 633\u001b[1;33m                  **kwargs)\n\u001b[0m",
      "\u001b[1;32mc:\\users\\fabia\\appdata\\local\\programs\\python\\python37\\lib\\site-packages\\statsmodels\\base\\data.py\u001b[0m in \u001b[0;36m__init__\u001b[1;34m(self, endog, exog, missing, hasconst, **kwargs)\u001b[0m\n\u001b[0;32m     77\u001b[0m \u001b[1;33m\u001b[0m\u001b[0m\n\u001b[0;32m     78\u001b[0m         \u001b[1;31m# this has side-effects, attaches k_constant and const_idx\u001b[0m\u001b[1;33m\u001b[0m\u001b[1;33m\u001b[0m\u001b[1;33m\u001b[0m\u001b[0m\n\u001b[1;32m---> 79\u001b[1;33m         \u001b[0mself\u001b[0m\u001b[1;33m.\u001b[0m\u001b[0m_handle_constant\u001b[0m\u001b[1;33m(\u001b[0m\u001b[0mhasconst\u001b[0m\u001b[1;33m)\u001b[0m\u001b[1;33m\u001b[0m\u001b[1;33m\u001b[0m\u001b[0m\n\u001b[0m\u001b[0;32m     80\u001b[0m         \u001b[0mself\u001b[0m\u001b[1;33m.\u001b[0m\u001b[0m_check_integrity\u001b[0m\u001b[1;33m(\u001b[0m\u001b[1;33m)\u001b[0m\u001b[1;33m\u001b[0m\u001b[1;33m\u001b[0m\u001b[0m\n\u001b[0;32m     81\u001b[0m         \u001b[0mself\u001b[0m\u001b[1;33m.\u001b[0m\u001b[0m_cache\u001b[0m \u001b[1;33m=\u001b[0m \u001b[0mresettable_cache\u001b[0m\u001b[1;33m(\u001b[0m\u001b[1;33m)\u001b[0m\u001b[1;33m\u001b[0m\u001b[1;33m\u001b[0m\u001b[0m\n",
      "\u001b[1;32mc:\\users\\fabia\\appdata\\local\\programs\\python\\python37\\lib\\site-packages\\statsmodels\\base\\data.py\u001b[0m in \u001b[0;36m_handle_constant\u001b[1;34m(self, hasconst)\u001b[0m\n\u001b[0;32m    129\u001b[0m             \u001b[1;31m# detect where the constant is\u001b[0m\u001b[1;33m\u001b[0m\u001b[1;33m\u001b[0m\u001b[1;33m\u001b[0m\u001b[0m\n\u001b[0;32m    130\u001b[0m             \u001b[0mcheck_implicit\u001b[0m \u001b[1;33m=\u001b[0m \u001b[1;32mFalse\u001b[0m\u001b[1;33m\u001b[0m\u001b[1;33m\u001b[0m\u001b[0m\n\u001b[1;32m--> 131\u001b[1;33m             \u001b[0mptp_\u001b[0m \u001b[1;33m=\u001b[0m \u001b[0mself\u001b[0m\u001b[1;33m.\u001b[0m\u001b[0mexog\u001b[0m\u001b[1;33m.\u001b[0m\u001b[0mptp\u001b[0m\u001b[1;33m(\u001b[0m\u001b[0maxis\u001b[0m\u001b[1;33m=\u001b[0m\u001b[1;36m0\u001b[0m\u001b[1;33m)\u001b[0m\u001b[1;33m\u001b[0m\u001b[1;33m\u001b[0m\u001b[0m\n\u001b[0m\u001b[0;32m    132\u001b[0m             \u001b[1;32mif\u001b[0m \u001b[1;32mnot\u001b[0m \u001b[0mnp\u001b[0m\u001b[1;33m.\u001b[0m\u001b[0misfinite\u001b[0m\u001b[1;33m(\u001b[0m\u001b[0mptp_\u001b[0m\u001b[1;33m)\u001b[0m\u001b[1;33m.\u001b[0m\u001b[0mall\u001b[0m\u001b[1;33m(\u001b[0m\u001b[1;33m)\u001b[0m\u001b[1;33m:\u001b[0m\u001b[1;33m\u001b[0m\u001b[1;33m\u001b[0m\u001b[0m\n\u001b[0;32m    133\u001b[0m                 \u001b[1;32mraise\u001b[0m \u001b[0mMissingDataError\u001b[0m\u001b[1;33m(\u001b[0m\u001b[1;34m'exog contains inf or nans'\u001b[0m\u001b[1;33m)\u001b[0m\u001b[1;33m\u001b[0m\u001b[1;33m\u001b[0m\u001b[0m\n",
      "\u001b[1;32mc:\\users\\fabia\\appdata\\local\\programs\\python\\python37\\lib\\site-packages\\numpy\\core\\_methods.py\u001b[0m in \u001b[0;36m_ptp\u001b[1;34m(a, axis, out, keepdims)\u001b[0m\n\u001b[0;32m    151\u001b[0m \u001b[1;32mdef\u001b[0m \u001b[0m_ptp\u001b[0m\u001b[1;33m(\u001b[0m\u001b[0ma\u001b[0m\u001b[1;33m,\u001b[0m \u001b[0maxis\u001b[0m\u001b[1;33m=\u001b[0m\u001b[1;32mNone\u001b[0m\u001b[1;33m,\u001b[0m \u001b[0mout\u001b[0m\u001b[1;33m=\u001b[0m\u001b[1;32mNone\u001b[0m\u001b[1;33m,\u001b[0m \u001b[0mkeepdims\u001b[0m\u001b[1;33m=\u001b[0m\u001b[1;32mFalse\u001b[0m\u001b[1;33m)\u001b[0m\u001b[1;33m:\u001b[0m\u001b[1;33m\u001b[0m\u001b[1;33m\u001b[0m\u001b[0m\n\u001b[0;32m    152\u001b[0m     return um.subtract(\n\u001b[1;32m--> 153\u001b[1;33m         \u001b[0mumr_maximum\u001b[0m\u001b[1;33m(\u001b[0m\u001b[0ma\u001b[0m\u001b[1;33m,\u001b[0m \u001b[0maxis\u001b[0m\u001b[1;33m,\u001b[0m \u001b[1;32mNone\u001b[0m\u001b[1;33m,\u001b[0m \u001b[0mout\u001b[0m\u001b[1;33m,\u001b[0m \u001b[0mkeepdims\u001b[0m\u001b[1;33m)\u001b[0m\u001b[1;33m,\u001b[0m\u001b[1;33m\u001b[0m\u001b[1;33m\u001b[0m\u001b[0m\n\u001b[0m\u001b[0;32m    154\u001b[0m         \u001b[0mumr_minimum\u001b[0m\u001b[1;33m(\u001b[0m\u001b[0ma\u001b[0m\u001b[1;33m,\u001b[0m \u001b[0maxis\u001b[0m\u001b[1;33m,\u001b[0m \u001b[1;32mNone\u001b[0m\u001b[1;33m,\u001b[0m \u001b[1;32mNone\u001b[0m\u001b[1;33m,\u001b[0m \u001b[0mkeepdims\u001b[0m\u001b[1;33m)\u001b[0m\u001b[1;33m,\u001b[0m\u001b[1;33m\u001b[0m\u001b[1;33m\u001b[0m\u001b[0m\n\u001b[0;32m    155\u001b[0m         \u001b[0mout\u001b[0m\u001b[1;33m\u001b[0m\u001b[1;33m\u001b[0m\u001b[0m\n",
      "\u001b[1;31mValueError\u001b[0m: zero-size array to reduction operation maximum which has no identity"
     ]
    }
   ],
   "source": [
    "# Table 6: First-Stage and Reduced-Form estimates using R\n",
    "df = pd.read_stata('data/replication_input.dta')\n",
    "df.drop_duplicates(keep='first', inplace=True)\n",
    "df=df.assign(event_year=lambda df:df.year-df.yr_approve)\n",
    "index=list(df)\n",
    "df['group_timeID']= df.groupby(['state_fps', 'cnty_fps', 'year']).grouper.group_info[0]\n",
    "df['indivID']= df.groupby(['state_fps', 'cnty_fps', 'tractstring']).grouper.group_info[0]\n",
    "df['clustID']= df.groupby(['state_fps', 'cnty_fps']).grouper.group_info[0] \n",
    "df.set_index(['indivID', 'group_timeID'], inplace=True)\n",
    "%R require(plm)\n",
    "\n",
    "## estimates of column 1 (number of closings)\n",
    "est_numclose= pd.DataFrame(columns=['beta', 'SE'], index=range(-8, 10))\n",
    "beta=pd.DataFrame(index=range(-8, 10))\n",
    "std=pd.DataFrame(index=range(-8, 10))\n",
    "for i in range(-8, 11):\n",
    "    df['D'] = 0\n",
    "    df.loc[df['event_year'] >= i , 'D'] = 1\n",
    "    temp=df.loc[(df['event_year']==i) & df['overlap']==1]\n",
    "    %R -i temp mod = plm( ln_wage ~   grade + age + ttl_exp + tenure+  not_smsa  + south + as.factor(indivID)+ as.factor(group_timeID), data=temp, index=c('indivID', 'group_timeID'), model=\"with\", effect=\"twoways\")\n",
    "    %R -i temp summary(mod)  # unclustered errors\n",
    "    %R -i temp coeftest(mod, vcov=vcovHC(mod,type=\"HC0\",cluster=\"group\"))[1:7,1:4] # clustered errors\n",
    "    beta[i]=results.params[2]\n",
    "    std[i]=results.HC0_se[2]\n",
    "#pd.options.display.float_format = '{:.3f}'.format\n",
    "est_numclose['beta']=beta.T\n",
    "est_numclose['SE']=std.T\n",
    "\n",
    "## estimates of column 2 (total branches)\n",
    "est_totalbranches= pd.DataFrame(columns=['beta', 'SE'], index=range(-8, 10))\n",
    "for i in range(-8, 11):\n",
    "    df['D'] = 0\n",
    "    df.loc[df['event_year'] >= i , 'D'] = 1\n",
    "    temp=df.loc[(df['event_year']==i) & df['overlap']==1]\n",
    "    y, x = dmatrices('totalbranches ~ D + popdensity + poptot + medincome + pminority + pcollege +  cont_totalbranches + cont_brgrowth', data=temp)\n",
    "    model_spec = sm.OLS(y, x)\n",
    "    results = model_spec.fit(cov_type='HAC',cov_kwds={'maxlags':1})\n",
    "    #model_spec = PanelOLS(temp.totalbranches, temp[['D', 'popdensity', 'poptot', 'medincome', 'pminority', 'pcollege', 'cont_totalbranches', 'cont_brgrowth']], entity_effects=True)\n",
    "    #results = model_spec.fit(cov_type='clustered', cluster_entity=True)\n",
    "    beta[i]=results.params[2]\n",
    "    std[i]=results.HC0_se[2]\n",
    "#pd.options.display.float_format = '{:.3f}'.format\n",
    "est_totalbranches['beta']=beta.T\n",
    "est_totalbranches['SE']=std.T\n",
    "\n",
    "## estimates of column 3 (SBL origin)\n",
    "est_SBLorigin= pd.DataFrame(columns=['beta', 'SE'], index=range(-8, 10))\n",
    "for i in range(-8, 11):\n",
    "    df['D'] = 0\n",
    "    df.loc[df['event_year'] >= i , 'D'] = 1\n",
    "    temp=df.loc[(df['event_year']==i) & df['overlap']==1]\n",
    "    y, x = dmatrices('NumSBL_Rev1 ~ D + popdensity + poptot + medincome + pminority + pcollege +  cont_totalbranches + cont_brgrowth', data=temp)\n",
    "    model_spec = sm.OLS(y, x)\n",
    "    results = model_spec.fit(cov_type='HAC',cov_kwds={'maxlags':1})\n",
    "    #model_spec = PanelOLS(temp.NumSBL_Rev1, temp[['D', 'popdensity', 'poptot', 'medincome', 'pminority', 'pcollege', 'cont_totalbranches', 'cont_brgrowth']], entity_effects=True)\n",
    "    #results = model_spec.fit(cov_type='clustered', cluster_entity=True)\n",
    "    beta[i]=results.params[2]\n",
    "    std[i]=results.HC0_se[2]\n",
    "#pd.options.display.float_format = '{:.3f}'.format\n",
    "est_SBLorigin['beta']=beta.T\n",
    "est_SBLorigin['SE']=std.T\n",
    "\n",
    "## estimates of column 4 (Mortgage origin)\n",
    "est_Morigin= pd.DataFrame(columns=['beta', 'SE'], index=range(-8, 10))\n",
    "for i in range(-8, 11):\n",
    "    df['D'] = 0\n",
    "    df.loc[df['event_year'] >= i , 'D'] = 1\n",
    "    temp=df.loc[(df['event_year']==i) & df['overlap']==1]\n",
    "    y, x = dmatrices('total_origin ~ D + popdensity + poptot + medincome + pminority + pcollege +  cont_totalbranches + cont_brgrowth', data=temp)\n",
    "    model_spec = sm.OLS(y, x)\n",
    "    results = model_spec.fit(cov_type='HAC',cov_kwds={'maxlags':1})\n",
    "    #model_spec = PanelOLS(temp.total_origin, temp[['D', 'popdensity', 'poptot', 'medincome', 'pminority', 'pcollege', 'cont_totalbranches', 'cont_brgrowth']], entity_effects=True)\n",
    "    #results = model_spec.fit(cov_type='clustered', cluster_entity=True)\n",
    "    beta[i]=results.params[2]\n",
    "    std[i]=results.HC0_se[2]\n",
    "#pd.options.display.float_format = '{:.3f}'.format\n",
    "est_Morigin['beta']=beta.T\n",
    "est_Morigin['SE']=std.T\n",
    "\n",
    "## finish table 6 by producing a df containing all estimates\n",
    "df_t= pd.DataFrame(columns=['Num_closings', 'Total_branches', 'SBL_origin', 'Mortgage_origin'], index=range(-8, 10))\n",
    "df_t['Num_closings']      = est_totalbranches['beta']\n",
    "df_t['Total_branches']    = est_totalbranches['beta']\n",
    "df_t['SBL_origin']        = est_SBLorigin['beta']\n",
    "df_t['Mortgage_origin']   = est_Morigin['beta']"
   ]
  },
  {
   "cell_type": "code",
   "execution_count": 12,
   "metadata": {},
   "outputs": [
    {
     "ename": "NameError",
     "evalue": "name 'pd' is not defined",
     "output_type": "error",
     "traceback": [
      "\u001b[1;31m---------------------------------------------------------------------------\u001b[0m",
      "\u001b[1;31mNameError\u001b[0m                                 Traceback (most recent call last)",
      "\u001b[1;32m<ipython-input-12-eef3c0b2b559>\u001b[0m in \u001b[0;36m<module>\u001b[1;34m\u001b[0m\n\u001b[0;32m      1\u001b[0m \u001b[1;31m# Table 6: First-Stage and Reduced-Form estimates using R\u001b[0m\u001b[1;33m\u001b[0m\u001b[1;33m\u001b[0m\u001b[1;33m\u001b[0m\u001b[0m\n\u001b[1;32m----> 2\u001b[1;33m \u001b[0mdf\u001b[0m \u001b[1;33m=\u001b[0m \u001b[0mpd\u001b[0m\u001b[1;33m.\u001b[0m\u001b[0mread_stata\u001b[0m\u001b[1;33m(\u001b[0m\u001b[1;34m'data/replication_input.dta'\u001b[0m\u001b[1;33m)\u001b[0m\u001b[1;33m\u001b[0m\u001b[1;33m\u001b[0m\u001b[0m\n\u001b[0m\u001b[0;32m      3\u001b[0m \u001b[0mdf\u001b[0m\u001b[1;33m.\u001b[0m\u001b[0mdrop_duplicates\u001b[0m\u001b[1;33m(\u001b[0m\u001b[0mkeep\u001b[0m\u001b[1;33m=\u001b[0m\u001b[1;34m'first'\u001b[0m\u001b[1;33m,\u001b[0m \u001b[0minplace\u001b[0m\u001b[1;33m=\u001b[0m\u001b[1;32mTrue\u001b[0m\u001b[1;33m)\u001b[0m\u001b[1;33m\u001b[0m\u001b[1;33m\u001b[0m\u001b[0m\n\u001b[0;32m      4\u001b[0m \u001b[0mdf\u001b[0m\u001b[1;33m=\u001b[0m\u001b[0mdf\u001b[0m\u001b[1;33m.\u001b[0m\u001b[0massign\u001b[0m\u001b[1;33m(\u001b[0m\u001b[0mevent_year\u001b[0m\u001b[1;33m=\u001b[0m\u001b[1;32mlambda\u001b[0m \u001b[0mdf\u001b[0m\u001b[1;33m:\u001b[0m\u001b[0mdf\u001b[0m\u001b[1;33m.\u001b[0m\u001b[0myear\u001b[0m\u001b[1;33m-\u001b[0m\u001b[0mdf\u001b[0m\u001b[1;33m.\u001b[0m\u001b[0myr_approve\u001b[0m\u001b[1;33m)\u001b[0m\u001b[1;33m\u001b[0m\u001b[1;33m\u001b[0m\u001b[0m\n\u001b[0;32m      5\u001b[0m \u001b[0mindex\u001b[0m\u001b[1;33m=\u001b[0m\u001b[0mlist\u001b[0m\u001b[1;33m(\u001b[0m\u001b[0mdf\u001b[0m\u001b[1;33m)\u001b[0m\u001b[1;33m\u001b[0m\u001b[1;33m\u001b[0m\u001b[0m\n",
      "\u001b[1;31mNameError\u001b[0m: name 'pd' is not defined"
     ]
    }
   ],
   "source": [
    "# Table 6: First-Stage and Reduced-Form estimates using R\n",
    "df = pd.read_stata('data/replication_input.dta')\n",
    "df.drop_duplicates(keep='first', inplace=True)\n",
    "df=df.assign(event_year=lambda df:df.year-df.yr_approve)\n",
    "index=list(df)\n",
    "df['group_timeID']= df.groupby(['state_fps', 'cnty_fps', 'year']).grouper.group_info[0]\n",
    "df['indivID']= df.groupby(['state_fps', 'cnty_fps', 'tractstring']).grouper.group_info[0]\n",
    "df['clustID']= df.groupby(['state_fps', 'cnty_fps']).grouper.group_info[0] \n",
    "df.set_index(['indivID', 'group_timeID'], inplace=True)\n",
    "%R require(plm)\n",
    "\n",
    "## estimates of column 1 (number of closings)\n",
    "est_numclose= pd.DataFrame(columns=['beta', 'SE'], index=range(-8, 10))\n",
    "beta=pd.DataFrame(index=range(-8, 10))\n",
    "std=pd.DataFrame(index=range(-8, 10))\n",
    "df['D'] = 0\n",
    "df.loc[df['event_year'] >= 0 , 'D'] = 1\n",
    "temp=df.loc[(df['event_year']==0) & df['overlap']==1]\n",
    "%R -i temp mod = plm( ln_wage ~   grade + age + ttl_exp + tenure+  not_smsa  + south + as.factor(indivID)+ as.factor(group_timeID), data=temp, index=c('indivID', 'group_timeID'), model=\"with\", effect=\"twoways\")\n",
    "%R -i temp summary(mod)  # unclustered errors\n",
    "%R -i temp coeftest(mod, vcov=vcovHC(mod,type=\"HC0\",cluster=\"group\")) # clustered errors"
   ]
  },
  {
   "cell_type": "code",
   "execution_count": 18,
   "metadata": {},
   "outputs": [
    {
     "data": {
      "image/png": "[encoded data removed]",
      "text/plain": [
       "<Figure size 432x288 with 1 Axes>"
      ]
     },
     "metadata": {
      "needs_background": "light"
     },
     "output_type": "display_data"
    }
   ],
   "source": [
    "# Figure 3: Exposure to consolidation and local branch levels\n",
    "\n",
    "df = pd.read_stata('data/replication_input.dta')\n",
    "df.drop_duplicates(keep='first', inplace=True)\n",
    "df=df.assign(event_year=lambda df:df.year-df.yr_approve)\n",
    "index=list(df)\n",
    "dfmean = pd.DataFrame(columns=range(-8, 10), index=index)\n",
    "dfstd = pd.DataFrame(columns=range(-8, 10), index=index)\n",
    "#df['cont_totalbranches']=(df['cont_totalbranches']-df['cont_totalbranches'].mean())/df['cont_totalbranches'].std()\n",
    "df['cont_totalbranches']=(df['cont_totalbranches']-df['cont_totalbranches'].min())/(df['cont_totalbranches'].max()-df['cont_totalbranches'].min())\n",
    "for i in range(-8, 11):\n",
    "    dfmean[i]=df.loc[(df['event_year']==i) & df['overlap']==1].mean()\n",
    "    dfstd[i]=df.loc[(df['event_year']==i) & df['overlap']==1].std()\n",
    "dfmean=dfmean.T\n",
    "dfstd=dfstd.T\n",
    "mean=dfmean['cont_totalbranches']\n",
    "std=dfstd['cont_totalbranches']\n",
    "plt.errorbar(mean.index, mean, xerr=0.5, yerr=2*std, linestyle='')\n",
    "plt.title('Total branches')\n",
    "plt.show()  "
   ]
  },
  {
   "cell_type": "code",
   "execution_count": 16,
   "metadata": {},
   "outputs": [
    {
     "data": {
      "text/plain": [
       "Text(0.5, 1.0, 'New Mortgages')"
      ]
     },
     "execution_count": 16,
     "metadata": {},
     "output_type": "execute_result"
    },
    {
     "data": {
      "image/png": "[encoded data removed]",
      "text/plain": [
       "<Figure size 432x288 with 2 Axes>"
      ]
     },
     "metadata": {
      "needs_background": "light"
     },
     "output_type": "display_data"
    }
   ],
   "source": [
    "# Figure 4: Exposure to consolidation and the volume of new lending\n",
    "plt.figure()\n",
    "\n",
    "## Small Business Lending\n",
    "df = pd.read_stata('data/replication_input.dta')\n",
    "df.drop_duplicates(keep='first', inplace=True)\n",
    "df=df.assign(event_year=lambda df:df.year-df.yr_approve)\n",
    "index=list(df)\n",
    "dfmean = pd.DataFrame(columns=range(-8, 10), index=index)\n",
    "dfstd = pd.DataFrame(columns=range(-8, 10), index=index)\n",
    "#df['NumSBL_Rev1']=(df['NumSBL_Rev1']-df['NumSBL_Rev1'].mean())/df['NumSBL_Rev1'].std()\n",
    "df['NumSBL_Rev1']=(df['NumSBL_Rev1']-df['NumSBL_Rev1'].min())/(df['NumSBL_Rev1'].max()-df['NumSBL_Rev1'].min())\n",
    "for i in range(-8, 11):\n",
    "    dfmean[i]=df.loc[(df['event_year']==i) & df['overlap']==1].mean()\n",
    "    dfstd[i]=df.loc[(df['event_year']==i) & df['overlap']==1].std()\n",
    "dfmean=dfmean.T\n",
    "dfstd=dfstd.T\n",
    "mean=dfmean['NumSBL_Rev1']\n",
    "std=dfstd['NumSBL_Rev1']\n",
    "plt.subplot(2,2,1)\n",
    "plt.errorbar(mean.index, mean, xerr=0.5, yerr=2*std, linestyle='')\n",
    "plt.title('New Small Business loans')\n",
    "#plt.show() \n",
    "\n",
    "## Mortgages\n",
    "df = pd.read_stata('data/replication_input.dta')\n",
    "df.drop_duplicates(keep='first', inplace=True)\n",
    "df=df.assign(event_year=lambda df:df.year-df.yr_approve)\n",
    "index=list(df)\n",
    "dfmean = pd.DataFrame(columns=range(-8, 10), index=index)\n",
    "dfstd = pd.DataFrame(columns=range(-8, 10), index=index)\n",
    "#df['total_origin']=(df['total_origin']-df['total_origin'].mean())/df['total_origin'].std()\n",
    "df['total_origin']=(df['total_origin']-df['total_origin'].min())/(df['total_origin'].max()-df['total_origin'].min())\n",
    "for i in range(-8, 11):\n",
    "    dfmean[i]=df.loc[(df['event_year']==i) & df['overlap']==1].mean()\n",
    "    dfstd[i]=df.loc[(df['event_year']==i) & df['overlap']==1].std()\n",
    "dfmean=dfmean.T\n",
    "dfstd=dfstd.T\n",
    "mean=dfmean['total_origin']\n",
    "std=dfstd['total_origin']\n",
    "plt.subplot(2,2,2)\n",
    "plt.errorbar(mean.index, mean, xerr=0.5, yerr=2*std, linestyle='')\n",
    "plt.title('New Mortgages')\n",
    "#plt.show() "
   ]
  },
  {
   "cell_type": "code",
   "execution_count": 11,
   "metadata": {},
   "outputs": [
    {
     "name": "stderr",
     "output_type": "stream",
     "text": [
      "c:\\users\\fabia\\appdata\\local\\programs\\python\\python37\\lib\\site-packages\\matplotlib\\figure.py:98: MatplotlibDeprecationWarning: \n",
      "Adding an axes using the same arguments as a previous axes currently reuses the earlier instance.  In a future version, a new instance will always be created and returned.  Meanwhile, this warning can be suppressed, and the future behavior ensured, by passing a unique label to each axes instance.\n",
      "  \"Adding an axes using the same arguments as a previous axes \"\n",
      "c:\\users\\fabia\\appdata\\local\\programs\\python\\python37\\lib\\site-packages\\matplotlib\\figure.py:98: MatplotlibDeprecationWarning: \n",
      "Adding an axes using the same arguments as a previous axes currently reuses the earlier instance.  In a future version, a new instance will always be created and returned.  Meanwhile, this warning can be suppressed, and the future behavior ensured, by passing a unique label to each axes instance.\n",
      "  \"Adding an axes using the same arguments as a previous axes \"\n"
     ]
    },
    {
     "data": {
      "text/plain": [
       "Text(0.5, 1.0, 'New Mortgages')"
      ]
     },
     "execution_count": 11,
     "metadata": {},
     "output_type": "execute_result"
    },
    {
     "data": {
      "image/png": "[encoded data removed]",
      "text/plain": [
       "<Figure size 432x288 with 2 Axes>"
      ]
     },
     "metadata": {
      "needs_background": "light"
     },
     "output_type": "display_data"
    }
   ],
   "source": [
    "# Figure 5: The effect of subsequent bank entry on local credit supply\n",
    "plt.figure()\n",
    "\n",
    "## Small Business Lending\n",
    "df = pd.read_stata('data/replication_input.dta')\n",
    "df.drop_duplicates(keep='first', inplace=True)\n",
    "df=df.assign(event_year=lambda df:df.year-df.yr_approve)\n",
    "index=list(df)\n",
    "dfmean = pd.DataFrame(columns=range(-8, 10), index=index)\n",
    "#df['NumSBL_Rev1']=(df['NumSBL_Rev1']-df['NumSBL_Rev1'].mean())/df['NumSBL_Rev1'].std()\n",
    "df['NumSBL_Rev1']=(df['NumSBL_Rev1']-df['NumSBL_Rev1'].min())/(df['NumSBL_Rev1'].max()-df['NumSBL_Rev1'].min())\n",
    "df['totalbranches']=(df['totalbranches']-df['totalbranches'].min())/(df['totalbranches'].max()-df['totalbranches'].min())\n",
    "for i in range(-8, 11):\n",
    "    dfmean[i]=df.loc[(df['event_year']==i) & df['overlap']==1].mean()\n",
    "dfmean=dfmean.T\n",
    "mean=dfmean['NumSBL_Rev1']\n",
    "plt.subplot(2,2,1)\n",
    "plt.scatter(mean.index, mean)\n",
    "plt.subplot(2,2,1)\n",
    "plt.scatter(mean.index, dfmean['totalbranches'])\n",
    "plt.legend(loc='upper center', bbox_to_anchor=(0.5, -0.15))\n",
    "plt.title('New Small Business loans')\n",
    "#plt.show() \n",
    "\n",
    "## Mortgages\n",
    "df = pd.read_stata('data/replication_input.dta')\n",
    "df.drop_duplicates(keep='first', inplace=True)\n",
    "df=df.assign(event_year=lambda df:df.year-df.yr_approve)\n",
    "index=list(df)\n",
    "dfmean = pd.DataFrame(columns=range(-8, 10), index=index)\n",
    "#df['total_origin']=(df['total_origin']-df['total_origin'].mean())/df['total_origin'].std()\n",
    "df['total_origin']=(df['total_origin']-df['total_origin'].min())/(df['total_origin'].max()-df['total_origin'].min())\n",
    "df['totalbranches']=(df['totalbranches']-df['totalbranches'].min())/(df['totalbranches'].max()-df['totalbranches'].min())\n",
    "for i in range(-8, 11):\n",
    "    dfmean[i]=df.loc[(df['event_year']==i) & df['overlap']==1].mean()\n",
    "dfmean=dfmean.T\n",
    "mean=dfmean['total_origin']\n",
    "plt.subplot(2,2,2)\n",
    "plt.scatter(mean.index, mean)\n",
    "plt.subplot(2,2,2)\n",
    "plt.scatter(mean.index, dfmean['totalbranches'])\n",
    "plt.legend(loc='upper center', bbox_to_anchor=(0.5, -0.15))\n",
    "plt.title('New Mortgages')\n",
    "#plt.show() "
   ]
  },
  {
   "cell_type": "code",
   "execution_count": 17,
   "metadata": {},
   "outputs": [
    {
     "ename": "IndentationError",
     "evalue": "unexpected indent (<ipython-input-17-c409c3d926fa>, line 20)",
     "output_type": "error",
     "traceback": [
      "\u001b[1;36m  File \u001b[1;32m\"<ipython-input-17-c409c3d926fa>\"\u001b[1;36m, line \u001b[1;32m20\u001b[0m\n\u001b[1;33m    y, x = dmatrices('NumSBL_Rev1 ~ POST_close + popdensity + poptot + medincome + pminority + pcollege +  cont_totalbranches + cont_brgrowth', data=df)\u001b[0m\n\u001b[1;37m    ^\u001b[0m\n\u001b[1;31mIndentationError\u001b[0m\u001b[1;31m:\u001b[0m unexpected indent\n"
     ]
    }
   ],
   "source": [
    "# Table 7: IV-Estimates of the effect of closings an local credit supply\n",
    "df = pd.read_stata('data/replication_input.dta')\n",
    "df.drop_duplicates(keep='first', inplace=True)\n",
    "df=df.assign(event_year=lambda df:df.year-df.yr_approve)\n",
    "index=list(df)\n",
    "df['close_2yr']=0\n",
    "df['close_2yr']=df['closed_branch'].loc[(df.event_year==0) | (df.event_year==1)]\n",
    "df['close_2yr'].fillna(0, inplace=True)\n",
    "df['POST']=df['event_year'].loc[df.event_year>0]\n",
    "df['POST_close']=df.POST * df.close_2yr\n",
    "df['POST_expose']= df.POST * df.overlap \n",
    "\n",
    "df['group_timeID']= df.groupby(['state_fps', 'cnty_fps', 'year']).grouper.group_info[0]\n",
    "df['indivID']= df.groupby(['state_fps', 'cnty_fps', 'tractstring']).grouper.group_info[0]\n",
    "df['clustID']= df.groupby(['state_fps', 'cnty_fps']).grouper.group_info[0] \n",
    "df.set_index(['indivID', 'group_timeID'], inplace=True)\n",
    "\n",
    "## OLS\n",
    "    # NumSBL_Rev1\n",
    "    y, x = dmatrices('NumSBL_Rev1 ~ POST_close + popdensity + poptot + medincome + pminority + pcollege +  cont_totalbranches + cont_brgrowth', data=df)\n",
    "    model_spec = sm.OLS(y, x)\n",
    "    results = model_spec.fit(cov_type='HAC',cov_kwds={'maxlags':1})\n",
    "    #model_spec = PanelOLS(temp.total_origin, temp[['D', 'popdensity', 'poptot', 'medincome', 'pminority', 'pcollege', 'cont_totalbranches', 'cont_brgrowth']], entity_effects=True)\n",
    "    #results = model_spec.fit(cov_type='clustered', cluster_entity=True)\n",
    "    print(results.summary())\n",
    "\n",
    "    # AmtSBL_Rev1\n",
    "    y, x = dmatrices('AmtSBL_Rev1 ~ POST_close + popdensity + poptot + medincome + pminority + pcollege +  cont_totalbranches + cont_brgrowth', data=df)\n",
    "    model_spec = sm.OLS(y, x)\n",
    "    results = model_spec.fit(cov_type='HAC',cov_kwds={'maxlags':1})\n",
    "    #model_spec = PanelOLS(temp.total_origin, temp[['D', 'popdensity', 'poptot', 'medincome', 'pminority', 'pcollege', 'cont_totalbranches', 'cont_brgrowth']], entity_effects=True)\n",
    "    #results = model_spec.fit(cov_type='clustered', cluster_entity=True)\n",
    "    print(results.summary())\n",
    "\n",
    "    # total_origin\n",
    "    y, x = dmatrices('total_origin ~ POST_close + popdensity + poptot + medincome + pminority + pcollege +  cont_totalbranches + cont_brgrowth', data=df)\n",
    "    model_spec = sm.OLS(y, x)\n",
    "    results = model_spec.fit(cov_type='HAC',cov_kwds={'maxlags':1})\n",
    "    #model_spec = PanelOLS(temp.total_origin, temp[['D', 'popdensity', 'poptot', 'medincome', 'pminority', 'pcollege', 'cont_totalbranches', 'cont_brgrowth']], entity_effects=True)\n",
    "    #results = model_spec.fit(cov_type='clustered', cluster_entity=True)\n",
    "    print(results.summary())\n",
    "\n",
    "    # loan_amount\n",
    "    y, x = dmatrices('loan_amount ~ POST_close + popdensity + poptot + medincome + pminority + pcollege +  cont_totalbranches + cont_brgrowth', data=df)\n",
    "    model_spec = sm.OLS(y, x)\n",
    "    results = model_spec.fit(cov_type='HAC',cov_kwds={'maxlags':1})\n",
    "    #model_spec = PanelOLS(temp.total_origin, temp[['D', 'popdensity', 'poptot', 'medincome', 'pminority', 'pcollege', 'cont_totalbranches', 'cont_brgrowth']], entity_effects=True)\n",
    "    #results = model_spec.fit(cov_type='clustered', cluster_entity=True)\n",
    "    print(results.summary())    \n",
    "    \n",
    "## Reduced Form\n",
    "    # NumSBL_Rev1\n",
    "    y, x = dmatrices('total_origin ~ POST_expose + popdensity + poptot + medincome + pminority + pcollege +  cont_totalbranches + cont_brgrowth', data=df)\n",
    "    model_spec = sm.OLS(y, x)\n",
    "    results = model_spec.fit(cov_type='HAC',cov_kwds={'maxlags':1})\n",
    "    #model_spec = PanelOLS(temp.total_origin, temp[['D', 'popdensity', 'poptot', 'medincome', 'pminority', 'pcollege', 'cont_totalbranches', 'cont_brgrowth']], entity_effects=True)\n",
    "    #results = model_spec.fit(cov_type='clustered', cluster_entity=True)\n",
    "    print(results.summary())\n",
    "\n",
    "    # AmtSBL_Rev1\n",
    "    y, x = dmatrices('AmtSBL_Rev1 ~ POST_expose + popdensity + poptot + medincome + pminority + pcollege +  cont_totalbranches + cont_brgrowth', data=df)\n",
    "    model_spec = sm.OLS(y, x)\n",
    "    results = model_spec.fit(cov_type='HAC',cov_kwds={'maxlags':1})\n",
    "    #model_spec = PanelOLS(temp.total_origin, temp[['D', 'popdensity', 'poptot', 'medincome', 'pminority', 'pcollege', 'cont_totalbranches', 'cont_brgrowth']], entity_effects=True)\n",
    "    #results = model_spec.fit(cov_type='clustered', cluster_entity=True)\n",
    "    print(results.summary())\n",
    "\n",
    "    # total_origin\n",
    "    y, x = dmatrices('total_origin ~ POST_expose + popdensity + poptot + medincome + pminority + pcollege +  cont_totalbranches + cont_brgrowth', data=df)\n",
    "    model_spec = sm.OLS(y, x)\n",
    "    results = model_spec.fit(cov_type='HAC',cov_kwds={'maxlags':1})\n",
    "    #model_spec = PanelOLS(temp.total_origin, temp[['D', 'popdensity', 'poptot', 'medincome', 'pminority', 'pcollege', 'cont_totalbranches', 'cont_brgrowth']], entity_effects=True)\n",
    "    #results = model_spec.fit(cov_type='clustered', cluster_entity=True)\n",
    "    print(results.summary())\n",
    "\n",
    "    # loan_amount\n",
    "    y, x = dmatrices('loan_amount ~ POST_expose + popdensity + poptot + medincome + pminority + pcollege +  cont_totalbranches + cont_brgrowth', data=df)\n",
    "    model_spec = sm.OLS(y, x)\n",
    "    results = model_spec.fit(cov_type='HAC',cov_kwds={'maxlags':1})\n",
    "    #model_spec = PanelOLS(temp.total_origin, temp[['D', 'popdensity', 'poptot', 'medincome', 'pminority', 'pcollege', 'cont_totalbranches', 'cont_brgrowth']], entity_effects=True)\n",
    "    #results = model_spec.fit(cov_type='clustered', cluster_entity=True)\n",
    "    print(results.summary())\n",
    "    \n",
    "## IV ESTIMATION\n",
    "    # NumSBL_Rev1 - IV2SLS.from_formula()\n",
    "    y, x = dmatrices('NumSBL_Rev1 ~ popdensity + poptot + medincome + pminority + pcollege +  cont_totalbranches + cont_brgrowth + [POST_close ~ POST_expose]', data=df)\n",
    "    model_spec = sm.OLS(y, x)\n",
    "    results = model_spec.fit(cov_type='HAC',cov_kwds={'maxlags':1})\n",
    "    #model_spec = PanelOLS(temp.total_origin, temp[['D', 'popdensity', 'poptot', 'medincome', 'pminority', 'pcollege', 'cont_totalbranches', 'cont_brgrowth']], entity_effects=True)\n",
    "    #results = model_spec.fit(cov_type='clustered', cluster_entity=True)\n",
    "    print(results.summary())\n",
    "\n",
    "    # AmtSBL_Rev1\n",
    "    y, x = dmatrices('AmtSBL_Rev1 ~ popdensity + poptot + medincome + pminority + pcollege +  cont_totalbranches + cont_brgrowth + [POST_close ~ POST_expose]', data=df)\n",
    "    model_spec = sm.OLS(y, x)\n",
    "    results = model_spec.fit(cov_type='HAC',cov_kwds={'maxlags':1})\n",
    "    #model_spec = PanelOLS(temp.total_origin, temp[['D', 'popdensity', 'poptot', 'medincome', 'pminority', 'pcollege', 'cont_totalbranches', 'cont_brgrowth']], entity_effects=True)\n",
    "    #results = model_spec.fit(cov_type='clustered', cluster_entity=True)\n",
    "    print(results.summary())\n",
    "\n",
    "    # total_origin\n",
    "    y, x = dmatrices('total_origin ~ popdensity + poptot + medincome + pminority + pcollege +  cont_totalbranches + cont_brgrowth + [POST_close ~ POST_expose]', data=df)\n",
    "    model_spec = sm.OLS(y, x)\n",
    "    results = model_spec.fit(cov_type='HAC',cov_kwds={'maxlags':1})\n",
    "    #model_spec = PanelOLS(temp.total_origin, temp[['D', 'popdensity', 'poptot', 'medincome', 'pminority', 'pcollege', 'cont_totalbranches', 'cont_brgrowth']], entity_effects=True)\n",
    "    #results = model_spec.fit(cov_type='clustered', cluster_entity=True)\n",
    "    print(results.summary())\n",
    "\n",
    "    # loan_amount\n",
    "    y, x = dmatrices('loan_amount ~ popdensity + poptot + medincome + pminority + pcollege +  cont_totalbranches + cont_brgrowth + [POST_close ~ POST_expose]', data=df)\n",
    "    model_spec = sm.OLS(y, x)\n",
    "    results = model_spec.fit(cov_type='HAC',cov_kwds={'maxlags':1})\n",
    "    #model_spec = PanelOLS(temp.total_origin, temp[['D', 'popdensity', 'poptot', 'medincome', 'pminority', 'pcollege', 'cont_totalbranches', 'cont_brgrowth']], entity_effects=True)\n",
    "    #results = model_spec.fit(cov_type='clustered', cluster_entity=True)\n",
    "    print(results.summary())"
   ]
  },
  {
   "cell_type": "code",
   "execution_count": null,
   "metadata": {},
   "outputs": [],
   "source": []
  }
 ],
 "metadata": {
  "kernelspec": {
   "display_name": "Python 3",
   "language": "python",
   "name": "python3"
  },
  "language_info": {
   "codemirror_mode": {
    "name": "ipython",
    "version": 3
   },
   "file_extension": ".py",
   "mimetype": "text/x-python",
   "name": "python",
   "nbconvert_exporter": "python",
   "pygments_lexer": "ipython3",
   "version": "3.7.3"
  }
 },
 "nbformat": 4,
 "nbformat_minor": 2
}
