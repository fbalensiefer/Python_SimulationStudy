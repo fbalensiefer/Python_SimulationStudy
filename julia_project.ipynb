{
 "cells": [
  {
   "cell_type": "markdown",
   "metadata": {},
   "source": [
    "# Testing Fixed Effect Models within Julia Language"
   ]
  },
  {
   "cell_type": "code",
   "execution_count": 26,
   "metadata": {},
   "outputs": [
    {
     "data": {
      "text/html": [
       "<table class=\"data-frame\"><thead><tr><th></th><th>indivID</th><th>group_timeID</th><th>state_fps</th><th>cnty_fps</th><th>mergerID</th><th>approved</th><th>acq_instname</th></tr><tr><th></th><th>Int64</th><th>Int64</th><th>Float64</th><th>Float64</th><th>Float64</th><th>Dates…</th><th>String</th></tr></thead><tbody><p>52,095 rows × 170 columns (omitted printing of 163 columns)</p><tr><th>1</th><td>0</td><td>0</td><td>1.0</td><td>3.0</td><td>49.0</td><td>2006-10-20</td><td>Regions Bank</td></tr><tr><th>2</th><td>0</td><td>1</td><td>1.0</td><td>3.0</td><td>49.0</td><td>2006-10-20</td><td>Regions Bank</td></tr><tr><th>3</th><td>0</td><td>2</td><td>1.0</td><td>3.0</td><td>49.0</td><td>2006-10-20</td><td>Regions Bank</td></tr><tr><th>4</th><td>0</td><td>3</td><td>1.0</td><td>3.0</td><td>49.0</td><td>2006-10-20</td><td>Regions Bank</td></tr><tr><th>5</th><td>0</td><td>4</td><td>1.0</td><td>3.0</td><td>49.0</td><td>2006-10-20</td><td>Regions Bank</td></tr><tr><th>6</th><td>0</td><td>5</td><td>1.0</td><td>3.0</td><td>49.0</td><td>2006-10-20</td><td>Regions Bank</td></tr><tr><th>7</th><td>0</td><td>6</td><td>1.0</td><td>3.0</td><td>49.0</td><td>2006-10-20</td><td>Regions Bank</td></tr><tr><th>8</th><td>0</td><td>7</td><td>1.0</td><td>3.0</td><td>49.0</td><td>2006-10-20</td><td>Regions Bank</td></tr><tr><th>9</th><td>0</td><td>8</td><td>1.0</td><td>3.0</td><td>49.0</td><td>2006-10-20</td><td>Regions Bank</td></tr><tr><th>10</th><td>0</td><td>9</td><td>1.0</td><td>3.0</td><td>49.0</td><td>2006-10-20</td><td>Regions Bank</td></tr><tr><th>11</th><td>0</td><td>10</td><td>1.0</td><td>3.0</td><td>49.0</td><td>2006-10-20</td><td>Regions Bank</td></tr><tr><th>12</th><td>0</td><td>11</td><td>1.0</td><td>3.0</td><td>49.0</td><td>2006-10-20</td><td>Regions Bank</td></tr><tr><th>13</th><td>0</td><td>12</td><td>1.0</td><td>3.0</td><td>49.0</td><td>2006-10-20</td><td>Regions Bank</td></tr><tr><th>14</th><td>0</td><td>13</td><td>1.0</td><td>3.0</td><td>49.0</td><td>2006-10-20</td><td>Regions Bank</td></tr><tr><th>15</th><td>0</td><td>14</td><td>1.0</td><td>3.0</td><td>49.0</td><td>2006-10-20</td><td>Regions Bank</td></tr><tr><th>16</th><td>1</td><td>0</td><td>1.0</td><td>3.0</td><td>49.0</td><td>2006-10-20</td><td>Regions Bank</td></tr><tr><th>17</th><td>1</td><td>1</td><td>1.0</td><td>3.0</td><td>49.0</td><td>2006-10-20</td><td>Regions Bank</td></tr><tr><th>18</th><td>1</td><td>2</td><td>1.0</td><td>3.0</td><td>49.0</td><td>2006-10-20</td><td>Regions Bank</td></tr><tr><th>19</th><td>1</td><td>3</td><td>1.0</td><td>3.0</td><td>49.0</td><td>2006-10-20</td><td>Regions Bank</td></tr><tr><th>20</th><td>1</td><td>4</td><td>1.0</td><td>3.0</td><td>49.0</td><td>2006-10-20</td><td>Regions Bank</td></tr><tr><th>21</th><td>1</td><td>5</td><td>1.0</td><td>3.0</td><td>49.0</td><td>2006-10-20</td><td>Regions Bank</td></tr><tr><th>22</th><td>1</td><td>6</td><td>1.0</td><td>3.0</td><td>49.0</td><td>2006-10-20</td><td>Regions Bank</td></tr><tr><th>23</th><td>1</td><td>7</td><td>1.0</td><td>3.0</td><td>49.0</td><td>2006-10-20</td><td>Regions Bank</td></tr><tr><th>24</th><td>1</td><td>8</td><td>1.0</td><td>3.0</td><td>49.0</td><td>2006-10-20</td><td>Regions Bank</td></tr><tr><th>25</th><td>1</td><td>9</td><td>1.0</td><td>3.0</td><td>49.0</td><td>2006-10-20</td><td>Regions Bank</td></tr><tr><th>26</th><td>1</td><td>10</td><td>1.0</td><td>3.0</td><td>49.0</td><td>2006-10-20</td><td>Regions Bank</td></tr><tr><th>27</th><td>1</td><td>11</td><td>1.0</td><td>3.0</td><td>49.0</td><td>2006-10-20</td><td>Regions Bank</td></tr><tr><th>28</th><td>1</td><td>12</td><td>1.0</td><td>3.0</td><td>49.0</td><td>2006-10-20</td><td>Regions Bank</td></tr><tr><th>29</th><td>1</td><td>13</td><td>1.0</td><td>3.0</td><td>49.0</td><td>2006-10-20</td><td>Regions Bank</td></tr><tr><th>30</th><td>1</td><td>14</td><td>1.0</td><td>3.0</td><td>49.0</td><td>2006-10-20</td><td>Regions Bank</td></tr><tr><th>&vellip;</th><td>&vellip;</td><td>&vellip;</td><td>&vellip;</td><td>&vellip;</td><td>&vellip;</td><td>&vellip;</td><td>&vellip;</td></tr></tbody></table>"
      ],
      "text/latex": [
       "\\begin{tabular}{r|cccccccc}\n",
       "\t& indivID & group\\_timeID & state\\_fps & cnty\\_fps & mergerID & approved & acq\\_instname & \\\\\n",
       "\t\\hline\n",
       "\t& Int64 & Int64 & Float64 & Float64 & Float64 & Dates… & String & \\\\\n",
       "\t\\hline\n",
       "\t1 & 0 & 0 & 1.0 & 3.0 & 49.0 & 2006-10-20 & Regions Bank & $\\dots$ \\\\\n",
       "\t2 & 0 & 1 & 1.0 & 3.0 & 49.0 & 2006-10-20 & Regions Bank & $\\dots$ \\\\\n",
       "\t3 & 0 & 2 & 1.0 & 3.0 & 49.0 & 2006-10-20 & Regions Bank & $\\dots$ \\\\\n",
       "\t4 & 0 & 3 & 1.0 & 3.0 & 49.0 & 2006-10-20 & Regions Bank & $\\dots$ \\\\\n",
       "\t5 & 0 & 4 & 1.0 & 3.0 & 49.0 & 2006-10-20 & Regions Bank & $\\dots$ \\\\\n",
       "\t6 & 0 & 5 & 1.0 & 3.0 & 49.0 & 2006-10-20 & Regions Bank & $\\dots$ \\\\\n",
       "\t7 & 0 & 6 & 1.0 & 3.0 & 49.0 & 2006-10-20 & Regions Bank & $\\dots$ \\\\\n",
       "\t8 & 0 & 7 & 1.0 & 3.0 & 49.0 & 2006-10-20 & Regions Bank & $\\dots$ \\\\\n",
       "\t9 & 0 & 8 & 1.0 & 3.0 & 49.0 & 2006-10-20 & Regions Bank & $\\dots$ \\\\\n",
       "\t10 & 0 & 9 & 1.0 & 3.0 & 49.0 & 2006-10-20 & Regions Bank & $\\dots$ \\\\\n",
       "\t11 & 0 & 10 & 1.0 & 3.0 & 49.0 & 2006-10-20 & Regions Bank & $\\dots$ \\\\\n",
       "\t12 & 0 & 11 & 1.0 & 3.0 & 49.0 & 2006-10-20 & Regions Bank & $\\dots$ \\\\\n",
       "\t13 & 0 & 12 & 1.0 & 3.0 & 49.0 & 2006-10-20 & Regions Bank & $\\dots$ \\\\\n",
       "\t14 & 0 & 13 & 1.0 & 3.0 & 49.0 & 2006-10-20 & Regions Bank & $\\dots$ \\\\\n",
       "\t15 & 0 & 14 & 1.0 & 3.0 & 49.0 & 2006-10-20 & Regions Bank & $\\dots$ \\\\\n",
       "\t16 & 1 & 0 & 1.0 & 3.0 & 49.0 & 2006-10-20 & Regions Bank & $\\dots$ \\\\\n",
       "\t17 & 1 & 1 & 1.0 & 3.0 & 49.0 & 2006-10-20 & Regions Bank & $\\dots$ \\\\\n",
       "\t18 & 1 & 2 & 1.0 & 3.0 & 49.0 & 2006-10-20 & Regions Bank & $\\dots$ \\\\\n",
       "\t19 & 1 & 3 & 1.0 & 3.0 & 49.0 & 2006-10-20 & Regions Bank & $\\dots$ \\\\\n",
       "\t20 & 1 & 4 & 1.0 & 3.0 & 49.0 & 2006-10-20 & Regions Bank & $\\dots$ \\\\\n",
       "\t21 & 1 & 5 & 1.0 & 3.0 & 49.0 & 2006-10-20 & Regions Bank & $\\dots$ \\\\\n",
       "\t22 & 1 & 6 & 1.0 & 3.0 & 49.0 & 2006-10-20 & Regions Bank & $\\dots$ \\\\\n",
       "\t23 & 1 & 7 & 1.0 & 3.0 & 49.0 & 2006-10-20 & Regions Bank & $\\dots$ \\\\\n",
       "\t24 & 1 & 8 & 1.0 & 3.0 & 49.0 & 2006-10-20 & Regions Bank & $\\dots$ \\\\\n",
       "\t25 & 1 & 9 & 1.0 & 3.0 & 49.0 & 2006-10-20 & Regions Bank & $\\dots$ \\\\\n",
       "\t26 & 1 & 10 & 1.0 & 3.0 & 49.0 & 2006-10-20 & Regions Bank & $\\dots$ \\\\\n",
       "\t27 & 1 & 11 & 1.0 & 3.0 & 49.0 & 2006-10-20 & Regions Bank & $\\dots$ \\\\\n",
       "\t28 & 1 & 12 & 1.0 & 3.0 & 49.0 & 2006-10-20 & Regions Bank & $\\dots$ \\\\\n",
       "\t29 & 1 & 13 & 1.0 & 3.0 & 49.0 & 2006-10-20 & Regions Bank & $\\dots$ \\\\\n",
       "\t30 & 1 & 14 & 1.0 & 3.0 & 49.0 & 2006-10-20 & Regions Bank & $\\dots$ \\\\\n",
       "\t$\\dots$ & $\\dots$ & $\\dots$ & $\\dots$ & $\\dots$ & $\\dots$ & $\\dots$ & $\\dots$ &  \\\\\n",
       "\\end{tabular}\n"
      ],
      "text/plain": [
       "52095×170 DataFrame. Omitted printing of 165 columns\n",
       "│ Row   │ indivID │ group_timeID │ state_fps │ cnty_fps │ mergerID │\n",
       "│       │ \u001b[90mInt64\u001b[39m   │ \u001b[90mInt64\u001b[39m        │ \u001b[90mFloat64\u001b[39m   │ \u001b[90mFloat64\u001b[39m  │ \u001b[90mFloat64\u001b[39m  │\n",
       "├───────┼─────────┼──────────────┼───────────┼──────────┼──────────┤\n",
       "│ 1     │ 0       │ 0            │ 1.0       │ 3.0      │ 49.0     │\n",
       "│ 2     │ 0       │ 1            │ 1.0       │ 3.0      │ 49.0     │\n",
       "│ 3     │ 0       │ 2            │ 1.0       │ 3.0      │ 49.0     │\n",
       "│ 4     │ 0       │ 3            │ 1.0       │ 3.0      │ 49.0     │\n",
       "│ 5     │ 0       │ 4            │ 1.0       │ 3.0      │ 49.0     │\n",
       "│ 6     │ 0       │ 5            │ 1.0       │ 3.0      │ 49.0     │\n",
       "│ 7     │ 0       │ 6            │ 1.0       │ 3.0      │ 49.0     │\n",
       "│ 8     │ 0       │ 7            │ 1.0       │ 3.0      │ 49.0     │\n",
       "│ 9     │ 0       │ 8            │ 1.0       │ 3.0      │ 49.0     │\n",
       "│ 10    │ 0       │ 9            │ 1.0       │ 3.0      │ 49.0     │\n",
       "⋮\n",
       "│ 52085 │ 3002    │ 2659         │ 51.0      │ 810.0    │ 34.0     │\n",
       "│ 52086 │ 3002    │ 2660         │ 51.0      │ 810.0    │ 34.0     │\n",
       "│ 52087 │ 3002    │ 2661         │ 51.0      │ 810.0    │ 34.0     │\n",
       "│ 52088 │ 3002    │ 2662         │ 51.0      │ 810.0    │ 34.0     │\n",
       "│ 52089 │ 3002    │ 2663         │ 51.0      │ 810.0    │ 34.0     │\n",
       "│ 52090 │ 3002    │ 2664         │ 51.0      │ 810.0    │ 34.0     │\n",
       "│ 52091 │ 3002    │ 2665         │ 51.0      │ 810.0    │ 34.0     │\n",
       "│ 52092 │ 3002    │ 2666         │ 51.0      │ 810.0    │ 34.0     │\n",
       "│ 52093 │ 3002    │ 2667         │ 51.0      │ 810.0    │ 34.0     │\n",
       "│ 52094 │ 3002    │ 2668         │ 51.0      │ 810.0    │ 34.0     │\n",
       "│ 52095 │ 3002    │ 2669         │ 51.0      │ 810.0    │ 34.0     │"
      ]
     },
     "execution_count": 26,
     "metadata": {},
     "output_type": "execute_result"
    }
   ],
   "source": [
    "using Distributed\n",
    "n=4\n",
    "addprocs(n)\n",
    "@everywhere using CSV, DataFrames, FixedEffectModels\n",
    "df=CSV.read(\"df_ols.csv\")"
   ]
  },
  {
   "cell_type": "code",
   "execution_count": 36,
   "metadata": {},
   "outputs": [
    {
     "name": "stderr",
     "output_type": "stream",
     "text": [
      "┌ Warning: `getindex(df::DataFrame, col_ind::ColumnIndex)` is deprecated, use `df[!, col_ind]` instead.\n",
      "│   caller = top-level scope at In[36]:1\n",
      "└ @ Core In[36]:1\n",
      "┌ Warning: `setindex!(df::DataFrame, v::AbstractVector, col_ind::ColumnIndex)` is deprecated, use `begin\n",
      "│     df[!, col_ind] = v\n",
      "│     df\n",
      "│ end` instead.\n",
      "│   caller = top-level scope at In[36]:1\n",
      "└ @ Core In[36]:1\n",
      "┌ Warning: `getindex(df::DataFrame, col_ind::ColumnIndex)` is deprecated, use `df[!, col_ind]` instead.\n",
      "│   caller = top-level scope at In[36]:2\n",
      "└ @ Core In[36]:2\n",
      "┌ Warning: `setindex!(df::DataFrame, v::AbstractVector, col_ind::ColumnIndex)` is deprecated, use `begin\n",
      "│     df[!, col_ind] = v\n",
      "│     df\n",
      "│ end` instead.\n",
      "│   caller = top-level scope at In[36]:2\n",
      "└ @ Core In[36]:2\n"
     ]
    },
    {
     "data": {
      "text/plain": [
       "52095-element CategoricalArray{Int64,1,UInt32}:\n",
       " 0   \n",
       " 1   \n",
       " 2   \n",
       " 3   \n",
       " 4   \n",
       " 5   \n",
       " 6   \n",
       " 7   \n",
       " 8   \n",
       " 9   \n",
       " 10  \n",
       " 11  \n",
       " 12  \n",
       " ⋮   \n",
       " 2658\n",
       " 2659\n",
       " 2660\n",
       " 2661\n",
       " 2662\n",
       " 2663\n",
       " 2664\n",
       " 2665\n",
       " 2666\n",
       " 2667\n",
       " 2668\n",
       " 2669"
      ]
     },
     "execution_count": 36,
     "metadata": {},
     "output_type": "execute_result"
    }
   ],
   "source": [
    "df[:ife] =  categorical(df[:indivID])\n",
    "df[:gtfe] =  categorical(df[:group_timeID])"
   ]
  },
  {
   "cell_type": "code",
   "execution_count": 38,
   "metadata": {},
   "outputs": [
    {
     "name": "stderr",
     "output_type": "stream",
     "text": [
      "┌ Warning: `getindex(df::DataFrame, col_ind::ColumnIndex)` is deprecated, use `df[!, col_ind]` instead.\n",
      "│   caller = parse_fixedeffect(::DataFrame, ::Symbol) at formula_fe.jl:26\n",
      "└ @ FixedEffectModels C:\\Users\\fabia\\.julia\\packages\\FixedEffectModels\\UIBxT\\src\\formula\\formula_fe.jl:26\n",
      "┌ Warning: `getindex(df::DataFrame, col_ind::ColumnIndex)` is deprecated, use `df[!, col_ind]` instead.\n",
      "│   caller = (::getfield(FixedEffectModels, Symbol(\"##7#8\")){DataFrame})(::Symbol) at formula_iv.jl:88\n",
      "└ @ FixedEffectModels C:\\Users\\fabia\\.julia\\packages\\FixedEffectModels\\UIBxT\\src\\formula\\formula_iv.jl:88\n",
      "┌ Warning: `getindex(df::DataFrame, col_ind::ColumnIndex)` is deprecated, use `df[!, col_ind]` instead.\n",
      "│   caller = check_non_redundancy!(::StatsModels.Terms, ::DataFrame) at modelframe.jl:84\n",
      "└ @ StatsModels C:\\Users\\fabia\\.julia\\packages\\StatsModels\\pBxdt\\src\\modelframe.jl:84\n",
      "┌ Warning: `getindex(df::DataFrame, col_ind::ColumnIndex)` is deprecated, use `df[!, col_ind]` instead.\n",
      "│   caller = model_response(::ModelFrame) at modelframe.jl:181\n",
      "└ @ StatsModels C:\\Users\\fabia\\.julia\\packages\\StatsModels\\pBxdt\\src\\modelframe.jl:181\n",
      "┌ Warning: `getindex(df::DataFrame, col_ind::ColumnIndex)` is deprecated, use `df[!, col_ind]` instead.\n",
      "│   caller = #termnames#23(::Bool, ::Function, ::Symbol, ::ModelFrame) at modelframe.jl:204\n",
      "└ @ StatsModels C:\\Users\\fabia\\.julia\\packages\\StatsModels\\pBxdt\\src\\modelframe.jl:204\n",
      "┌ Warning: `getindex(df::DataFrame, col_ind::ColumnIndex)` is deprecated, use `df[!, col_ind]` instead.\n",
      "│   caller = #modelmat_cols#30(::Bool, ::Function, ::Type{Array{Float64,2}}, ::Symbol, ::ModelFrame) at modelmatrix.jl:34\n",
      "└ @ StatsModels C:\\Users\\fabia\\.julia\\packages\\StatsModels\\pBxdt\\src\\modelmatrix.jl:34\n"
     ]
    },
    {
     "ename": "LinearAlgebra.PosDefException",
     "evalue": "PosDefException: matrix is not positive definite; Cholesky factorization failed.",
     "output_type": "error",
     "traceback": [
      "PosDefException: matrix is not positive definite; Cholesky factorization failed.",
      "",
      "Stacktrace:",
      " [1] checkpositivedefinite at C:\\cygwin\\home\\Administrator\\buildbot\\worker\\package_win64\\build\\usr\\share\\julia\\stdlib\\v1.1\\LinearAlgebra\\src\\factorization.jl:11 [inlined]",
      " [2] #cholesky!#96(::Bool, ::Function, ::LinearAlgebra.Symmetric{Float64,Array{Float64,2}}, ::Val{false}) at C:\\cygwin\\home\\Administrator\\buildbot\\worker\\package_win64\\build\\usr\\share\\julia\\stdlib\\v1.1\\LinearAlgebra\\src\\cholesky.jl:153",
      " [3] cholesky! at C:\\cygwin\\home\\Administrator\\buildbot\\worker\\package_win64\\build\\usr\\share\\julia\\stdlib\\v1.1\\LinearAlgebra\\src\\cholesky.jl:152 [inlined] (repeats 2 times)",
      " [4] #reg#30(::Expr, ::Expr, ::Nothing, ::Nothing, ::Int64, ::Dict{Any,Any}, ::Float64, ::Int64, ::Bool, ::Symbol, ::Bool, ::typeof(reg), ::DataFrame, ::Formula) at C:\\Users\\fabia\\.julia\\packages\\FixedEffectModels\\UIBxT\\src\\reg.jl:280",
      " [5] (::getfield(FixedEffectModels, Symbol(\"#kw##reg\")))(::NamedTuple{(:fe, :method),Tuple{Expr,Symbol}}, ::typeof(reg), ::DataFrame, ::Formula) at .\\none:0",
      " [6] #reg#29(::Base.Iterators.Pairs{Symbol,Symbol,Tuple{Symbol},NamedTuple{(:method,),Tuple{Symbol}}}, ::Function, ::DataFrame, ::Model) at C:\\Users\\fabia\\.julia\\packages\\FixedEffectModels\\UIBxT\\src\\reg.jl:36",
      " [7] (::getfield(FixedEffectModels, Symbol(\"#kw##reg\")))(::NamedTuple{(:method,),Tuple{Symbol}}, ::typeof(reg), ::DataFrame, ::Model) at .\\none:0",
      " [8] top-level scope at In[38]:1"
     ]
    }
   ],
   "source": [
    "reg(df, @model(num_closings ~ POST_close+poptot1999+poptot2000+poptot2001+poptot2002+poptot2003+poptot2004+poptot2005+poptot2006+poptot2007+poptot2008+poptot2009+poptot2010+poptot2011+poptot2012+poptot2013+popdensity1999+popdensity2000+popdensity2001+popdensity2002+popdensity2003+popdensity2004+popdensity2005+popdensity2006+popdensity2007+popdensity2008+popdensity2009+popdensity2010+popdensity2011+popdensity2012+popdensity2013+pminority1999+pminority2000+pminority2001+pminority2002+pminority2003+pminority2004+pminority2005+pminority2006+pminority2007+pminority2008+pminority2009+pminority2010+pminority2011+pminority2012+pminority2013+pcollege1999+pcollege2000+pcollege2001+pcollege2002+pcollege2003+pcollege2004+pcollege2005+pcollege2006+pcollege2007+pcollege2008+pcollege2009+pcollege2010+pcollege2011+pcollege2012+pcollege2013+medincome1999+medincome2000+medincome2001+medincome2002+medincome2003+medincome2004+medincome2005+medincome2006+medincome2007+medincome2008+medincome2009+medincome2010+medincome2011+medincome2012+medincome2013+pincome1999+pincome2000+pincome2001+pincome2002+pincome2003+pincome2004+pincome2005+pincome2006+pincome2007+pincome2008+pincome2009+pincome2010+pincome2011+pincome2012+pincome2013+cont_totalbranches1999+cont_totalbranches2000+cont_totalbranches2001+cont_totalbranches2002+cont_totalbranches2003+cont_totalbranches2004+cont_totalbranches2005+cont_totalbranches2006+cont_totalbranches2007+cont_totalbranches2008+cont_totalbranches2009+cont_totalbranches2010+cont_totalbranches2011+cont_totalbranches2012+cont_totalbranches2013+cont_brgrowth1999+cont_brgrowth2000+cont_brgrowth2001+cont_brgrowth2002+cont_brgrowth2003+cont_brgrowth2004+cont_brgrowth2005+cont_brgrowth2006+cont_brgrowth2007+cont_brgrowth2008+cont_brgrowth2009+cont_brgrowth2010+cont_brgrowth2011+cont_brgrowth2012+cont_brgrowth2013, fe = ife + gtfe), method = :lsmr_parallel)"
   ]
  },
  {
   "cell_type": "code",
   "execution_count": null,
   "metadata": {},
   "outputs": [],
   "source": []
  }
 ],
 "metadata": {
  "kernelspec": {
   "display_name": "Julia 1.1.1",
   "language": "julia",
   "name": "julia-1.1"
  },
  "language_info": {
   "file_extension": ".jl",
   "mimetype": "application/julia",
   "name": "julia",
   "version": "1.1.1"
  }
 },
 "nbformat": 4,
 "nbformat_minor": 2
}
